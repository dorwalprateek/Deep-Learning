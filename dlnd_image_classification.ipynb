{
 "cells": [
  {
   "cell_type": "markdown",
   "metadata": {
    "collapsed": true,
    "deletable": true,
    "editable": true
   },
   "source": [
    "# Image Classification\n",
    "In this project, you'll classify images from the [CIFAR-10 dataset](https://www.cs.toronto.edu/~kriz/cifar.html).  The dataset consists of airplanes, dogs, cats, and other objects. You'll preprocess the images, then train a convolutional neural network on all the samples. The images need to be normalized and the labels need to be one-hot encoded.  You'll get to apply what you learned and build a convolutional, max pooling, dropout, and fully connected layers.  At the end, you'll get to see your neural network's predictions on the sample images.\n",
    "## Get the Data\n",
    "Run the following cell to download the [CIFAR-10 dataset for python](https://www.cs.toronto.edu/~kriz/cifar-10-python.tar.gz)."
   ]
  },
  {
   "cell_type": "code",
   "execution_count": 1,
   "metadata": {
    "collapsed": false,
    "deletable": true,
    "editable": true
   },
   "outputs": [
    {
     "name": "stderr",
     "output_type": "stream",
     "text": [
      "CIFAR-10 Dataset: 171MB [00:31, 5.42MB/s]                              \n"
     ]
    },
    {
     "name": "stdout",
     "output_type": "stream",
     "text": [
      "All files found!\n"
     ]
    }
   ],
   "source": [
    "\"\"\"\n",
    "DON'T MODIFY ANYTHING IN THIS CELL THAT IS BELOW THIS LINE\n",
    "\"\"\"\n",
    "from urllib.request import urlretrieve\n",
    "from os.path import isfile, isdir\n",
    "from tqdm import tqdm\n",
    "import problem_unittests as tests\n",
    "import tarfile\n",
    "\n",
    "cifar10_dataset_folder_path = 'cifar-10-batches-py'\n",
    "\n",
    "class DLProgress(tqdm):\n",
    "    last_block = 0\n",
    "\n",
    "    def hook(self, block_num=1, block_size=1, total_size=None):\n",
    "        self.total = total_size\n",
    "        self.update((block_num - self.last_block) * block_size)\n",
    "        self.last_block = block_num\n",
    "\n",
    "if not isfile('cifar-10-python.tar.gz'):\n",
    "    with DLProgress(unit='B', unit_scale=True, miniters=1, desc='CIFAR-10 Dataset') as pbar:\n",
    "        urlretrieve(\n",
    "            'https://www.cs.toronto.edu/~kriz/cifar-10-python.tar.gz',\n",
    "            'cifar-10-python.tar.gz',\n",
    "            pbar.hook)\n",
    "\n",
    "if not isdir(cifar10_dataset_folder_path):\n",
    "    with tarfile.open('cifar-10-python.tar.gz') as tar:\n",
    "        tar.extractall()\n",
    "        tar.close()\n",
    "\n",
    "\n",
    "tests.test_folder_path(cifar10_dataset_folder_path)"
   ]
  },
  {
   "cell_type": "markdown",
   "metadata": {
    "deletable": true,
    "editable": true
   },
   "source": [
    "## Explore the Data\n",
    "The dataset is broken into batches to prevent your machine from running out of memory.  The CIFAR-10 dataset consists of 5 batches, named `data_batch_1`, `data_batch_2`, etc.. Each batch contains the labels and images that are one of the following:\n",
    "* airplane\n",
    "* automobile\n",
    "* bird\n",
    "* cat\n",
    "* deer\n",
    "* dog\n",
    "* frog\n",
    "* horse\n",
    "* ship\n",
    "* truck\n",
    "\n",
    "Understanding a dataset is part of making predictions on the data.  Play around with the code cell below by changing the `batch_id` and `sample_id`. The `batch_id` is the id for a batch (1-5). The `sample_id` is the id for a image and label pair in the batch.\n",
    "\n",
    "Ask yourself \"What are all possible labels?\", \"What is the range of values for the image data?\", \"Are the labels in order or random?\".  Answers to questions like these will help you preprocess the data and end up with better predictions."
   ]
  },
  {
   "cell_type": "code",
   "execution_count": 3,
   "metadata": {
    "collapsed": false,
    "deletable": true,
    "editable": true
   },
   "outputs": [
    {
     "name": "stdout",
     "output_type": "stream",
     "text": [
      "\n",
      "Stats of batch 1:\n",
      "Samples: 10000\n",
      "Label Counts: {0: 1005, 1: 974, 2: 1032, 3: 1016, 4: 999, 5: 937, 6: 1030, 7: 1001, 8: 1025, 9: 981}\n",
      "First 20 Labels: [6, 9, 9, 4, 1, 1, 2, 7, 8, 3, 4, 7, 7, 2, 9, 9, 9, 3, 2, 6]\n",
      "\n",
      "Example of Image 9999:\n",
      "Image - Min Value: 4 Max Value: 252\n",
      "Image - Shape: (32, 32, 3)\n",
      "Label - Label Id: 5 Name: dog\n"
     ]
    },
    {
     "data": {
      "image/png": "[encoded data removed]",
      "text/plain": [
       "<matplotlib.figure.Figure at 0x7f8d9b5d24a8>"
      ]
     },
     "metadata": {
      "image/png": {
       "height": 250,
       "width": 253
      }
     },
     "output_type": "display_data"
    }
   ],
   "source": [
    "%matplotlib inline\n",
    "%config InlineBackend.figure_format = 'retina'\n",
    "\n",
    "import helper\n",
    "import numpy as np\n",
    "\n",
    "# Explore the dataset\n",
    "batch_id = 1\n",
    "sample_id = 9999\n",
    "helper.display_stats(cifar10_dataset_folder_path, batch_id, sample_id)"
   ]
  },
  {
   "cell_type": "markdown",
   "metadata": {
    "deletable": true,
    "editable": true
   },
   "source": [
    "## Implement Preprocess Functions\n",
    "### Normalize\n",
    "In the cell below, implement the `normalize` function to take in image data, `x`, and return it as a normalized Numpy array. The values should be in the range of 0 to 1, inclusive.  The return object should be the same shape as `x`."
   ]
  },
  {
   "cell_type": "code",
   "execution_count": 15,
   "metadata": {
    "collapsed": false,
    "deletable": true,
    "editable": true
   },
   "outputs": [
    {
     "name": "stdout",
     "output_type": "stream",
     "text": [
      "Tests Passed\n"
     ]
    }
   ],
   "source": [
    "def normalize(x):\n",
    "    \"\"\"\n",
    "    Normalize a list of sample image data in the range of 0 to 1\n",
    "    : x: List of image data.  The image shape is (32, 32, 3)\n",
    "    : return: Numpy array of normalize data\n",
    "    \"\"\"\n",
    "    # TODO: Implement Function\n",
    "    a = 0.0\n",
    "    b = 1.0\n",
    "    grayscale_min = 0\n",
    "    grayscale_max = 255\n",
    "    return a + ( ( (x - grayscale_min)*(b - a) )/( grayscale_max - grayscale_min ) )\n",
    "    \n",
    "\n",
    "\n",
    "\"\"\"\n",
    "DON'T MODIFY ANYTHING IN THIS CELL THAT IS BELOW THIS LINE\n",
    "\"\"\"\n",
    "tests.test_normalize(normalize)"
   ]
  },
  {
   "cell_type": "markdown",
   "metadata": {
    "deletable": true,
    "editable": true
   },
   "source": [
    "### One-hot encode\n",
    "Just like the previous code cell, you'll be implementing a function for preprocessing.  This time, you'll implement the `one_hot_encode` function. The input, `x`, are a list of labels.  Implement the function to return the list of labels as One-Hot encoded Numpy array.  The possible values for labels are 0 to 9. The one-hot encoding function should return the same encoding for each value between each call to `one_hot_encode`.  Make sure to save the map of encodings outside the function.\n",
    "\n",
    "Hint: Don't reinvent the wheel."
   ]
  },
  {
   "cell_type": "code",
   "execution_count": 16,
   "metadata": {
    "collapsed": false,
    "deletable": true,
    "editable": true
   },
   "outputs": [
    {
     "name": "stdout",
     "output_type": "stream",
     "text": [
      "Tests Passed\n"
     ]
    }
   ],
   "source": [
    "from sklearn.preprocessing import OneHotEncoder, MultiLabelBinarizer, LabelBinarizer\n",
    "enc = LabelBinarizer()\n",
    "enc.fit(range(10))\n",
    "    \n",
    "def one_hot_encode(x):\n",
    "    \"\"\"\n",
    "    One hot encode a list of sample labels. Return a one-hot encoded vector for each label.\n",
    "    : x: List of sample Labels\n",
    "    : return: Numpy array of one-hot encoded labels\n",
    "    \"\"\"\n",
    "    # TODO: Implement Function\n",
    "    \n",
    "    return enc.transform(x)\n",
    "\n",
    "\n",
    "\"\"\"\n",
    "DON'T MODIFY ANYTHING IN THIS CELL THAT IS BELOW THIS LINE\n",
    "\"\"\"\n",
    "tests.test_one_hot_encode(one_hot_encode)"
   ]
  },
  {
   "cell_type": "markdown",
   "metadata": {
    "deletable": true,
    "editable": true
   },
   "source": [
    "### Randomize Data\n",
    "As you saw from exploring the data above, the order of the samples are randomized.  It doesn't hurt to randomize it again, but you don't need to for this dataset."
   ]
  },
  {
   "cell_type": "markdown",
   "metadata": {
    "deletable": true,
    "editable": true
   },
   "source": [
    "## Preprocess all the data and save it\n",
    "Running the code cell below will preprocess all the CIFAR-10 data and save it to file. The code below also uses 10% of the training data for validation."
   ]
  },
  {
   "cell_type": "code",
   "execution_count": 17,
   "metadata": {
    "collapsed": false,
    "deletable": true,
    "editable": true
   },
   "outputs": [],
   "source": [
    "\"\"\"\n",
    "DON'T MODIFY ANYTHING IN THIS CELL\n",
    "\"\"\"\n",
    "# Preprocess Training, Validation, and Testing Data\n",
    "helper.preprocess_and_save_data(cifar10_dataset_folder_path, normalize, one_hot_encode)"
   ]
  },
  {
   "cell_type": "markdown",
   "metadata": {
    "deletable": true,
    "editable": true
   },
   "source": [
    "# Check Point\n",
    "This is your first checkpoint.  If you ever decide to come back to this notebook or have to restart the notebook, you can start from here.  The preprocessed data has been saved to disk."
   ]
  },
  {
   "cell_type": "code",
   "execution_count": 1,
   "metadata": {
    "collapsed": true,
    "deletable": true,
    "editable": true
   },
   "outputs": [],
   "source": [
    "\"\"\"\n",
    "DON'T MODIFY ANYTHING IN THIS CELL\n",
    "\"\"\"\n",
    "import pickle\n",
    "import problem_unittests as tests\n",
    "import helper\n",
    "\n",
    "# Load the Preprocessed Validation data\n",
    "valid_features, valid_labels = pickle.load(open('preprocess_validation.p', mode='rb'))"
   ]
  },
  {
   "cell_type": "markdown",
   "metadata": {
    "deletable": true,
    "editable": true
   },
   "source": [
    "## Build the network\n",
    "For the neural network, you'll build each layer into a function.  Most of the code you've seen has been outside of functions. To test your code more thoroughly, we require that you put each layer in a function.  This allows us to give you better feedback and test for simple mistakes using our unittests before you submit your project.\n",
    "\n",
    ">**Note:** If you're finding it hard to dedicate enough time for this course each week, we've provided a small shortcut to this part of the project. In the next couple of problems, you'll have the option to use classes from the [TensorFlow Layers](https://www.tensorflow.org/api_docs/python/tf/layers) or [TensorFlow Layers (contrib)](https://www.tensorflow.org/api_guides/python/contrib.layers) packages to build each layer, except the layers you build in the \"Convolutional and Max Pooling Layer\" section.  TF Layers is similar to Keras's and TFLearn's abstraction to layers, so it's easy to pickup.\n",
    "\n",
    ">However, if you would like to get the most out of this course, try to solve all the problems _without_ using anything from the TF Layers packages. You **can** still use classes from other packages that happen to have the same name as ones you find in TF Layers! For example, instead of using the TF Layers version of the `conv2d` class, [tf.layers.conv2d](https://www.tensorflow.org/api_docs/python/tf/layers/conv2d), you would want to use the TF Neural Network version of `conv2d`, [tf.nn.conv2d](https://www.tensorflow.org/api_docs/python/tf/nn/conv2d). \n",
    "\n",
    "Let's begin!\n",
    "\n",
    "### Input\n",
    "The neural network needs to read the image data, one-hot encoded labels, and dropout keep probability. Implement the following functions\n",
    "* Implement `neural_net_image_input`\n",
    " * Return a [TF Placeholder](https://www.tensorflow.org/api_docs/python/tf/placeholder)\n",
    " * Set the shape using `image_shape` with batch size set to `None`.\n",
    " * Name the TensorFlow placeholder \"x\" using the TensorFlow `name` parameter in the [TF Placeholder](https://www.tensorflow.org/api_docs/python/tf/placeholder).\n",
    "* Implement `neural_net_label_input`\n",
    " * Return a [TF Placeholder](https://www.tensorflow.org/api_docs/python/tf/placeholder)\n",
    " * Set the shape using `n_classes` with batch size set to `None`.\n",
    " * Name the TensorFlow placeholder \"y\" using the TensorFlow `name` parameter in the [TF Placeholder](https://www.tensorflow.org/api_docs/python/tf/placeholder).\n",
    "* Implement `neural_net_keep_prob_input`\n",
    " * Return a [TF Placeholder](https://www.tensorflow.org/api_docs/python/tf/placeholder) for dropout keep probability.\n",
    " * Name the TensorFlow placeholder \"keep_prob\" using the TensorFlow `name` parameter in the [TF Placeholder](https://www.tensorflow.org/api_docs/python/tf/placeholder).\n",
    "\n",
    "These names will be used at the end of the project to load your saved model.\n",
    "\n",
    "Note: `None` for shapes in TensorFlow allow for a dynamic size."
   ]
  },
  {
   "cell_type": "code",
   "execution_count": 2,
   "metadata": {
    "collapsed": false,
    "deletable": true,
    "editable": true
   },
   "outputs": [
    {
     "name": "stdout",
     "output_type": "stream",
     "text": [
      "Image Input Tests Passed.\n",
      "Label Input Tests Passed.\n",
      "Keep Prob Tests Passed.\n"
     ]
    }
   ],
   "source": [
    "import tensorflow as tf\n",
    "\n",
    "def neural_net_image_input(image_shape):\n",
    "    \"\"\"\n",
    "    Return a Tensor for a bach of image input\n",
    "    : image_shape: Shape of the images\n",
    "    : return: Tensor for image input.\n",
    "    \"\"\"\n",
    "    # TODO: Implement Function\n",
    "    x=tf.placeholder(tf.float32,shape=[None,*image_shape],name='x')\n",
    "    return x\n",
    "\n",
    "\n",
    "def neural_net_label_input(n_classes):\n",
    "    \"\"\"\n",
    "    Return a Tensor for a batch of label input\n",
    "    : n_classes: Number of classes\n",
    "    : return: Tensor for label input.\n",
    "    \"\"\"\n",
    "    # TODO: Implement Function\n",
    "    y=tf.placeholder(tf.float32,shape=(None,n_classes),name='y')\n",
    "    return y\n",
    "\n",
    "\n",
    "def neural_net_keep_prob_input():\n",
    "    \"\"\"\n",
    "    Return a Tensor for keep probability\n",
    "    : return: Tensor for keep probability.\n",
    "    \"\"\"\n",
    "    # TODO: Implement Function\n",
    "    keep_prob=tf.placeholder(tf.float32,name='keep_prob')\n",
    "    return keep_prob\n",
    "\n",
    "\n",
    "\"\"\"\n",
    "DON'T MODIFY ANYTHING IN THIS CELL THAT IS BELOW THIS LINE\n",
    "\"\"\"\n",
    "tf.reset_default_graph()\n",
    "tests.test_nn_image_inputs(neural_net_image_input)\n",
    "tests.test_nn_label_inputs(neural_net_label_input)\n",
    "tests.test_nn_keep_prob_inputs(neural_net_keep_prob_input)"
   ]
  },
  {
   "cell_type": "markdown",
   "metadata": {
    "deletable": true,
    "editable": true
   },
   "source": [
    "### Convolution and Max Pooling Layer\n",
    "Convolution layers have a lot of success with images. For this code cell, you should implement the function `conv2d_maxpool` to apply convolution then max pooling:\n",
    "* Create the weight and bias using `conv_ksize`, `conv_num_outputs` and the shape of `x_tensor`.\n",
    "* Apply a convolution to `x_tensor` using weight and `conv_strides`.\n",
    " * We recommend you use same padding, but you're welcome to use any padding.\n",
    "* Add bias\n",
    "* Add a nonlinear activation to the convolution.\n",
    "* Apply Max Pooling using `pool_ksize` and `pool_strides`.\n",
    " * We recommend you use same padding, but you're welcome to use any padding.\n",
    "\n",
    "**Note:** You **can't** use [TensorFlow Layers](https://www.tensorflow.org/api_docs/python/tf/layers) or [TensorFlow Layers (contrib)](https://www.tensorflow.org/api_guides/python/contrib.layers) for **this** layer, but you can still use TensorFlow's [Neural Network](https://www.tensorflow.org/api_docs/python/tf/nn) package. You may still use the shortcut option for all the **other** layers."
   ]
  },
  {
   "cell_type": "code",
   "execution_count": 3,
   "metadata": {
    "collapsed": false,
    "deletable": true,
    "editable": true
   },
   "outputs": [
    {
     "name": "stdout",
     "output_type": "stream",
     "text": [
      "Tests Passed\n"
     ]
    }
   ],
   "source": [
    "def conv2d_maxpool(x_tensor, conv_num_outputs, conv_ksize, conv_strides, pool_ksize, pool_strides):\n",
    "    \"\"\"\n",
    "    Apply convolution then max pooling to x_tensor\n",
    "    :param x_tensor: TensorFlow Tensor\n",
    "    :param conv_num_outputs: Number of outputs for the convolutional layer\n",
    "    :param conv_ksize: kernal size 2-D Tuple for the convolutional layer\n",
    "    :param conv_strides: Stride 2-D Tuple for convolution\n",
    "    :param pool_ksize: kernal size 2-D Tuple for pool\n",
    "    :param pool_strides: Stride 2-D Tuple for pool\n",
    "    : return: A tensor that represents convolution and max pooling of x_tensor\n",
    "    \"\"\"\n",
    "    # TODO: Implement Function\n",
    "    weight = tf.Variable(tf.truncated_normal([*conv_ksize,x_tensor.shape[3].value,conv_num_outputs], stddev=0.05))\n",
    "    bias = tf.Variable(tf.zeros(conv_num_outputs))\n",
    "    conv_layer = tf.nn.conv2d(x_tensor, weight, strides=[1,conv_strides[0],conv_strides[1],1], padding='SAME')\n",
    "    conv_layer = tf.nn.bias_add(conv_layer, bias)\n",
    "    #conv_layer = tf.nn.relu(conv_layer)\n",
    "    conv_layer = tf.nn.max_pool(conv_layer,ksize=[1,pool_ksize[0],pool_ksize[1],1],\n",
    "                               strides=[1,pool_strides[0],pool_strides[1],1],\n",
    "                               padding='SAME')\n",
    "    return conv_layer \n",
    "\n",
    "\n",
    "\"\"\"\n",
    "DON'T MODIFY ANYTHING IN THIS CELL THAT IS BELOW THIS LINE\n",
    "\"\"\"\n",
    "tests.test_con_pool(conv2d_maxpool)"
   ]
  },
  {
   "cell_type": "markdown",
   "metadata": {
    "deletable": true,
    "editable": true
   },
   "source": [
    "### Flatten Layer\n",
    "Implement the `flatten` function to change the dimension of `x_tensor` from a 4-D tensor to a 2-D tensor.  The output should be the shape (*Batch Size*, *Flattened Image Size*). Shortcut option: you can use classes from the [TensorFlow Layers](https://www.tensorflow.org/api_docs/python/tf/layers) or [TensorFlow Layers (contrib)](https://www.tensorflow.org/api_guides/python/contrib.layers) packages for this layer. For more of a challenge, only use other TensorFlow packages."
   ]
  },
  {
   "cell_type": "code",
   "execution_count": 4,
   "metadata": {
    "collapsed": false,
    "deletable": true,
    "editable": true
   },
   "outputs": [
    {
     "name": "stdout",
     "output_type": "stream",
     "text": [
      "Tests Passed\n"
     ]
    }
   ],
   "source": [
    "def flatten(x_tensor):\n",
    "    \"\"\"\n",
    "    Flatten x_tensor to (Batch Size, Flattened Image Size)\n",
    "    : x_tensor: A tensor of size (Batch Size, ...), where ... are the image dimensions.\n",
    "    : return: A tensor of size (Batch Size, Flattened Image Size).\n",
    "    \"\"\"\n",
    "    # TODO: Implement Function\n",
    "    #import numpy as np\n",
    "    #shape = x_tensor.get_shape().as_list()\n",
    "    #dim = np.prod(shape[1:])\n",
    "    #return tf.reshape(x_tensor,[-1,dim])\n",
    "    return tf.contrib.layers.flatten(x_tensor)\n",
    "\n",
    "\n",
    "\"\"\"\n",
    "DON'T MODIFY ANYTHING IN THIS CELL THAT IS BELOW THIS LINE\n",
    "\"\"\"\n",
    "tests.test_flatten(flatten)"
   ]
  },
  {
   "cell_type": "markdown",
   "metadata": {
    "deletable": true,
    "editable": true
   },
   "source": [
    "### Fully-Connected Layer\n",
    "Implement the `fully_conn` function to apply a fully connected layer to `x_tensor` with the shape (*Batch Size*, *num_outputs*). Shortcut option: you can use classes from the [TensorFlow Layers](https://www.tensorflow.org/api_docs/python/tf/layers) or [TensorFlow Layers (contrib)](https://www.tensorflow.org/api_guides/python/contrib.layers) packages for this layer. For more of a challenge, only use other TensorFlow packages."
   ]
  },
  {
   "cell_type": "code",
   "execution_count": 21,
   "metadata": {
    "collapsed": false,
    "deletable": true,
    "editable": true
   },
   "outputs": [
    {
     "name": "stdout",
     "output_type": "stream",
     "text": [
      "(?, 128)\n",
      "Tests Passed\n"
     ]
    }
   ],
   "source": [
    "def fully_conn(x_tensor, num_outputs):\n",
    "    \"\"\"\n",
    "    Apply a fully connected layer to x_tensor using weight and bias\n",
    "    : x_tensor: A 2-D tensor where the first dimension is batch size.\n",
    "    : num_outputs: The number of output that the new tensor should be.\n",
    "    : return: A 2-D tensor where the second dimension is num_outputs.\n",
    "    \"\"\"\n",
    "    # TODO: Implement Function\n",
    "    #layer = tf.contrib.layers.fully_connected(inputs = x_tensor, num_outputs=num_outputs)\n",
    "    \n",
    "    datasize = x_tensor.get_shape().as_list()[1]\n",
    "    weight = tf.Variable(tf.truncated_normal([datasize, num_outputs],stddev=0.05))\n",
    "    bias = tf.Variable(tf.zeros(num_outputs))\n",
    "    out = tf.add(tf.matmul(x_tensor, weight), bias)\n",
    "    out = tf.nn.relu(out)\n",
    "    return out\n",
    "    \n",
    "    \n",
    "\n",
    "\n",
    "\"\"\"\n",
    "DON'T MODIFY ANYTHING IN THIS CELL THAT IS BELOW THIS LINE\n",
    "\"\"\"\n",
    "tests.test_fully_conn(fully_conn)"
   ]
  },
  {
   "cell_type": "markdown",
   "metadata": {
    "deletable": true,
    "editable": true
   },
   "source": [
    "### Output Layer\n",
    "Implement the `output` function to apply a fully connected layer to `x_tensor` with the shape (*Batch Size*, *num_outputs*). Shortcut option: you can use classes from the [TensorFlow Layers](https://www.tensorflow.org/api_docs/python/tf/layers) or [TensorFlow Layers (contrib)](https://www.tensorflow.org/api_guides/python/contrib.layers) packages for this layer. For more of a challenge, only use other TensorFlow packages.\n",
    "\n",
    "**Note:** Activation, softmax, or cross entropy should **not** be applied to this."
   ]
  },
  {
   "cell_type": "code",
   "execution_count": 6,
   "metadata": {
    "collapsed": false,
    "deletable": true,
    "editable": true
   },
   "outputs": [
    {
     "name": "stdout",
     "output_type": "stream",
     "text": [
      "Tests Passed\n"
     ]
    }
   ],
   "source": [
    "def output(x_tensor, num_outputs):\n",
    "    \"\"\"\n",
    "    Apply a output layer to x_tensor using weight and bias\n",
    "    : x_tensor: A 2-D tensor where the first dimension is batch size.\n",
    "    : num_outputs: The number of output that the new tensor should be.\n",
    "    : return: A 2-D tensor where the second dimension is num_outputs.\n",
    "    \"\"\"\n",
    "    # TODO: Implement Function\n",
    "    size = x_tensor.get_shape().as_list()\n",
    "    weights = tf.Variable(tf.truncated_normal((size[1], num_outputs), stddev=0.05))\n",
    "    bias = tf.Variable(tf.zeros(num_outputs))\n",
    "    dense = tf.add(tf.matmul(x_tensor, weights), bias)\n",
    "    out = tf.nn.softmax(dense)\n",
    "    return out\n",
    "\n",
    "\n",
    "\"\"\"\n",
    "DON'T MODIFY ANYTHING IN THIS CELL THAT IS BELOW THIS LINE\n",
    "\"\"\"\n",
    "tests.test_output(output)"
   ]
  },
  {
   "cell_type": "markdown",
   "metadata": {
    "deletable": true,
    "editable": true
   },
   "source": [
    "### Create Convolutional Model\n",
    "Implement the function `conv_net` to create a convolutional neural network model. The function takes in a batch of images, `x`, and outputs logits.  Use the layers you created above to create this model:\n",
    "\n",
    "* Apply 1, 2, or 3 Convolution and Max Pool layers\n",
    "* Apply a Flatten Layer\n",
    "* Apply 1, 2, or 3 Fully Connected Layers\n",
    "* Apply an Output Layer\n",
    "* Return the output\n",
    "* Apply [TensorFlow's Dropout](https://www.tensorflow.org/api_docs/python/tf/nn/dropout) to one or more layers in the model using `keep_prob`. "
   ]
  },
  {
   "cell_type": "code",
   "execution_count": 16,
   "metadata": {
    "collapsed": false,
    "deletable": true,
    "editable": true
   },
   "outputs": [
    {
     "name": "stdout",
     "output_type": "stream",
     "text": [
      "(?, 640)\n",
      "(?, 64)\n",
      "(?, 64)\n",
      "(?, 640)\n",
      "(?, 64)\n",
      "(?, 64)\n",
      "Neural Network Built!\n"
     ]
    }
   ],
   "source": [
    "def conv_net(x, keep_prob):\n",
    "    \"\"\"\n",
    "    Create a convolutional neural network model\n",
    "    : x: Placeholder tensor that holds image data.\n",
    "    : keep_prob: Placeholder tensor that hold dropout keep probability.\n",
    "    : return: Tensor that represents logits\n",
    "    \"\"\"\n",
    "    # TODO: Apply 1, 2, or 3 Convolution and Max Pool layers\n",
    "    #    Play around with different number of outputs, kernel size and stride\n",
    "    # Function Definition from Above:\n",
    "\n",
    "    \n",
    "    conv=conv2d_maxpool(x,10,(3,3),(1,1),(2,2),(2,2))\n",
    "    conv=conv2d_maxpool(conv,20,(3,3),(1,1),(2,2),(2,2))\n",
    "    conv=conv2d_maxpool(conv,40,(3,3),(1,1),(2,2),(2,2))\n",
    "    \n",
    "\n",
    "    # TODO: Apply a Flatten Layer\n",
    "    # Function Definition from Above:\n",
    "    conv = flatten(conv)\n",
    "    \n",
    "\n",
    "    # TODO: Apply 1, 2, or 3 Fully Connected Layers\n",
    "    #    Play around with different number of outputs\n",
    "    # Function Definition from Above:\n",
    "    conv = fully_conn(conv, 64)\n",
    "    conv = fully_conn(conv, 64)\n",
    "    conv = fully_conn(conv, 20)\n",
    "    conv = tf.nn.dropout(conv, keep_prob)\n",
    "    \n",
    "    \n",
    "    # TODO: Apply an Output Layer\n",
    "    #    Set this to the number of classes\n",
    "    # Function Definition from Above:\n",
    "    conv = output(conv, 10)\n",
    "    \n",
    "    \n",
    "    # TODO: return output\n",
    "    return conv\n",
    "\n",
    "\n",
    "\"\"\"\n",
    "DON'T MODIFY ANYTHING IN THIS CELL THAT IS BELOW THIS LINE\n",
    "\"\"\"\n",
    "\n",
    "##############################\n",
    "## Build the Neural Network ##\n",
    "##############################\n",
    "\n",
    "# Remove previous weights, bias, inputs, etc..\n",
    "tf.reset_default_graph()\n",
    "\n",
    "# Inputs\n",
    "x = neural_net_image_input((32, 32, 3))\n",
    "y = neural_net_label_input(10)\n",
    "keep_prob = neural_net_keep_prob_input()\n",
    "\n",
    "# Model\n",
    "logits = conv_net(x, keep_prob)\n",
    "\n",
    "# Name logits Tensor, so that is can be loaded from disk after training\n",
    "logits = tf.identity(logits, name='logits')\n",
    "\n",
    "# Loss and Optimizer\n",
    "cost = tf.reduce_mean(tf.nn.softmax_cross_entropy_with_logits(logits=logits, labels=y))\n",
    "optimizer = tf.train.AdamOptimizer().minimize(cost)\n",
    "\n",
    "# Accuracy\n",
    "correct_pred = tf.equal(tf.argmax(logits, 1), tf.argmax(y, 1))\n",
    "accuracy = tf.reduce_mean(tf.cast(correct_pred, tf.float32), name='accuracy')\n",
    "\n",
    "tests.test_conv_net(conv_net)"
   ]
  },
  {
   "cell_type": "markdown",
   "metadata": {
    "deletable": true,
    "editable": true
   },
   "source": [
    "## Train the Neural Network\n",
    "### Single Optimization\n",
    "Implement the function `train_neural_network` to do a single optimization.  The optimization should use `optimizer` to optimize in `session` with a `feed_dict` of the following:\n",
    "* `x` for image input\n",
    "* `y` for labels\n",
    "* `keep_prob` for keep probability for dropout\n",
    "\n",
    "This function will be called for each batch, so `tf.global_variables_initializer()` has already been called.\n",
    "\n",
    "Note: Nothing needs to be returned. This function is only optimizing the neural network."
   ]
  },
  {
   "cell_type": "code",
   "execution_count": 8,
   "metadata": {
    "collapsed": false,
    "deletable": true,
    "editable": true
   },
   "outputs": [
    {
     "name": "stdout",
     "output_type": "stream",
     "text": [
      "Tests Passed\n"
     ]
    }
   ],
   "source": [
    "def train_neural_network(session, optimizer, keep_probability, feature_batch, label_batch):\n",
    "    \"\"\"\n",
    "    Optimize the session on a batch of images and labels\n",
    "    : session: Current TensorFlow session\n",
    "    : optimizer: TensorFlow optimizer function\n",
    "    : keep_probability: keep probability\n",
    "    : feature_batch: Batch of Numpy image data\n",
    "    : label_batch: Batch of Numpy label data\n",
    "    \"\"\"\n",
    "    # TODO: Implement Function\n",
    "    session.run(optimizer, feed_dict={x: feature_batch, y: label_batch, keep_prob: keep_probability})\n",
    "\n",
    "\n",
    "\"\"\"\n",
    "DON'T MODIFY ANYTHING IN THIS CELL THAT IS BELOW THIS LINE\n",
    "\"\"\"\n",
    "tests.test_train_nn(train_neural_network)"
   ]
  },
  {
   "cell_type": "markdown",
   "metadata": {
    "deletable": true,
    "editable": true
   },
   "source": [
    "### Show Stats\n",
    "Implement the function `print_stats` to print loss and validation accuracy.  Use the global variables `valid_features` and `valid_labels` to calculate validation accuracy.  Use a keep probability of `1.0` to calculate the loss and validation accuracy."
   ]
  },
  {
   "cell_type": "code",
   "execution_count": 9,
   "metadata": {
    "collapsed": false,
    "deletable": true,
    "editable": true
   },
   "outputs": [],
   "source": [
    "def print_stats(session, feature_batch, label_batch, cost, accuracy):\n",
    "    \"\"\"\n",
    "    Print information about loss and validation accuracy\n",
    "    : session: Current TensorFlow session\n",
    "    : feature_batch: Batch of Numpy image data\n",
    "    : label_batch: Batch of Numpy label data\n",
    "    : cost: TensorFlow cost function\n",
    "    : accuracy: TensorFlow accuracy function\n",
    "    \"\"\"\n",
    "    # TODO: Implement Function\n",
    "    validation_accuracy = session.run(accuracy, feed_dict={\n",
    "        x : feature_batch,\n",
    "        y : label_batch,\n",
    "        keep_prob:1.0}\n",
    "    )\n",
    "    loss = session.run(cost, feed_dict={\n",
    "        x : feature_batch,\n",
    "        y : label_batch,\n",
    "        keep_prob:1.0}\n",
    "    )\n",
    "    print(\"Validation accurancy : {}, {}\".format(validation_accuracy, loss))"
   ]
  },
  {
   "cell_type": "markdown",
   "metadata": {
    "deletable": true,
    "editable": true
   },
   "source": [
    "### Hyperparameters\n",
    "Tune the following parameters:\n",
    "* Set `epochs` to the number of iterations until the network stops learning or start overfitting\n",
    "* Set `batch_size` to the highest number that your machine has memory for.  Most people set them to common sizes of memory:\n",
    " * 64\n",
    " * 128\n",
    " * 256\n",
    " * ...\n",
    "* Set `keep_probability` to the probability of keeping a node using dropout"
   ]
  },
  {
   "cell_type": "code",
   "execution_count": 20,
   "metadata": {
    "collapsed": true,
    "deletable": true,
    "editable": true
   },
   "outputs": [],
   "source": [
    "# TODO: Tune Parameters\n",
    "epochs = 100\n",
    "batch_size = 256\n",
    "keep_probability = 0.5"
   ]
  },
  {
   "cell_type": "markdown",
   "metadata": {
    "deletable": true,
    "editable": true
   },
   "source": [
    "### Train on a Single CIFAR-10 Batch\n",
    "Instead of training the neural network on all the CIFAR-10 batches of data, let's use a single batch. This should save time while you iterate on the model to get a better accuracy.  Once the final validation accuracy is 50% or greater, run the model on all the data in the next section."
   ]
  },
  {
   "cell_type": "code",
   "execution_count": 22,
   "metadata": {
    "collapsed": false,
    "deletable": true,
    "editable": true
   },
   "outputs": [
    {
     "name": "stdout",
     "output_type": "stream",
     "text": [
      "Checking the Training on a Single Batch...\n",
      "Epoch  1, CIFAR-10 Batch 1:  Validation accurancy : 0.125, 2.276177406311035\n",
      "Epoch  2, CIFAR-10 Batch 1:  Validation accurancy : 0.20000000298023224, 2.2486510276794434\n",
      "Epoch  3, CIFAR-10 Batch 1:  Validation accurancy : 0.2750000059604645, 2.19808030128479\n",
      "Epoch  4, CIFAR-10 Batch 1:  Validation accurancy : 0.22500000894069672, 2.191829204559326\n",
      "Epoch  5, CIFAR-10 Batch 1:  Validation accurancy : 0.25, 2.180546283721924\n",
      "Epoch  6, CIFAR-10 Batch 1:  Validation accurancy : 0.25, 2.171640157699585\n",
      "Epoch  7, CIFAR-10 Batch 1:  Validation accurancy : 0.3499999940395355, 2.1685986518859863\n",
      "Epoch  8, CIFAR-10 Batch 1:  Validation accurancy : 0.22500000894069672, 2.183770179748535\n",
      "Epoch  9, CIFAR-10 Batch 1:  Validation accurancy : 0.30000001192092896, 2.1612865924835205\n",
      "Epoch 10, CIFAR-10 Batch 1:  Validation accurancy : 0.32499998807907104, 2.156186103820801\n",
      "Epoch 11, CIFAR-10 Batch 1:  Validation accurancy : 0.30000001192092896, 2.143921375274658\n",
      "Epoch 12, CIFAR-10 Batch 1:  Validation accurancy : 0.32499998807907104, 2.1220898628234863\n",
      "Epoch 13, CIFAR-10 Batch 1:  Validation accurancy : 0.3500000238418579, 2.1044931411743164\n",
      "Epoch 14, CIFAR-10 Batch 1:  Validation accurancy : 0.375, 2.105963706970215\n",
      "Epoch 15, CIFAR-10 Batch 1:  Validation accurancy : 0.40000003576278687, 2.0688347816467285\n",
      "Epoch 16, CIFAR-10 Batch 1:  Validation accurancy : 0.40000003576278687, 2.061209201812744\n",
      "Epoch 17, CIFAR-10 Batch 1:  Validation accurancy : 0.3500000238418579, 2.0888822078704834\n",
      "Epoch 18, CIFAR-10 Batch 1:  Validation accurancy : 0.375, 2.069035053253174\n",
      "Epoch 19, CIFAR-10 Batch 1:  Validation accurancy : 0.40000003576278687, 2.063481330871582\n",
      "Epoch 20, CIFAR-10 Batch 1:  Validation accurancy : 0.40000003576278687, 2.0587539672851562\n",
      "Epoch 21, CIFAR-10 Batch 1:  Validation accurancy : 0.3999999761581421, 2.044747829437256\n",
      "Epoch 22, CIFAR-10 Batch 1:  Validation accurancy : 0.3999999761581421, 2.0580039024353027\n",
      "Epoch 23, CIFAR-10 Batch 1:  Validation accurancy : 0.44999998807907104, 2.0183513164520264\n",
      "Epoch 24, CIFAR-10 Batch 1:  Validation accurancy : 0.4750000238418579, 2.002103805541992\n",
      "Epoch 25, CIFAR-10 Batch 1:  Validation accurancy : 0.4750000238418579, 2.002901077270508\n",
      "Epoch 26, CIFAR-10 Batch 1:  Validation accurancy : 0.3999999761581421, 2.0486972332000732\n",
      "Epoch 27, CIFAR-10 Batch 1:  Validation accurancy : 0.4750000238418579, 1.9858770370483398\n",
      "Epoch 28, CIFAR-10 Batch 1:  Validation accurancy : 0.5250000357627869, 1.9780795574188232\n",
      "Epoch 29, CIFAR-10 Batch 1:  Validation accurancy : 0.5, 1.9675090312957764\n",
      "Epoch 30, CIFAR-10 Batch 1:  Validation accurancy : 0.42500001192092896, 2.0165181159973145\n",
      "Epoch 31, CIFAR-10 Batch 1:  Validation accurancy : 0.4749999940395355, 1.9886796474456787\n",
      "Epoch 32, CIFAR-10 Batch 1:  Validation accurancy : 0.44999998807907104, 2.0061912536621094\n",
      "Epoch 33, CIFAR-10 Batch 1:  Validation accurancy : 0.5, 1.9601397514343262\n",
      "Epoch 34, CIFAR-10 Batch 1:  Validation accurancy : 0.5, 1.9697551727294922\n",
      "Epoch 35, CIFAR-10 Batch 1:  Validation accurancy : 0.5250000357627869, 1.9645907878875732\n",
      "Epoch 36, CIFAR-10 Batch 1:  Validation accurancy : 0.4750000238418579, 2.002873659133911\n",
      "Epoch 37, CIFAR-10 Batch 1:  Validation accurancy : 0.44999998807907104, 1.996449589729309\n",
      "Epoch 38, CIFAR-10 Batch 1:  Validation accurancy : 0.44999998807907104, 2.003755569458008\n",
      "Epoch 39, CIFAR-10 Batch 1:  Validation accurancy : 0.44999998807907104, 1.9880512952804565\n",
      "Epoch 40, CIFAR-10 Batch 1:  Validation accurancy : 0.42500001192092896, 2.0055110454559326\n",
      "Epoch 41, CIFAR-10 Batch 1:  Validation accurancy : 0.5250000357627869, 1.9488955736160278\n",
      "Epoch 42, CIFAR-10 Batch 1:  Validation accurancy : 0.4749999940395355, 1.9691665172576904\n",
      "Epoch 43, CIFAR-10 Batch 1:  Validation accurancy : 0.5, 1.965146780014038\n",
      "Epoch 44, CIFAR-10 Batch 1:  Validation accurancy : 0.5249999761581421, 1.9473018646240234\n",
      "Epoch 45, CIFAR-10 Batch 1:  Validation accurancy : 0.574999988079071, 1.9184916019439697\n",
      "Epoch 46, CIFAR-10 Batch 1:  Validation accurancy : 0.550000011920929, 1.9184470176696777\n",
      "Epoch 47, CIFAR-10 Batch 1:  Validation accurancy : 0.550000011920929, 1.9171969890594482\n",
      "Epoch 48, CIFAR-10 Batch 1:  Validation accurancy : 0.5250000357627869, 1.9379465579986572\n",
      "Epoch 49, CIFAR-10 Batch 1:  Validation accurancy : 0.5250000357627869, 1.9474022388458252\n",
      "Epoch 50, CIFAR-10 Batch 1:  Validation accurancy : 0.5750000476837158, 1.9029508829116821\n",
      "Epoch 51, CIFAR-10 Batch 1:  Validation accurancy : 0.5249999761581421, 1.9469292163848877\n",
      "Epoch 52, CIFAR-10 Batch 1:  Validation accurancy : 0.5, 1.9442346096038818\n",
      "Epoch 53, CIFAR-10 Batch 1:  Validation accurancy : 0.550000011920929, 1.912999153137207\n",
      "Epoch 54, CIFAR-10 Batch 1:  Validation accurancy : 0.550000011920929, 1.911197543144226\n",
      "Epoch 55, CIFAR-10 Batch 1:  Validation accurancy : 0.5750000476837158, 1.8900116682052612\n",
      "Epoch 56, CIFAR-10 Batch 1:  Validation accurancy : 0.550000011920929, 1.9267232418060303\n",
      "Epoch 57, CIFAR-10 Batch 1:  Validation accurancy : 0.550000011920929, 1.9197438955307007\n",
      "Epoch 58, CIFAR-10 Batch 1:  Validation accurancy : 0.550000011920929, 1.9299731254577637\n",
      "Epoch 59, CIFAR-10 Batch 1:  Validation accurancy : 0.5, 1.9372344017028809\n",
      "Epoch 60, CIFAR-10 Batch 1:  Validation accurancy : 0.550000011920929, 1.9072768688201904\n",
      "Epoch 61, CIFAR-10 Batch 1:  Validation accurancy : 0.574999988079071, 1.8930907249450684\n",
      "Epoch 62, CIFAR-10 Batch 1:  Validation accurancy : 0.625, 1.8517580032348633\n",
      "Epoch 63, CIFAR-10 Batch 1:  Validation accurancy : 0.6000000238418579, 1.870077133178711\n",
      "Epoch 64, CIFAR-10 Batch 1:  Validation accurancy : 0.6000000238418579, 1.8642821311950684\n",
      "Epoch 65, CIFAR-10 Batch 1:  Validation accurancy : 0.6000000238418579, 1.8706543445587158\n",
      "Epoch 66, CIFAR-10 Batch 1:  Validation accurancy : 0.6000000238418579, 1.8670735359191895\n",
      "Epoch 67, CIFAR-10 Batch 1:  Validation accurancy : 0.625, 1.8526825904846191\n",
      "Epoch 68, CIFAR-10 Batch 1:  Validation accurancy : 0.625, 1.8371427059173584\n",
      "Epoch 69, CIFAR-10 Batch 1:  Validation accurancy : 0.625, 1.8423755168914795\n",
      "Epoch 70, CIFAR-10 Batch 1:  Validation accurancy : 0.625, 1.8359184265136719\n",
      "Epoch 71, CIFAR-10 Batch 1:  Validation accurancy : 0.625, 1.8381890058517456\n",
      "Epoch 72, CIFAR-10 Batch 1:  Validation accurancy : 0.6000000238418579, 1.8535504341125488\n",
      "Epoch 73, CIFAR-10 Batch 1:  Validation accurancy : 0.6499999761581421, 1.8123068809509277\n",
      "Epoch 74, CIFAR-10 Batch 1:  Validation accurancy : 0.625, 1.83609139919281\n",
      "Epoch 75, CIFAR-10 Batch 1:  Validation accurancy : 0.6499999761581421, 1.816802978515625\n",
      "Epoch 76, CIFAR-10 Batch 1:  Validation accurancy : 0.6000000238418579, 1.864930510520935\n",
      "Epoch 77, CIFAR-10 Batch 1:  Validation accurancy : 0.625, 1.8320584297180176\n",
      "Epoch 78, CIFAR-10 Batch 1:  Validation accurancy : 0.625, 1.8351924419403076\n",
      "Epoch 79, CIFAR-10 Batch 1:  Validation accurancy : 0.550000011920929, 1.9109618663787842\n",
      "Epoch 80, CIFAR-10 Batch 1:  Validation accurancy : 0.625, 1.836759090423584\n",
      "Epoch 81, CIFAR-10 Batch 1:  Validation accurancy : 0.625, 1.8299435377120972\n",
      "Epoch 82, CIFAR-10 Batch 1:  Validation accurancy : 0.625, 1.8374810218811035\n",
      "Epoch 83, CIFAR-10 Batch 1:  Validation accurancy : 0.625, 1.8391094207763672\n",
      "Epoch 84, CIFAR-10 Batch 1:  Validation accurancy : 0.625, 1.8359369039535522\n",
      "Epoch 85, CIFAR-10 Batch 1:  Validation accurancy : 0.625, 1.8270024061203003\n",
      "Epoch 86, CIFAR-10 Batch 1:  Validation accurancy : 0.625, 1.8336966037750244\n",
      "Epoch 87, CIFAR-10 Batch 1:  Validation accurancy : 0.625, 1.8426811695098877\n",
      "Epoch 88, CIFAR-10 Batch 1:  Validation accurancy : 0.625, 1.845705509185791\n",
      "Epoch 89, CIFAR-10 Batch 1:  Validation accurancy : 0.6000000238418579, 1.8609340190887451\n",
      "Epoch 90, CIFAR-10 Batch 1:  Validation accurancy : 0.6499999761581421, 1.8219265937805176\n",
      "Epoch 91, CIFAR-10 Batch 1:  Validation accurancy : 0.6499999761581421, 1.810654878616333\n",
      "Epoch 92, CIFAR-10 Batch 1:  Validation accurancy : 0.6499999761581421, 1.8071839809417725\n",
      "Epoch 93, CIFAR-10 Batch 1:  Validation accurancy : 0.6750000715255737, 1.7948075532913208\n",
      "Epoch 94, CIFAR-10 Batch 1:  Validation accurancy : 0.6750000715255737, 1.7944731712341309\n",
      "Epoch 95, CIFAR-10 Batch 1:  Validation accurancy : 0.6499999761581421, 1.8075810670852661\n",
      "Epoch 96, CIFAR-10 Batch 1:  Validation accurancy : 0.6499999761581421, 1.8083630800247192\n",
      "Epoch 97, CIFAR-10 Batch 1:  Validation accurancy : 0.6750000715255737, 1.7863895893096924\n",
      "Epoch 98, CIFAR-10 Batch 1:  Validation accurancy : 0.6750000715255737, 1.7898666858673096\n",
      "Epoch 99, CIFAR-10 Batch 1:  Validation accurancy : 0.6750000715255737, 1.7832717895507812\n",
      "Epoch 100, CIFAR-10 Batch 1:  Validation accurancy : 0.6750000715255737, 1.7895302772521973\n"
     ]
    }
   ],
   "source": [
    "\"\"\"\n",
    "DON'T MODIFY ANYTHING IN THIS CELL\n",
    "\"\"\"\n",
    "print('Checking the Training on a Single Batch...')\n",
    "with tf.Session() as sess:\n",
    "    # Initializing the variables\n",
    "    sess.run(tf.global_variables_initializer())\n",
    "    \n",
    "    # Training cycle\n",
    "    for epoch in range(epochs):\n",
    "        batch_i = 1\n",
    "        for batch_features, batch_labels in helper.load_preprocess_training_batch(batch_i, batch_size):\n",
    "            train_neural_network(sess, optimizer, keep_probability, batch_features, batch_labels)\n",
    "        print('Epoch {:>2}, CIFAR-10 Batch {}:  '.format(epoch + 1, batch_i), end='')\n",
    "        print_stats(sess, batch_features, batch_labels, cost, accuracy)"
   ]
  },
  {
   "cell_type": "markdown",
   "metadata": {
    "deletable": true,
    "editable": true
   },
   "source": [
    "### Fully Train the Model\n",
    "Now that you got a good accuracy with a single CIFAR-10 batch, try it with all five batches."
   ]
  },
  {
   "cell_type": "code",
   "execution_count": 23,
   "metadata": {
    "collapsed": false,
    "deletable": true,
    "editable": true
   },
   "outputs": [
    {
     "name": "stdout",
     "output_type": "stream",
     "text": [
      "Training...\n",
      "Epoch  1, CIFAR-10 Batch 1:  Validation accurancy : 0.17500001192092896, 2.2633566856384277\n",
      "Epoch  1, CIFAR-10 Batch 2:  Validation accurancy : 0.30000001192092896, 2.21018123626709\n",
      "Epoch  1, CIFAR-10 Batch 3:  Validation accurancy : 0.2750000059604645, 2.164214849472046\n",
      "Epoch  1, CIFAR-10 Batch 4:  Validation accurancy : 0.30000001192092896, 2.1668801307678223\n",
      "Epoch  1, CIFAR-10 Batch 5:  Validation accurancy : 0.32500001788139343, 2.155100107192993\n",
      "Epoch  2, CIFAR-10 Batch 1:  Validation accurancy : 0.2500000298023224, 2.1640076637268066\n",
      "Epoch  2, CIFAR-10 Batch 2:  Validation accurancy : 0.32500001788139343, 2.168721914291382\n",
      "Epoch  2, CIFAR-10 Batch 3:  Validation accurancy : 0.30000001192092896, 2.132546901702881\n",
      "Epoch  2, CIFAR-10 Batch 4:  Validation accurancy : 0.32500001788139343, 2.1232364177703857\n",
      "Epoch  2, CIFAR-10 Batch 5:  Validation accurancy : 0.3500000238418579, 2.10306453704834\n",
      "Epoch  3, CIFAR-10 Batch 1:  Validation accurancy : 0.3500000238418579, 2.099336624145508\n",
      "Epoch  3, CIFAR-10 Batch 2:  Validation accurancy : 0.2750000059604645, 2.1808266639709473\n",
      "Epoch  3, CIFAR-10 Batch 3:  Validation accurancy : 0.375, 2.0859947204589844\n",
      "Epoch  3, CIFAR-10 Batch 4:  Validation accurancy : 0.30000001192092896, 2.12094783782959\n",
      "Epoch  3, CIFAR-10 Batch 5:  Validation accurancy : 0.45000001788139343, 2.028134822845459\n",
      "Epoch  4, CIFAR-10 Batch 1:  Validation accurancy : 0.3500000238418579, 2.1185193061828613\n",
      "Epoch  4, CIFAR-10 Batch 2:  Validation accurancy : 0.375, 2.0723841190338135\n",
      "Epoch  4, CIFAR-10 Batch 3:  Validation accurancy : 0.32500001788139343, 2.108504295349121\n",
      "Epoch  4, CIFAR-10 Batch 4:  Validation accurancy : 0.3500000238418579, 2.1051084995269775\n",
      "Epoch  4, CIFAR-10 Batch 5:  Validation accurancy : 0.40000003576278687, 2.053679943084717\n",
      "Epoch  5, CIFAR-10 Batch 1:  Validation accurancy : 0.32499998807907104, 2.1318960189819336\n",
      "Epoch  5, CIFAR-10 Batch 2:  Validation accurancy : 0.42500001192092896, 2.0478410720825195\n",
      "Epoch  5, CIFAR-10 Batch 3:  Validation accurancy : 0.32499998807907104, 2.074610471725464\n",
      "Epoch  5, CIFAR-10 Batch 4:  Validation accurancy : 0.3750000298023224, 2.0690925121307373\n",
      "Epoch  5, CIFAR-10 Batch 5:  Validation accurancy : 0.4750000238418579, 2.022616386413574\n",
      "Epoch  6, CIFAR-10 Batch 1:  Validation accurancy : 0.3499999940395355, 2.104503870010376\n",
      "Epoch  6, CIFAR-10 Batch 2:  Validation accurancy : 0.3750000298023224, 2.0786380767822266\n",
      "Epoch  6, CIFAR-10 Batch 3:  Validation accurancy : 0.3499999940395355, 2.069314479827881\n",
      "Epoch  6, CIFAR-10 Batch 4:  Validation accurancy : 0.4749999940395355, 1.9889378547668457\n",
      "Epoch  6, CIFAR-10 Batch 5:  Validation accurancy : 0.4750000238418579, 2.021829605102539\n",
      "Epoch  7, CIFAR-10 Batch 1:  Validation accurancy : 0.32499998807907104, 2.143221855163574\n",
      "Epoch  7, CIFAR-10 Batch 2:  Validation accurancy : 0.3750000298023224, 2.063154458999634\n",
      "Epoch  7, CIFAR-10 Batch 3:  Validation accurancy : 0.32500001788139343, 2.0779671669006348\n",
      "Epoch  7, CIFAR-10 Batch 4:  Validation accurancy : 0.42500001192092896, 2.025984287261963\n",
      "Epoch  7, CIFAR-10 Batch 5:  Validation accurancy : 0.45000001788139343, 2.019706964492798\n",
      "Epoch  8, CIFAR-10 Batch 1:  Validation accurancy : 0.32500001788139343, 2.1233839988708496\n",
      "Epoch  8, CIFAR-10 Batch 2:  Validation accurancy : 0.4750000238418579, 2.010896682739258\n",
      "Epoch  8, CIFAR-10 Batch 3:  Validation accurancy : 0.4749999940395355, 2.0257644653320312\n",
      "Epoch  8, CIFAR-10 Batch 4:  Validation accurancy : 0.4750000238418579, 2.0127573013305664\n",
      "Epoch  8, CIFAR-10 Batch 5:  Validation accurancy : 0.4750000238418579, 1.9834823608398438\n",
      "Epoch  9, CIFAR-10 Batch 1:  Validation accurancy : 0.42499998211860657, 2.012570381164551\n",
      "Epoch  9, CIFAR-10 Batch 2:  Validation accurancy : 0.45000001788139343, 2.0143706798553467\n",
      "Epoch  9, CIFAR-10 Batch 3:  Validation accurancy : 0.44999998807907104, 2.0173420906066895\n",
      "Epoch  9, CIFAR-10 Batch 4:  Validation accurancy : 0.42500001192092896, 2.005498170852661\n",
      "Epoch  9, CIFAR-10 Batch 5:  Validation accurancy : 0.5, 1.97938871383667\n",
      "Epoch 10, CIFAR-10 Batch 1:  Validation accurancy : 0.42500001192092896, 2.0115225315093994\n",
      "Epoch 10, CIFAR-10 Batch 2:  Validation accurancy : 0.45000001788139343, 1.9972350597381592\n",
      "Epoch 10, CIFAR-10 Batch 3:  Validation accurancy : 0.3999999761581421, 2.0377321243286133\n",
      "Epoch 10, CIFAR-10 Batch 4:  Validation accurancy : 0.4000000059604645, 2.0307459831237793\n",
      "Epoch 10, CIFAR-10 Batch 5:  Validation accurancy : 0.4750000238418579, 1.9962882995605469\n",
      "Epoch 11, CIFAR-10 Batch 1:  Validation accurancy : 0.42499998211860657, 2.0409998893737793\n",
      "Epoch 11, CIFAR-10 Batch 2:  Validation accurancy : 0.45000001788139343, 2.013608932495117\n",
      "Epoch 11, CIFAR-10 Batch 3:  Validation accurancy : 0.45000001788139343, 1.9828386306762695\n",
      "Epoch 11, CIFAR-10 Batch 4:  Validation accurancy : 0.5, 1.9790929555892944\n",
      "Epoch 11, CIFAR-10 Batch 5:  Validation accurancy : 0.4749999940395355, 1.9805783033370972\n",
      "Epoch 12, CIFAR-10 Batch 1:  Validation accurancy : 0.5, 1.9829891920089722\n",
      "Epoch 12, CIFAR-10 Batch 2:  Validation accurancy : 0.4750000238418579, 1.9785114526748657\n",
      "Epoch 12, CIFAR-10 Batch 3:  Validation accurancy : 0.4750000238418579, 1.981485366821289\n",
      "Epoch 12, CIFAR-10 Batch 4:  Validation accurancy : 0.5, 1.9481308460235596\n",
      "Epoch 12, CIFAR-10 Batch 5:  Validation accurancy : 0.44999998807907104, 2.010176658630371\n",
      "Epoch 13, CIFAR-10 Batch 1:  Validation accurancy : 0.44999998807907104, 1.997246503829956\n",
      "Epoch 13, CIFAR-10 Batch 2:  Validation accurancy : 0.4750000238418579, 1.9799375534057617\n",
      "Epoch 13, CIFAR-10 Batch 3:  Validation accurancy : 0.5, 1.9529603719711304\n",
      "Epoch 13, CIFAR-10 Batch 4:  Validation accurancy : 0.42500001192092896, 2.000258445739746\n",
      "Epoch 13, CIFAR-10 Batch 5:  Validation accurancy : 0.5, 2.0031373500823975\n",
      "Epoch 14, CIFAR-10 Batch 1:  Validation accurancy : 0.550000011920929, 1.9463863372802734\n",
      "Epoch 14, CIFAR-10 Batch 2:  Validation accurancy : 0.5249999761581421, 1.9823899269104004\n",
      "Epoch 14, CIFAR-10 Batch 3:  Validation accurancy : 0.5250000357627869, 1.931983232498169\n",
      "Epoch 14, CIFAR-10 Batch 4:  Validation accurancy : 0.5250000357627869, 1.9475220441818237\n",
      "Epoch 14, CIFAR-10 Batch 5:  Validation accurancy : 0.4749999940395355, 1.983028769493103\n",
      "Epoch 15, CIFAR-10 Batch 1:  Validation accurancy : 0.44999998807907104, 2.001650333404541\n",
      "Epoch 15, CIFAR-10 Batch 2:  Validation accurancy : 0.5, 1.9644218683242798\n",
      "Epoch 15, CIFAR-10 Batch 3:  Validation accurancy : 0.5, 1.9535863399505615\n",
      "Epoch 15, CIFAR-10 Batch 4:  Validation accurancy : 0.5, 1.9509408473968506\n",
      "Epoch 15, CIFAR-10 Batch 5:  Validation accurancy : 0.4749999940395355, 1.9863152503967285\n",
      "Epoch 16, CIFAR-10 Batch 1:  Validation accurancy : 0.45000001788139343, 2.0076756477355957\n",
      "Epoch 16, CIFAR-10 Batch 2:  Validation accurancy : 0.4750000238418579, 1.985858678817749\n",
      "Epoch 16, CIFAR-10 Batch 3:  Validation accurancy : 0.6000000238418579, 1.8895933628082275\n",
      "Epoch 16, CIFAR-10 Batch 4:  Validation accurancy : 0.5, 1.9325228929519653\n",
      "Epoch 16, CIFAR-10 Batch 5:  Validation accurancy : 0.5, 1.985435128211975\n",
      "Epoch 17, CIFAR-10 Batch 1:  Validation accurancy : 0.44999998807907104, 2.012259006500244\n",
      "Epoch 17, CIFAR-10 Batch 2:  Validation accurancy : 0.5249999761581421, 1.9182277917861938\n",
      "Epoch 17, CIFAR-10 Batch 3:  Validation accurancy : 0.4750000238418579, 1.9839656352996826\n",
      "Epoch 17, CIFAR-10 Batch 4:  Validation accurancy : 0.5750000476837158, 1.8889737129211426\n",
      "Epoch 17, CIFAR-10 Batch 5:  Validation accurancy : 0.5, 1.9602454900741577\n",
      "Epoch 18, CIFAR-10 Batch 1:  Validation accurancy : 0.5, 1.9808237552642822\n",
      "Epoch 18, CIFAR-10 Batch 2:  Validation accurancy : 0.6000000238418579, 1.8854830265045166\n",
      "Epoch 18, CIFAR-10 Batch 3:  Validation accurancy : 0.574999988079071, 1.87432861328125\n",
      "Epoch 18, CIFAR-10 Batch 4:  Validation accurancy : 0.550000011920929, 1.9198074340820312\n",
      "Epoch 18, CIFAR-10 Batch 5:  Validation accurancy : 0.6000000238418579, 1.8744697570800781\n",
      "Epoch 19, CIFAR-10 Batch 1:  Validation accurancy : 0.42499998211860657, 2.0501530170440674\n",
      "Epoch 19, CIFAR-10 Batch 2:  Validation accurancy : 0.5249999761581421, 1.9256598949432373\n",
      "Epoch 19, CIFAR-10 Batch 3:  Validation accurancy : 0.550000011920929, 1.902947187423706\n",
      "Epoch 19, CIFAR-10 Batch 4:  Validation accurancy : 0.550000011920929, 1.8958028554916382\n",
      "Epoch 19, CIFAR-10 Batch 5:  Validation accurancy : 0.5249999761581421, 1.9337092638015747\n",
      "Epoch 20, CIFAR-10 Batch 1:  Validation accurancy : 0.4749999940395355, 1.9909205436706543\n",
      "Epoch 20, CIFAR-10 Batch 2:  Validation accurancy : 0.550000011920929, 1.9020607471466064\n",
      "Epoch 20, CIFAR-10 Batch 3:  Validation accurancy : 0.550000011920929, 1.890737533569336\n",
      "Epoch 20, CIFAR-10 Batch 4:  Validation accurancy : 0.574999988079071, 1.8848167657852173\n",
      "Epoch 20, CIFAR-10 Batch 5:  Validation accurancy : 0.5249999761581421, 1.9407463073730469\n",
      "Epoch 21, CIFAR-10 Batch 1:  Validation accurancy : 0.44999998807907104, 2.0136427879333496\n",
      "Epoch 21, CIFAR-10 Batch 2:  Validation accurancy : 0.625, 1.848651647567749\n",
      "Epoch 21, CIFAR-10 Batch 3:  Validation accurancy : 0.625, 1.8391833305358887\n",
      "Epoch 21, CIFAR-10 Batch 4:  Validation accurancy : 0.625, 1.8569377660751343\n",
      "Epoch 21, CIFAR-10 Batch 5:  Validation accurancy : 0.5249999761581421, 1.9153023958206177\n",
      "Epoch 22, CIFAR-10 Batch 1:  Validation accurancy : 0.5249999761581421, 1.947469711303711\n",
      "Epoch 22, CIFAR-10 Batch 2:  Validation accurancy : 0.574999988079071, 1.9079381227493286\n",
      "Epoch 22, CIFAR-10 Batch 3:  Validation accurancy : 0.574999988079071, 1.885960578918457\n",
      "Epoch 22, CIFAR-10 Batch 4:  Validation accurancy : 0.5750000476837158, 1.8712444305419922\n",
      "Epoch 22, CIFAR-10 Batch 5:  Validation accurancy : 0.5750000476837158, 1.8802694082260132\n",
      "Epoch 23, CIFAR-10 Batch 1:  Validation accurancy : 0.5249999761581421, 1.9409987926483154\n",
      "Epoch 23, CIFAR-10 Batch 2:  Validation accurancy : 0.6499999761581421, 1.833278775215149\n",
      "Epoch 23, CIFAR-10 Batch 3:  Validation accurancy : 0.6499999761581421, 1.8131834268569946\n",
      "Epoch 23, CIFAR-10 Batch 4:  Validation accurancy : 0.5249999761581421, 1.8942970037460327\n",
      "Epoch 23, CIFAR-10 Batch 5:  Validation accurancy : 0.550000011920929, 1.9053758382797241\n",
      "Epoch 24, CIFAR-10 Batch 1:  Validation accurancy : 0.5, 1.9525957107543945\n",
      "Epoch 24, CIFAR-10 Batch 2:  Validation accurancy : 0.6000000238418579, 1.845482587814331\n",
      "Epoch 24, CIFAR-10 Batch 3:  Validation accurancy : 0.6000000238418579, 1.8541185855865479\n",
      "Epoch 24, CIFAR-10 Batch 4:  Validation accurancy : 0.6000000238418579, 1.8710659742355347\n",
      "Epoch 24, CIFAR-10 Batch 5:  Validation accurancy : 0.6000000238418579, 1.8657444715499878\n",
      "Epoch 25, CIFAR-10 Batch 1:  Validation accurancy : 0.4749999940395355, 1.9568939208984375\n",
      "Epoch 25, CIFAR-10 Batch 2:  Validation accurancy : 0.625, 1.8387651443481445\n",
      "Epoch 25, CIFAR-10 Batch 3:  Validation accurancy : 0.7000000476837158, 1.7762157917022705\n",
      "Epoch 25, CIFAR-10 Batch 4:  Validation accurancy : 0.625, 1.8339160680770874\n",
      "Epoch 25, CIFAR-10 Batch 5:  Validation accurancy : 0.574999988079071, 1.887084722518921\n",
      "Epoch 26, CIFAR-10 Batch 1:  Validation accurancy : 0.5750000476837158, 1.8820722103118896\n",
      "Epoch 26, CIFAR-10 Batch 2:  Validation accurancy : 0.625, 1.8496973514556885\n",
      "Epoch 26, CIFAR-10 Batch 3:  Validation accurancy : 0.6750000715255737, 1.784782886505127\n",
      "Epoch 26, CIFAR-10 Batch 4:  Validation accurancy : 0.625, 1.838712453842163\n",
      "Epoch 26, CIFAR-10 Batch 5:  Validation accurancy : 0.6000000238418579, 1.8647953271865845\n",
      "Epoch 27, CIFAR-10 Batch 1:  Validation accurancy : 0.5750000476837158, 1.8746466636657715\n",
      "Epoch 27, CIFAR-10 Batch 2:  Validation accurancy : 0.625, 1.857401728630066\n",
      "Epoch 27, CIFAR-10 Batch 3:  Validation accurancy : 0.6499999761581421, 1.823115587234497\n",
      "Epoch 27, CIFAR-10 Batch 4:  Validation accurancy : 0.6000000238418579, 1.864892840385437\n",
      "Epoch 27, CIFAR-10 Batch 5:  Validation accurancy : 0.574999988079071, 1.8697514533996582\n",
      "Epoch 28, CIFAR-10 Batch 1:  Validation accurancy : 0.6000000238418579, 1.862420678138733\n",
      "Epoch 28, CIFAR-10 Batch 2:  Validation accurancy : 0.6000000238418579, 1.8382620811462402\n",
      "Epoch 28, CIFAR-10 Batch 3:  Validation accurancy : 0.7250000238418579, 1.7487623691558838\n",
      "Epoch 28, CIFAR-10 Batch 4:  Validation accurancy : 0.6500000357627869, 1.8026483058929443\n",
      "Epoch 28, CIFAR-10 Batch 5:  Validation accurancy : 0.574999988079071, 1.8774534463882446\n",
      "Epoch 29, CIFAR-10 Batch 1:  Validation accurancy : 0.5750000476837158, 1.884068489074707\n",
      "Epoch 29, CIFAR-10 Batch 2:  Validation accurancy : 0.6499999761581421, 1.821946620941162\n",
      "Epoch 29, CIFAR-10 Batch 3:  Validation accurancy : 0.6500000357627869, 1.817590594291687\n",
      "Epoch 29, CIFAR-10 Batch 4:  Validation accurancy : 0.625, 1.8288545608520508\n",
      "Epoch 29, CIFAR-10 Batch 5:  Validation accurancy : 0.5999999642372131, 1.861405849456787\n",
      "Epoch 30, CIFAR-10 Batch 1:  Validation accurancy : 0.6000000238418579, 1.869729995727539\n",
      "Epoch 30, CIFAR-10 Batch 2:  Validation accurancy : 0.550000011920929, 1.898681402206421\n",
      "Epoch 30, CIFAR-10 Batch 3:  Validation accurancy : 0.7000000476837158, 1.7848992347717285\n",
      "Epoch 30, CIFAR-10 Batch 4:  Validation accurancy : 0.5999999642372131, 1.851915955543518\n",
      "Epoch 30, CIFAR-10 Batch 5:  Validation accurancy : 0.625, 1.831388235092163\n",
      "Epoch 31, CIFAR-10 Batch 1:  Validation accurancy : 0.6000000238418579, 1.866708517074585\n",
      "Epoch 31, CIFAR-10 Batch 2:  Validation accurancy : 0.625, 1.8344981670379639\n",
      "Epoch 31, CIFAR-10 Batch 3:  Validation accurancy : 0.7000000476837158, 1.752880334854126\n",
      "Epoch 31, CIFAR-10 Batch 4:  Validation accurancy : 0.625, 1.8183256387710571\n",
      "Epoch 31, CIFAR-10 Batch 5:  Validation accurancy : 0.6000000238418579, 1.8489073514938354\n",
      "Epoch 32, CIFAR-10 Batch 1:  Validation accurancy : 0.6000000238418579, 1.8652238845825195\n",
      "Epoch 32, CIFAR-10 Batch 2:  Validation accurancy : 0.625, 1.819846272468567\n",
      "Epoch 32, CIFAR-10 Batch 3:  Validation accurancy : 0.625, 1.8256762027740479\n",
      "Epoch 32, CIFAR-10 Batch 4:  Validation accurancy : 0.6749999523162842, 1.7964133024215698\n",
      "Epoch 32, CIFAR-10 Batch 5:  Validation accurancy : 0.6500000357627869, 1.8294880390167236\n",
      "Epoch 33, CIFAR-10 Batch 1:  Validation accurancy : 0.625, 1.8361437320709229\n",
      "Epoch 33, CIFAR-10 Batch 2:  Validation accurancy : 0.6000000238418579, 1.863519549369812\n",
      "Epoch 33, CIFAR-10 Batch 3:  Validation accurancy : 0.7250000238418579, 1.7359950542449951\n",
      "Epoch 33, CIFAR-10 Batch 4:  Validation accurancy : 0.75, 1.7426466941833496\n",
      "Epoch 33, CIFAR-10 Batch 5:  Validation accurancy : 0.6750000715255737, 1.7861683368682861\n",
      "Epoch 34, CIFAR-10 Batch 1:  Validation accurancy : 0.6000000238418579, 1.8608715534210205\n",
      "Epoch 34, CIFAR-10 Batch 2:  Validation accurancy : 0.550000011920929, 1.8985573053359985\n",
      "Epoch 34, CIFAR-10 Batch 3:  Validation accurancy : 0.7250000238418579, 1.731845736503601\n",
      "Epoch 34, CIFAR-10 Batch 4:  Validation accurancy : 0.675000011920929, 1.7769861221313477\n",
      "Epoch 34, CIFAR-10 Batch 5:  Validation accurancy : 0.6500000357627869, 1.8103429079055786\n",
      "Epoch 35, CIFAR-10 Batch 1:  Validation accurancy : 0.5750000476837158, 1.8836003541946411\n",
      "Epoch 35, CIFAR-10 Batch 2:  Validation accurancy : 0.574999988079071, 1.8695563077926636\n",
      "Epoch 35, CIFAR-10 Batch 3:  Validation accurancy : 0.75, 1.7175648212432861\n",
      "Epoch 35, CIFAR-10 Batch 4:  Validation accurancy : 0.7000000476837158, 1.7570626735687256\n",
      "Epoch 35, CIFAR-10 Batch 5:  Validation accurancy : 0.6500000357627869, 1.8051836490631104\n",
      "Epoch 36, CIFAR-10 Batch 1:  Validation accurancy : 0.550000011920929, 1.9087543487548828\n",
      "Epoch 36, CIFAR-10 Batch 2:  Validation accurancy : 0.6499999761581421, 1.8237977027893066\n",
      "Epoch 36, CIFAR-10 Batch 3:  Validation accurancy : 0.75, 1.7051326036453247\n",
      "Epoch 36, CIFAR-10 Batch 4:  Validation accurancy : 0.675000011920929, 1.7955759763717651\n",
      "Epoch 36, CIFAR-10 Batch 5:  Validation accurancy : 0.7250000238418579, 1.7514011859893799\n",
      "Epoch 37, CIFAR-10 Batch 1:  Validation accurancy : 0.5750000476837158, 1.8829474449157715\n",
      "Epoch 37, CIFAR-10 Batch 2:  Validation accurancy : 0.625, 1.8327984809875488\n",
      "Epoch 37, CIFAR-10 Batch 3:  Validation accurancy : 0.7000000476837158, 1.7591946125030518\n",
      "Epoch 37, CIFAR-10 Batch 4:  Validation accurancy : 0.675000011920929, 1.7894856929779053\n",
      "Epoch 37, CIFAR-10 Batch 5:  Validation accurancy : 0.6000000238418579, 1.8740134239196777\n",
      "Epoch 38, CIFAR-10 Batch 1:  Validation accurancy : 0.625, 1.8417611122131348\n",
      "Epoch 38, CIFAR-10 Batch 2:  Validation accurancy : 0.6000000238418579, 1.8532984256744385\n",
      "Epoch 38, CIFAR-10 Batch 3:  Validation accurancy : 0.7250000238418579, 1.7430146932601929\n",
      "Epoch 38, CIFAR-10 Batch 4:  Validation accurancy : 0.675000011920929, 1.7946574687957764\n",
      "Epoch 38, CIFAR-10 Batch 5:  Validation accurancy : 0.6499999761581421, 1.8164820671081543\n",
      "Epoch 39, CIFAR-10 Batch 1:  Validation accurancy : 0.625, 1.8376481533050537\n",
      "Epoch 39, CIFAR-10 Batch 2:  Validation accurancy : 0.625, 1.8409894704818726\n",
      "Epoch 39, CIFAR-10 Batch 3:  Validation accurancy : 0.699999988079071, 1.762951135635376\n",
      "Epoch 39, CIFAR-10 Batch 4:  Validation accurancy : 0.6749999523162842, 1.801497459411621\n",
      "Epoch 39, CIFAR-10 Batch 5:  Validation accurancy : 0.6500000357627869, 1.8186604976654053\n",
      "Epoch 40, CIFAR-10 Batch 1:  Validation accurancy : 0.6000000238418579, 1.8716216087341309\n",
      "Epoch 40, CIFAR-10 Batch 2:  Validation accurancy : 0.574999988079071, 1.8811500072479248\n",
      "Epoch 40, CIFAR-10 Batch 3:  Validation accurancy : 0.75, 1.7111135721206665\n",
      "Epoch 40, CIFAR-10 Batch 4:  Validation accurancy : 0.7000000476837158, 1.740441083908081\n",
      "Epoch 40, CIFAR-10 Batch 5:  Validation accurancy : 0.6750000715255737, 1.8025355339050293\n",
      "Epoch 41, CIFAR-10 Batch 1:  Validation accurancy : 0.6000000238418579, 1.8644678592681885\n",
      "Epoch 41, CIFAR-10 Batch 2:  Validation accurancy : 0.6499999761581421, 1.8295649290084839\n",
      "Epoch 41, CIFAR-10 Batch 3:  Validation accurancy : 0.7250000238418579, 1.7408239841461182\n",
      "Epoch 41, CIFAR-10 Batch 4:  Validation accurancy : 0.7000000476837158, 1.7559224367141724\n",
      "Epoch 41, CIFAR-10 Batch 5:  Validation accurancy : 0.675000011920929, 1.7815989255905151\n",
      "Epoch 42, CIFAR-10 Batch 1:  Validation accurancy : 0.550000011920929, 1.9142192602157593\n",
      "Epoch 42, CIFAR-10 Batch 2:  Validation accurancy : 0.625, 1.8267226219177246\n",
      "Epoch 42, CIFAR-10 Batch 3:  Validation accurancy : 0.800000011920929, 1.6793115139007568\n",
      "Epoch 42, CIFAR-10 Batch 4:  Validation accurancy : 0.7000000476837158, 1.7561817169189453\n",
      "Epoch 42, CIFAR-10 Batch 5:  Validation accurancy : 0.675000011920929, 1.8024914264678955\n",
      "Epoch 43, CIFAR-10 Batch 1:  Validation accurancy : 0.550000011920929, 1.9012373685836792\n",
      "Epoch 43, CIFAR-10 Batch 2:  Validation accurancy : 0.625, 1.8116697072982788\n",
      "Epoch 43, CIFAR-10 Batch 3:  Validation accurancy : 0.7749999761581421, 1.6949753761291504\n",
      "Epoch 43, CIFAR-10 Batch 4:  Validation accurancy : 0.7250000238418579, 1.7480168342590332\n",
      "Epoch 43, CIFAR-10 Batch 5:  Validation accurancy : 0.625, 1.8469512462615967\n",
      "Epoch 44, CIFAR-10 Batch 1:  Validation accurancy : 0.6000000238418579, 1.8591663837432861\n",
      "Epoch 44, CIFAR-10 Batch 2:  Validation accurancy : 0.6499999761581421, 1.8091715574264526\n",
      "Epoch 44, CIFAR-10 Batch 3:  Validation accurancy : 0.6750000715255737, 1.7729148864746094\n",
      "Epoch 44, CIFAR-10 Batch 4:  Validation accurancy : 0.7250000238418579, 1.737675666809082\n",
      "Epoch 44, CIFAR-10 Batch 5:  Validation accurancy : 0.675000011920929, 1.7915691137313843\n",
      "Epoch 45, CIFAR-10 Batch 1:  Validation accurancy : 0.5750000476837158, 1.883368730545044\n",
      "Epoch 45, CIFAR-10 Batch 2:  Validation accurancy : 0.6000000238418579, 1.8551573753356934\n",
      "Epoch 45, CIFAR-10 Batch 3:  Validation accurancy : 0.800000011920929, 1.6728284358978271\n",
      "Epoch 45, CIFAR-10 Batch 4:  Validation accurancy : 0.7250000238418579, 1.7343982458114624\n",
      "Epoch 45, CIFAR-10 Batch 5:  Validation accurancy : 0.7250000238418579, 1.7353572845458984\n",
      "Epoch 46, CIFAR-10 Batch 1:  Validation accurancy : 0.6000000238418579, 1.8568748235702515\n",
      "Epoch 46, CIFAR-10 Batch 2:  Validation accurancy : 0.625, 1.8317691087722778\n",
      "Epoch 46, CIFAR-10 Batch 3:  Validation accurancy : 0.7250000238418579, 1.7267892360687256\n",
      "Epoch 46, CIFAR-10 Batch 4:  Validation accurancy : 0.7500000596046448, 1.7201337814331055\n",
      "Epoch 46, CIFAR-10 Batch 5:  Validation accurancy : 0.6750000715255737, 1.7825095653533936\n",
      "Epoch 47, CIFAR-10 Batch 1:  Validation accurancy : 0.5750000476837158, 1.8694831132888794\n",
      "Epoch 47, CIFAR-10 Batch 2:  Validation accurancy : 0.675000011920929, 1.7922298908233643\n",
      "Epoch 47, CIFAR-10 Batch 3:  Validation accurancy : 0.75, 1.7164814472198486\n",
      "Epoch 47, CIFAR-10 Batch 4:  Validation accurancy : 0.7250000238418579, 1.7281129360198975\n",
      "Epoch 47, CIFAR-10 Batch 5:  Validation accurancy : 0.7750000357627869, 1.6889111995697021\n",
      "Epoch 48, CIFAR-10 Batch 1:  Validation accurancy : 0.6000000238418579, 1.8577852249145508\n",
      "Epoch 48, CIFAR-10 Batch 2:  Validation accurancy : 0.675000011920929, 1.7884749174118042\n",
      "Epoch 48, CIFAR-10 Batch 3:  Validation accurancy : 0.7250000238418579, 1.736725926399231\n",
      "Epoch 48, CIFAR-10 Batch 4:  Validation accurancy : 0.75, 1.712137222290039\n",
      "Epoch 48, CIFAR-10 Batch 5:  Validation accurancy : 0.6500000357627869, 1.8082735538482666\n",
      "Epoch 49, CIFAR-10 Batch 1:  Validation accurancy : 0.550000011920929, 1.9055720567703247\n",
      "Epoch 49, CIFAR-10 Batch 2:  Validation accurancy : 0.7000000476837158, 1.769887924194336\n",
      "Epoch 49, CIFAR-10 Batch 3:  Validation accurancy : 0.75, 1.716574788093567\n",
      "Epoch 49, CIFAR-10 Batch 4:  Validation accurancy : 0.7750000357627869, 1.6884139776229858\n",
      "Epoch 49, CIFAR-10 Batch 5:  Validation accurancy : 0.6750000715255737, 1.7846254110336304\n",
      "Epoch 50, CIFAR-10 Batch 1:  Validation accurancy : 0.550000011920929, 1.908864974975586\n",
      "Epoch 50, CIFAR-10 Batch 2:  Validation accurancy : 0.675000011920929, 1.783717393875122\n",
      "Epoch 50, CIFAR-10 Batch 3:  Validation accurancy : 0.7500000596046448, 1.7169982194900513\n",
      "Epoch 50, CIFAR-10 Batch 4:  Validation accurancy : 0.7000000476837158, 1.754371166229248\n",
      "Epoch 50, CIFAR-10 Batch 5:  Validation accurancy : 0.675000011920929, 1.788989543914795\n",
      "Epoch 51, CIFAR-10 Batch 1:  Validation accurancy : 0.550000011920929, 1.9089899063110352\n",
      "Epoch 51, CIFAR-10 Batch 2:  Validation accurancy : 0.675000011920929, 1.7757678031921387\n",
      "Epoch 51, CIFAR-10 Batch 3:  Validation accurancy : 0.800000011920929, 1.6610636711120605\n",
      "Epoch 51, CIFAR-10 Batch 4:  Validation accurancy : 0.7750000357627869, 1.7048946619033813\n",
      "Epoch 51, CIFAR-10 Batch 5:  Validation accurancy : 0.675000011920929, 1.7847219705581665\n",
      "Epoch 52, CIFAR-10 Batch 1:  Validation accurancy : 0.5750000476837158, 1.885746717453003\n",
      "Epoch 52, CIFAR-10 Batch 2:  Validation accurancy : 0.6499999761581421, 1.8010921478271484\n",
      "Epoch 52, CIFAR-10 Batch 3:  Validation accurancy : 0.800000011920929, 1.6797633171081543\n",
      "Epoch 52, CIFAR-10 Batch 4:  Validation accurancy : 0.7500000596046448, 1.704986333847046\n",
      "Epoch 52, CIFAR-10 Batch 5:  Validation accurancy : 0.6750000715255737, 1.7811847925186157\n",
      "Epoch 53, CIFAR-10 Batch 1:  Validation accurancy : 0.625, 1.845306634902954\n",
      "Epoch 53, CIFAR-10 Batch 2:  Validation accurancy : 0.6749999523162842, 1.7869791984558105\n",
      "Epoch 53, CIFAR-10 Batch 3:  Validation accurancy : 0.7750000357627869, 1.6818881034851074\n",
      "Epoch 53, CIFAR-10 Batch 4:  Validation accurancy : 0.7000000476837158, 1.7581312656402588\n",
      "Epoch 53, CIFAR-10 Batch 5:  Validation accurancy : 0.7000000476837158, 1.7589653730392456\n",
      "Epoch 54, CIFAR-10 Batch 1:  Validation accurancy : 0.5750000476837158, 1.8822917938232422\n",
      "Epoch 54, CIFAR-10 Batch 2:  Validation accurancy : 0.625, 1.8249573707580566\n",
      "Epoch 54, CIFAR-10 Batch 3:  Validation accurancy : 0.7000000476837158, 1.7532367706298828\n",
      "Epoch 54, CIFAR-10 Batch 4:  Validation accurancy : 0.7500000596046448, 1.7325067520141602\n",
      "Epoch 54, CIFAR-10 Batch 5:  Validation accurancy : 0.7000000476837158, 1.7600151300430298\n",
      "Epoch 55, CIFAR-10 Batch 1:  Validation accurancy : 0.5750000476837158, 1.8876267671585083\n",
      "Epoch 55, CIFAR-10 Batch 2:  Validation accurancy : 0.6000000238418579, 1.8564351797103882\n",
      "Epoch 55, CIFAR-10 Batch 3:  Validation accurancy : 0.7500000596046448, 1.7062482833862305\n",
      "Epoch 55, CIFAR-10 Batch 4:  Validation accurancy : 0.75, 1.7001771926879883\n",
      "Epoch 55, CIFAR-10 Batch 5:  Validation accurancy : 0.7250000238418579, 1.7235469818115234\n",
      "Epoch 56, CIFAR-10 Batch 1:  Validation accurancy : 0.550000011920929, 1.9106817245483398\n",
      "Epoch 56, CIFAR-10 Batch 2:  Validation accurancy : 0.6000000238418579, 1.8661634922027588\n",
      "Epoch 56, CIFAR-10 Batch 3:  Validation accurancy : 0.75, 1.705894947052002\n",
      "Epoch 56, CIFAR-10 Batch 4:  Validation accurancy : 0.75, 1.7164465188980103\n",
      "Epoch 56, CIFAR-10 Batch 5:  Validation accurancy : 0.7250000238418579, 1.7430258989334106\n",
      "Epoch 57, CIFAR-10 Batch 1:  Validation accurancy : 0.550000011920929, 1.9148789644241333\n",
      "Epoch 57, CIFAR-10 Batch 2:  Validation accurancy : 0.7250000238418579, 1.7469403743743896\n",
      "Epoch 57, CIFAR-10 Batch 3:  Validation accurancy : 0.75, 1.7056981325149536\n",
      "Epoch 57, CIFAR-10 Batch 4:  Validation accurancy : 0.75, 1.7091083526611328\n",
      "Epoch 57, CIFAR-10 Batch 5:  Validation accurancy : 0.7250000238418579, 1.7310820817947388\n",
      "Epoch 58, CIFAR-10 Batch 1:  Validation accurancy : 0.5249999761581421, 1.9210765361785889\n",
      "Epoch 58, CIFAR-10 Batch 2:  Validation accurancy : 0.6499999761581421, 1.8023314476013184\n",
      "Epoch 58, CIFAR-10 Batch 3:  Validation accurancy : 0.7250000238418579, 1.7329593896865845\n",
      "Epoch 58, CIFAR-10 Batch 4:  Validation accurancy : 0.75, 1.711444616317749\n",
      "Epoch 58, CIFAR-10 Batch 5:  Validation accurancy : 0.75, 1.7195672988891602\n",
      "Epoch 59, CIFAR-10 Batch 1:  Validation accurancy : 0.5750000476837158, 1.890617847442627\n",
      "Epoch 59, CIFAR-10 Batch 2:  Validation accurancy : 0.675000011920929, 1.801682472229004\n",
      "Epoch 59, CIFAR-10 Batch 3:  Validation accurancy : 0.800000011920929, 1.6635611057281494\n",
      "Epoch 59, CIFAR-10 Batch 4:  Validation accurancy : 0.75, 1.7108237743377686\n",
      "Epoch 59, CIFAR-10 Batch 5:  Validation accurancy : 0.75, 1.7203744649887085\n",
      "Epoch 60, CIFAR-10 Batch 1:  Validation accurancy : 0.625, 1.835665225982666\n",
      "Epoch 60, CIFAR-10 Batch 2:  Validation accurancy : 0.675000011920929, 1.7918620109558105\n",
      "Epoch 60, CIFAR-10 Batch 3:  Validation accurancy : 0.7749999761581421, 1.685828447341919\n",
      "Epoch 60, CIFAR-10 Batch 4:  Validation accurancy : 0.75, 1.7151943445205688\n",
      "Epoch 60, CIFAR-10 Batch 5:  Validation accurancy : 0.7250000238418579, 1.732602834701538\n",
      "Epoch 61, CIFAR-10 Batch 1:  Validation accurancy : 0.6499999761581421, 1.830180287361145\n",
      "Epoch 61, CIFAR-10 Batch 2:  Validation accurancy : 0.6749999523162842, 1.786287546157837\n",
      "Epoch 61, CIFAR-10 Batch 3:  Validation accurancy : 0.800000011920929, 1.6606264114379883\n",
      "Epoch 61, CIFAR-10 Batch 4:  Validation accurancy : 0.7500000596046448, 1.7075955867767334\n",
      "Epoch 61, CIFAR-10 Batch 5:  Validation accurancy : 0.7750000357627869, 1.6989281177520752\n",
      "Epoch 62, CIFAR-10 Batch 1:  Validation accurancy : 0.6000000238418579, 1.8650312423706055\n",
      "Epoch 62, CIFAR-10 Batch 2:  Validation accurancy : 0.6749999523162842, 1.7856817245483398\n",
      "Epoch 62, CIFAR-10 Batch 3:  Validation accurancy : 0.800000011920929, 1.669898509979248\n",
      "Epoch 62, CIFAR-10 Batch 4:  Validation accurancy : 0.7249999642372131, 1.7308613061904907\n",
      "Epoch 62, CIFAR-10 Batch 5:  Validation accurancy : 0.675000011920929, 1.7670449018478394\n",
      "Epoch 63, CIFAR-10 Batch 1:  Validation accurancy : 0.5750000476837158, 1.8752907514572144\n",
      "Epoch 63, CIFAR-10 Batch 2:  Validation accurancy : 0.675000011920929, 1.7843477725982666\n",
      "Epoch 63, CIFAR-10 Batch 3:  Validation accurancy : 0.7250000238418579, 1.7416539192199707\n",
      "Epoch 63, CIFAR-10 Batch 4:  Validation accurancy : 0.800000011920929, 1.663838267326355\n",
      "Epoch 63, CIFAR-10 Batch 5:  Validation accurancy : 0.7750000357627869, 1.7036058902740479\n",
      "Epoch 64, CIFAR-10 Batch 1:  Validation accurancy : 0.5750000476837158, 1.885094165802002\n",
      "Epoch 64, CIFAR-10 Batch 2:  Validation accurancy : 0.574999988079071, 1.8713467121124268\n",
      "Epoch 64, CIFAR-10 Batch 3:  Validation accurancy : 0.7250000238418579, 1.726075530052185\n",
      "Epoch 64, CIFAR-10 Batch 4:  Validation accurancy : 0.75, 1.7180836200714111\n",
      "Epoch 64, CIFAR-10 Batch 5:  Validation accurancy : 0.7250000238418579, 1.7356219291687012\n",
      "Epoch 65, CIFAR-10 Batch 1:  Validation accurancy : 0.6500000357627869, 1.818619728088379\n",
      "Epoch 65, CIFAR-10 Batch 2:  Validation accurancy : 0.7000000476837158, 1.7635914087295532\n",
      "Epoch 65, CIFAR-10 Batch 3:  Validation accurancy : 0.824999988079071, 1.6429325342178345\n",
      "Epoch 65, CIFAR-10 Batch 4:  Validation accurancy : 0.7750000357627869, 1.6871616840362549\n",
      "Epoch 65, CIFAR-10 Batch 5:  Validation accurancy : 0.675000011920929, 1.786302089691162\n",
      "Epoch 66, CIFAR-10 Batch 1:  Validation accurancy : 0.625, 1.8348597288131714\n",
      "Epoch 66, CIFAR-10 Batch 2:  Validation accurancy : 0.6749999523162842, 1.7772345542907715\n",
      "Epoch 66, CIFAR-10 Batch 3:  Validation accurancy : 0.824999988079071, 1.6362155675888062\n",
      "Epoch 66, CIFAR-10 Batch 4:  Validation accurancy : 0.699999988079071, 1.7589281797409058\n",
      "Epoch 66, CIFAR-10 Batch 5:  Validation accurancy : 0.7500000596046448, 1.7112791538238525\n",
      "Epoch 67, CIFAR-10 Batch 1:  Validation accurancy : 0.675000011920929, 1.7889295816421509\n",
      "Epoch 67, CIFAR-10 Batch 2:  Validation accurancy : 0.6749999523162842, 1.781245470046997\n",
      "Epoch 67, CIFAR-10 Batch 3:  Validation accurancy : 0.800000011920929, 1.6599189043045044\n",
      "Epoch 67, CIFAR-10 Batch 4:  Validation accurancy : 0.675000011920929, 1.7704834938049316\n",
      "Epoch 67, CIFAR-10 Batch 5:  Validation accurancy : 0.7750000357627869, 1.6853004693984985\n",
      "Epoch 68, CIFAR-10 Batch 1:  Validation accurancy : 0.625, 1.829694151878357\n",
      "Epoch 68, CIFAR-10 Batch 2:  Validation accurancy : 0.625, 1.8409444093704224\n",
      "Epoch 68, CIFAR-10 Batch 3:  Validation accurancy : 0.824999988079071, 1.6358256340026855\n",
      "Epoch 68, CIFAR-10 Batch 4:  Validation accurancy : 0.7750000357627869, 1.6859394311904907\n",
      "Epoch 68, CIFAR-10 Batch 5:  Validation accurancy : 0.7000000476837158, 1.7525634765625\n",
      "Epoch 69, CIFAR-10 Batch 1:  Validation accurancy : 0.6000000238418579, 1.8629589080810547\n",
      "Epoch 69, CIFAR-10 Batch 2:  Validation accurancy : 0.625, 1.8350591659545898\n",
      "Epoch 69, CIFAR-10 Batch 3:  Validation accurancy : 0.824999988079071, 1.6349703073501587\n",
      "Epoch 69, CIFAR-10 Batch 4:  Validation accurancy : 0.7249999642372131, 1.7350420951843262\n",
      "Epoch 69, CIFAR-10 Batch 5:  Validation accurancy : 0.7250000238418579, 1.735762596130371\n",
      "Epoch 70, CIFAR-10 Batch 1:  Validation accurancy : 0.675000011920929, 1.7913620471954346\n",
      "Epoch 70, CIFAR-10 Batch 2:  Validation accurancy : 0.675000011920929, 1.7860333919525146\n",
      "Epoch 70, CIFAR-10 Batch 3:  Validation accurancy : 0.824999988079071, 1.6288725137710571\n",
      "Epoch 70, CIFAR-10 Batch 4:  Validation accurancy : 0.7750000357627869, 1.693537950515747\n",
      "Epoch 70, CIFAR-10 Batch 5:  Validation accurancy : 0.7000000476837158, 1.7576990127563477\n",
      "Epoch 71, CIFAR-10 Batch 1:  Validation accurancy : 0.625, 1.8347278833389282\n",
      "Epoch 71, CIFAR-10 Batch 2:  Validation accurancy : 0.7000000476837158, 1.7587946653366089\n",
      "Epoch 71, CIFAR-10 Batch 3:  Validation accurancy : 0.800000011920929, 1.6597504615783691\n",
      "Epoch 71, CIFAR-10 Batch 4:  Validation accurancy : 0.7750000357627869, 1.6915031671524048\n",
      "Epoch 71, CIFAR-10 Batch 5:  Validation accurancy : 0.75, 1.7137765884399414\n",
      "Epoch 72, CIFAR-10 Batch 1:  Validation accurancy : 0.6000000238418579, 1.8647350072860718\n",
      "Epoch 72, CIFAR-10 Batch 2:  Validation accurancy : 0.75, 1.7284605503082275\n",
      "Epoch 72, CIFAR-10 Batch 3:  Validation accurancy : 0.800000011920929, 1.6610089540481567\n",
      "Epoch 72, CIFAR-10 Batch 4:  Validation accurancy : 0.7250000238418579, 1.7340736389160156\n",
      "Epoch 72, CIFAR-10 Batch 5:  Validation accurancy : 0.75, 1.71055269241333\n",
      "Epoch 73, CIFAR-10 Batch 1:  Validation accurancy : 0.6500000357627869, 1.8090816736221313\n",
      "Epoch 73, CIFAR-10 Batch 2:  Validation accurancy : 0.7250000238418579, 1.7357189655303955\n",
      "Epoch 73, CIFAR-10 Batch 3:  Validation accurancy : 0.824999988079071, 1.6353174448013306\n",
      "Epoch 73, CIFAR-10 Batch 4:  Validation accurancy : 0.7750000357627869, 1.6891822814941406\n",
      "Epoch 73, CIFAR-10 Batch 5:  Validation accurancy : 0.7000000476837158, 1.7587473392486572\n",
      "Epoch 74, CIFAR-10 Batch 1:  Validation accurancy : 0.6500000357627869, 1.8114581108093262\n",
      "Epoch 74, CIFAR-10 Batch 2:  Validation accurancy : 0.6499999761581421, 1.8109036684036255\n",
      "Epoch 74, CIFAR-10 Batch 3:  Validation accurancy : 0.800000011920929, 1.6598331928253174\n",
      "Epoch 74, CIFAR-10 Batch 4:  Validation accurancy : 0.7750000357627869, 1.6805965900421143\n",
      "Epoch 74, CIFAR-10 Batch 5:  Validation accurancy : 0.75, 1.7102190256118774\n",
      "Epoch 75, CIFAR-10 Batch 1:  Validation accurancy : 0.6500000357627869, 1.8096072673797607\n",
      "Epoch 75, CIFAR-10 Batch 2:  Validation accurancy : 0.699999988079071, 1.7528212070465088\n",
      "Epoch 75, CIFAR-10 Batch 3:  Validation accurancy : 0.8500000238418579, 1.6156800985336304\n",
      "Epoch 75, CIFAR-10 Batch 4:  Validation accurancy : 0.800000011920929, 1.665278673171997\n",
      "Epoch 75, CIFAR-10 Batch 5:  Validation accurancy : 0.7250000238418579, 1.735147476196289\n",
      "Epoch 76, CIFAR-10 Batch 1:  Validation accurancy : 0.625, 1.8311727046966553\n",
      "Epoch 76, CIFAR-10 Batch 2:  Validation accurancy : 0.7000000476837158, 1.756962776184082\n",
      "Epoch 76, CIFAR-10 Batch 3:  Validation accurancy : 0.824999988079071, 1.6360371112823486\n",
      "Epoch 76, CIFAR-10 Batch 4:  Validation accurancy : 0.7750000357627869, 1.6694626808166504\n",
      "Epoch 76, CIFAR-10 Batch 5:  Validation accurancy : 0.6750000715255737, 1.77788245677948\n",
      "Epoch 77, CIFAR-10 Batch 1:  Validation accurancy : 0.7000000476837158, 1.7832705974578857\n",
      "Epoch 77, CIFAR-10 Batch 2:  Validation accurancy : 0.7250000238418579, 1.742093563079834\n",
      "Epoch 77, CIFAR-10 Batch 3:  Validation accurancy : 0.8500000238418579, 1.6132535934448242\n",
      "Epoch 77, CIFAR-10 Batch 4:  Validation accurancy : 0.824999988079071, 1.6378402709960938\n",
      "Epoch 77, CIFAR-10 Batch 5:  Validation accurancy : 0.7250000238418579, 1.7359732389450073\n",
      "Epoch 78, CIFAR-10 Batch 1:  Validation accurancy : 0.7000000476837158, 1.7613623142242432\n",
      "Epoch 78, CIFAR-10 Batch 2:  Validation accurancy : 0.7250000238418579, 1.7359375953674316\n",
      "Epoch 78, CIFAR-10 Batch 3:  Validation accurancy : 0.8500000238418579, 1.6104848384857178\n",
      "Epoch 78, CIFAR-10 Batch 4:  Validation accurancy : 0.824999988079071, 1.6385910511016846\n",
      "Epoch 78, CIFAR-10 Batch 5:  Validation accurancy : 0.7250000238418579, 1.7375441789627075\n",
      "Epoch 79, CIFAR-10 Batch 1:  Validation accurancy : 0.6500000357627869, 1.8206233978271484\n",
      "Epoch 79, CIFAR-10 Batch 2:  Validation accurancy : 0.7250000238418579, 1.7384397983551025\n",
      "Epoch 79, CIFAR-10 Batch 3:  Validation accurancy : 0.8500000238418579, 1.6180698871612549\n",
      "Epoch 79, CIFAR-10 Batch 4:  Validation accurancy : 0.7250000238418579, 1.7452211380004883\n",
      "Epoch 79, CIFAR-10 Batch 5:  Validation accurancy : 0.7749999761581421, 1.6876111030578613\n",
      "Epoch 80, CIFAR-10 Batch 1:  Validation accurancy : 0.7000000476837158, 1.7603869438171387\n",
      "Epoch 80, CIFAR-10 Batch 2:  Validation accurancy : 0.7000000476837158, 1.7625466585159302\n",
      "Epoch 80, CIFAR-10 Batch 3:  Validation accurancy : 0.8500000238418579, 1.6110236644744873\n",
      "Epoch 80, CIFAR-10 Batch 4:  Validation accurancy : 0.7750000357627869, 1.6818294525146484\n",
      "Epoch 80, CIFAR-10 Batch 5:  Validation accurancy : 0.75, 1.7006940841674805\n",
      "Epoch 81, CIFAR-10 Batch 1:  Validation accurancy : 0.6000000238418579, 1.8442041873931885\n",
      "Epoch 81, CIFAR-10 Batch 2:  Validation accurancy : 0.6749999523162842, 1.7880477905273438\n",
      "Epoch 81, CIFAR-10 Batch 3:  Validation accurancy : 0.8250000476837158, 1.6356884241104126\n",
      "Epoch 81, CIFAR-10 Batch 4:  Validation accurancy : 0.800000011920929, 1.662552833557129\n",
      "Epoch 81, CIFAR-10 Batch 5:  Validation accurancy : 0.7750000357627869, 1.6809377670288086\n",
      "Epoch 82, CIFAR-10 Batch 1:  Validation accurancy : 0.6500000357627869, 1.8019381761550903\n",
      "Epoch 82, CIFAR-10 Batch 2:  Validation accurancy : 0.7000000476837158, 1.7689011096954346\n",
      "Epoch 82, CIFAR-10 Batch 3:  Validation accurancy : 0.8500000238418579, 1.6123671531677246\n",
      "Epoch 82, CIFAR-10 Batch 4:  Validation accurancy : 0.75, 1.7082231044769287\n",
      "Epoch 82, CIFAR-10 Batch 5:  Validation accurancy : 0.7250000238418579, 1.7376731634140015\n",
      "Epoch 83, CIFAR-10 Batch 1:  Validation accurancy : 0.6499999761581421, 1.8099541664123535\n",
      "Epoch 83, CIFAR-10 Batch 2:  Validation accurancy : 0.699999988079071, 1.76588773727417\n",
      "Epoch 83, CIFAR-10 Batch 3:  Validation accurancy : 0.824999988079071, 1.6390886306762695\n",
      "Epoch 83, CIFAR-10 Batch 4:  Validation accurancy : 0.699999988079071, 1.7491711378097534\n",
      "Epoch 83, CIFAR-10 Batch 5:  Validation accurancy : 0.75, 1.7111726999282837\n",
      "Epoch 84, CIFAR-10 Batch 1:  Validation accurancy : 0.6000000238418579, 1.8600473403930664\n",
      "Epoch 84, CIFAR-10 Batch 2:  Validation accurancy : 0.675000011920929, 1.793686866760254\n",
      "Epoch 84, CIFAR-10 Batch 3:  Validation accurancy : 0.8500000238418579, 1.6112782955169678\n",
      "Epoch 84, CIFAR-10 Batch 4:  Validation accurancy : 0.800000011920929, 1.6610684394836426\n",
      "Epoch 84, CIFAR-10 Batch 5:  Validation accurancy : 0.75, 1.711094617843628\n",
      "Epoch 85, CIFAR-10 Batch 1:  Validation accurancy : 0.625, 1.8349205255508423\n",
      "Epoch 85, CIFAR-10 Batch 2:  Validation accurancy : 0.7250000238418579, 1.7362226247787476\n",
      "Epoch 85, CIFAR-10 Batch 3:  Validation accurancy : 0.824999988079071, 1.6408882141113281\n",
      "Epoch 85, CIFAR-10 Batch 4:  Validation accurancy : 0.8499999642372131, 1.6118279695510864\n",
      "Epoch 85, CIFAR-10 Batch 5:  Validation accurancy : 0.75, 1.7109345197677612\n",
      "Epoch 86, CIFAR-10 Batch 1:  Validation accurancy : 0.7250000238418579, 1.7402238845825195\n",
      "Epoch 86, CIFAR-10 Batch 2:  Validation accurancy : 0.7250000238418579, 1.7235325574874878\n",
      "Epoch 86, CIFAR-10 Batch 3:  Validation accurancy : 0.7750000357627869, 1.6844780445098877\n",
      "Epoch 86, CIFAR-10 Batch 4:  Validation accurancy : 0.800000011920929, 1.6567773818969727\n",
      "Epoch 86, CIFAR-10 Batch 5:  Validation accurancy : 0.7250000238418579, 1.7392125129699707\n",
      "Epoch 87, CIFAR-10 Batch 1:  Validation accurancy : 0.6499999761581421, 1.8118305206298828\n",
      "Epoch 87, CIFAR-10 Batch 2:  Validation accurancy : 0.6499999761581421, 1.7965633869171143\n",
      "Epoch 87, CIFAR-10 Batch 3:  Validation accurancy : 0.8250000476837158, 1.6368635892868042\n",
      "Epoch 87, CIFAR-10 Batch 4:  Validation accurancy : 0.800000011920929, 1.6651122570037842\n",
      "Epoch 87, CIFAR-10 Batch 5:  Validation accurancy : 0.7000000476837158, 1.7596745491027832\n",
      "Epoch 88, CIFAR-10 Batch 1:  Validation accurancy : 0.6750000715255737, 1.7927932739257812\n",
      "Epoch 88, CIFAR-10 Batch 2:  Validation accurancy : 0.5750000476837158, 1.8891093730926514\n",
      "Epoch 88, CIFAR-10 Batch 3:  Validation accurancy : 0.8250000476837158, 1.6356475353240967\n",
      "Epoch 88, CIFAR-10 Batch 4:  Validation accurancy : 0.800000011920929, 1.6732332706451416\n",
      "Epoch 88, CIFAR-10 Batch 5:  Validation accurancy : 0.7750000357627869, 1.693008303642273\n",
      "Epoch 89, CIFAR-10 Batch 1:  Validation accurancy : 0.625, 1.8126031160354614\n",
      "Epoch 89, CIFAR-10 Batch 2:  Validation accurancy : 0.7500000596046448, 1.7314356565475464\n",
      "Epoch 89, CIFAR-10 Batch 3:  Validation accurancy : 0.8250000476837158, 1.6387428045272827\n",
      "Epoch 89, CIFAR-10 Batch 4:  Validation accurancy : 0.824999988079071, 1.6368428468704224\n",
      "Epoch 89, CIFAR-10 Batch 5:  Validation accurancy : 0.7750000357627869, 1.691454291343689\n",
      "Epoch 90, CIFAR-10 Batch 1:  Validation accurancy : 0.675000011920929, 1.7955117225646973\n",
      "Epoch 90, CIFAR-10 Batch 2:  Validation accurancy : 0.675000011920929, 1.7845706939697266\n",
      "Epoch 90, CIFAR-10 Batch 3:  Validation accurancy : 0.7750000357627869, 1.6852216720581055\n",
      "Epoch 90, CIFAR-10 Batch 4:  Validation accurancy : 0.800000011920929, 1.663658618927002\n",
      "Epoch 90, CIFAR-10 Batch 5:  Validation accurancy : 0.6500000357627869, 1.8034435510635376\n",
      "Epoch 91, CIFAR-10 Batch 1:  Validation accurancy : 0.6000000238418579, 1.8604062795639038\n",
      "Epoch 91, CIFAR-10 Batch 2:  Validation accurancy : 0.6499999761581421, 1.810373067855835\n",
      "Epoch 91, CIFAR-10 Batch 3:  Validation accurancy : 0.7750000357627869, 1.6850781440734863\n",
      "Epoch 91, CIFAR-10 Batch 4:  Validation accurancy : 0.8500000238418579, 1.6310824155807495\n",
      "Epoch 91, CIFAR-10 Batch 5:  Validation accurancy : 0.7250000238418579, 1.7378431558609009\n",
      "Epoch 92, CIFAR-10 Batch 1:  Validation accurancy : 0.625, 1.828805923461914\n",
      "Epoch 92, CIFAR-10 Batch 2:  Validation accurancy : 0.6499999761581421, 1.8052929639816284\n",
      "Epoch 92, CIFAR-10 Batch 3:  Validation accurancy : 0.8250000476837158, 1.6402180194854736\n",
      "Epoch 92, CIFAR-10 Batch 4:  Validation accurancy : 0.7749999761581421, 1.6826715469360352\n",
      "Epoch 92, CIFAR-10 Batch 5:  Validation accurancy : 0.7250000238418579, 1.738047480583191\n",
      "Epoch 93, CIFAR-10 Batch 1:  Validation accurancy : 0.5750000476837158, 1.8821057081222534\n",
      "Epoch 93, CIFAR-10 Batch 2:  Validation accurancy : 0.7000000476837158, 1.7836191654205322\n",
      "Epoch 93, CIFAR-10 Batch 3:  Validation accurancy : 0.7500000596046448, 1.7061396837234497\n",
      "Epoch 93, CIFAR-10 Batch 4:  Validation accurancy : 0.8499999642372131, 1.6113580465316772\n",
      "Epoch 93, CIFAR-10 Batch 5:  Validation accurancy : 0.75, 1.7109991312026978\n",
      "Epoch 94, CIFAR-10 Batch 1:  Validation accurancy : 0.6499999761581421, 1.8047654628753662\n",
      "Epoch 94, CIFAR-10 Batch 2:  Validation accurancy : 0.675000011920929, 1.7754653692245483\n",
      "Epoch 94, CIFAR-10 Batch 3:  Validation accurancy : 0.8250000476837158, 1.6343601942062378\n",
      "Epoch 94, CIFAR-10 Batch 4:  Validation accurancy : 0.8499999642372131, 1.6119014024734497\n",
      "Epoch 94, CIFAR-10 Batch 5:  Validation accurancy : 0.8250000476837158, 1.6369069814682007\n",
      "Epoch 95, CIFAR-10 Batch 1:  Validation accurancy : 0.6000000238418579, 1.857027530670166\n",
      "Epoch 95, CIFAR-10 Batch 2:  Validation accurancy : 0.7250000238418579, 1.7376093864440918\n",
      "Epoch 95, CIFAR-10 Batch 3:  Validation accurancy : 0.8250000476837158, 1.6358134746551514\n",
      "Epoch 95, CIFAR-10 Batch 4:  Validation accurancy : 0.824999988079071, 1.6362619400024414\n",
      "Epoch 95, CIFAR-10 Batch 5:  Validation accurancy : 0.7750000357627869, 1.685784101486206\n",
      "Epoch 96, CIFAR-10 Batch 1:  Validation accurancy : 0.675000011920929, 1.7783958911895752\n",
      "Epoch 96, CIFAR-10 Batch 2:  Validation accurancy : 0.699999988079071, 1.7618228197097778\n",
      "Epoch 96, CIFAR-10 Batch 3:  Validation accurancy : 0.7750000357627869, 1.6844966411590576\n",
      "Epoch 96, CIFAR-10 Batch 4:  Validation accurancy : 0.7500000596046448, 1.7108829021453857\n",
      "Epoch 96, CIFAR-10 Batch 5:  Validation accurancy : 0.7000000476837158, 1.7602521181106567\n",
      "Epoch 97, CIFAR-10 Batch 1:  Validation accurancy : 0.6750000715255737, 1.7880527973175049\n",
      "Epoch 97, CIFAR-10 Batch 2:  Validation accurancy : 0.7250000238418579, 1.7359646558761597\n",
      "Epoch 97, CIFAR-10 Batch 3:  Validation accurancy : 0.824999988079071, 1.6351524591445923\n",
      "Epoch 97, CIFAR-10 Batch 4:  Validation accurancy : 0.8250000476837158, 1.6355769634246826\n",
      "Epoch 97, CIFAR-10 Batch 5:  Validation accurancy : 0.7750000357627869, 1.6861610412597656\n",
      "Epoch 98, CIFAR-10 Batch 1:  Validation accurancy : 0.6499999761581421, 1.8012300729751587\n",
      "Epoch 98, CIFAR-10 Batch 2:  Validation accurancy : 0.675000011920929, 1.7843098640441895\n",
      "Epoch 98, CIFAR-10 Batch 3:  Validation accurancy : 0.7750000357627869, 1.6887058019638062\n",
      "Epoch 98, CIFAR-10 Batch 4:  Validation accurancy : 0.8250000476837158, 1.6344006061553955\n",
      "Epoch 98, CIFAR-10 Batch 5:  Validation accurancy : 0.7500000596046448, 1.7133867740631104\n",
      "Epoch 99, CIFAR-10 Batch 1:  Validation accurancy : 0.7000000476837158, 1.7728307247161865\n",
      "Epoch 99, CIFAR-10 Batch 2:  Validation accurancy : 0.675000011920929, 1.7844560146331787\n",
      "Epoch 99, CIFAR-10 Batch 3:  Validation accurancy : 0.8250000476837158, 1.6371357440948486\n",
      "Epoch 99, CIFAR-10 Batch 4:  Validation accurancy : 0.824999988079071, 1.621048927307129\n",
      "Epoch 99, CIFAR-10 Batch 5:  Validation accurancy : 0.7250000238418579, 1.7311582565307617\n",
      "Epoch 100, CIFAR-10 Batch 1:  Validation accurancy : 0.6500000357627869, 1.8094336986541748\n",
      "Epoch 100, CIFAR-10 Batch 2:  Validation accurancy : 0.699999988079071, 1.7605324983596802\n",
      "Epoch 100, CIFAR-10 Batch 3:  Validation accurancy : 0.7750000357627869, 1.6861484050750732\n",
      "Epoch 100, CIFAR-10 Batch 4:  Validation accurancy : 0.8250000476837158, 1.628615379333496\n",
      "Epoch 100, CIFAR-10 Batch 5:  Validation accurancy : 0.75, 1.7112512588500977\n"
     ]
    }
   ],
   "source": [
    "\"\"\"\n",
    "DON'T MODIFY ANYTHING IN THIS CELL\n",
    "\"\"\"\n",
    "save_model_path = './image_classification'\n",
    "\n",
    "print('Training...')\n",
    "with tf.Session() as sess:\n",
    "    # Initializing the variables\n",
    "    sess.run(tf.global_variables_initializer())\n",
    "    \n",
    "    # Training cycle\n",
    "    for epoch in range(epochs):\n",
    "        # Loop over all batches\n",
    "        n_batches = 5\n",
    "        for batch_i in range(1, n_batches + 1):\n",
    "            for batch_features, batch_labels in helper.load_preprocess_training_batch(batch_i, batch_size):\n",
    "                train_neural_network(sess, optimizer, keep_probability, batch_features, batch_labels)\n",
    "            print('Epoch {:>2}, CIFAR-10 Batch {}:  '.format(epoch + 1, batch_i), end='')\n",
    "            print_stats(sess, batch_features, batch_labels, cost, accuracy)\n",
    "            \n",
    "    # Save Model\n",
    "    saver = tf.train.Saver()\n",
    "    save_path = saver.save(sess, save_model_path)"
   ]
  },
  {
   "cell_type": "markdown",
   "metadata": {
    "deletable": true,
    "editable": true
   },
   "source": [
    "# Checkpoint\n",
    "The model has been saved to disk.\n",
    "## Test Model\n",
    "Test your model against the test dataset.  This will be your final accuracy. You should have an accuracy greater than 50%. If you don't, keep tweaking the model architecture and parameters."
   ]
  },
  {
   "cell_type": "code",
   "execution_count": 24,
   "metadata": {
    "collapsed": false,
    "deletable": true,
    "editable": true
   },
   "outputs": [
    {
     "name": "stdout",
     "output_type": "stream",
     "text": [
      "Testing Accuracy: 0.57919921875\n",
      "\n"
     ]
    },
    {
     "data": {
      "image/png": "[encoded data removed]",
      "text/plain": [
       "<matplotlib.figure.Figure at 0x7fe6fe6f0588>"
      ]
     },
     "metadata": {
      "image/png": {
       "height": 319,
       "width": 355
      }
     },
     "output_type": "display_data"
    }
   ],
   "source": [
    "\"\"\"\n",
    "DON'T MODIFY ANYTHING IN THIS CELL\n",
    "\"\"\"\n",
    "%matplotlib inline\n",
    "%config InlineBackend.figure_format = 'retina'\n",
    "\n",
    "import tensorflow as tf\n",
    "import pickle\n",
    "import helper\n",
    "import random\n",
    "\n",
    "# Set batch size if not already set\n",
    "try:\n",
    "    if batch_size:\n",
    "        pass\n",
    "except NameError:\n",
    "    batch_size = 64\n",
    "\n",
    "save_model_path = './image_classification'\n",
    "n_samples = 4\n",
    "top_n_predictions = 3\n",
    "\n",
    "def test_model():\n",
    "    \"\"\"\n",
    "    Test the saved model against the test dataset\n",
    "    \"\"\"\n",
    "\n",
    "    test_features, test_labels = pickle.load(open('preprocess_training.p', mode='rb'))\n",
    "    loaded_graph = tf.Graph()\n",
    "\n",
    "    with tf.Session(graph=loaded_graph) as sess:\n",
    "        # Load model\n",
    "        loader = tf.train.import_meta_graph(save_model_path + '.meta')\n",
    "        loader.restore(sess, save_model_path)\n",
    "\n",
    "        # Get Tensors from loaded model\n",
    "        loaded_x = loaded_graph.get_tensor_by_name('x:0')\n",
    "        loaded_y = loaded_graph.get_tensor_by_name('y:0')\n",
    "        loaded_keep_prob = loaded_graph.get_tensor_by_name('keep_prob:0')\n",
    "        loaded_logits = loaded_graph.get_tensor_by_name('logits:0')\n",
    "        loaded_acc = loaded_graph.get_tensor_by_name('accuracy:0')\n",
    "        \n",
    "        # Get accuracy in batches for memory limitations\n",
    "        test_batch_acc_total = 0\n",
    "        test_batch_count = 0\n",
    "        \n",
    "        for train_feature_batch, train_label_batch in helper.batch_features_labels(test_features, test_labels, batch_size):\n",
    "            test_batch_acc_total += sess.run(\n",
    "                loaded_acc,\n",
    "                feed_dict={loaded_x: train_feature_batch, loaded_y: train_label_batch, loaded_keep_prob: 1.0})\n",
    "            test_batch_count += 1\n",
    "\n",
    "        print('Testing Accuracy: {}\\n'.format(test_batch_acc_total/test_batch_count))\n",
    "\n",
    "        # Print Random Samples\n",
    "        random_test_features, random_test_labels = tuple(zip(*random.sample(list(zip(test_features, test_labels)), n_samples)))\n",
    "        random_test_predictions = sess.run(\n",
    "            tf.nn.top_k(tf.nn.softmax(loaded_logits), top_n_predictions),\n",
    "            feed_dict={loaded_x: random_test_features, loaded_y: random_test_labels, loaded_keep_prob: 1.0})\n",
    "        helper.display_image_predictions(random_test_features, random_test_labels, random_test_predictions)\n",
    "\n",
    "\n",
    "test_model()"
   ]
  },
  {
   "cell_type": "markdown",
   "metadata": {
    "deletable": true,
    "editable": true
   },
   "source": [
    "## Why 50-70% Accuracy?\n",
    "You might be wondering why you can't get an accuracy any higher. First things first, 50% isn't bad for a simple CNN.  Pure guessing would get you 10% accuracy. However, you might notice people are getting scores [well above 70%](http://rodrigob.github.io/are_we_there_yet/build/classification_datasets_results.html#43494641522d3130).  That's because we haven't taught you all there is to know about neural networks. We still need to cover a few more techniques.\n",
    "## Submitting This Project\n",
    "When submitting this project, make sure to run all the cells before saving the notebook.  Save the notebook file as \"dlnd_image_classification.ipynb\" and save it as a HTML file under \"File\" -> \"Download as\".  Include the \"helper.py\" and \"problem_unittests.py\" files in your submission."
   ]
  }
 ],
 "metadata": {
  "kernelspec": {
   "display_name": "Python 3",
   "language": "python",
   "name": "python3"
  },
  "language_info": {
   "codemirror_mode": {
    "name": "ipython",
    "version": 3
   },
   "file_extension": ".py",
   "mimetype": "text/x-python",
   "name": "python",
   "nbconvert_exporter": "python",
   "pygments_lexer": "ipython3",
   "version": "3.5.2"
  },
  "widgets": {
   "state": {},
   "version": "1.1.2"
  }
 },
 "nbformat": 4,
 "nbformat_minor": 0
}
