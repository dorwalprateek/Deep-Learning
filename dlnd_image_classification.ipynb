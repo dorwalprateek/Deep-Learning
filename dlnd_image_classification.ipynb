{
 "cells": [
  {
   "cell_type": "markdown",
   "metadata": {
    "collapsed": true,
    "deletable": true,
    "editable": true
   },
   "source": [
    "# Image Classification\n",
    "In this project, you'll classify images from the [CIFAR-10 dataset](https://www.cs.toronto.edu/~kriz/cifar.html).  The dataset consists of airplanes, dogs, cats, and other objects. You'll preprocess the images, then train a convolutional neural network on all the samples. The images need to be normalized and the labels need to be one-hot encoded.  You'll get to apply what you learned and build a convolutional, max pooling, dropout, and fully connected layers.  At the end, you'll get to see your neural network's predictions on the sample images.\n",
    "## Get the Data\n",
    "Run the following cell to download the [CIFAR-10 dataset for python](https://www.cs.toronto.edu/~kriz/cifar-10-python.tar.gz)."
   ]
  },
  {
   "cell_type": "code",
   "execution_count": 1,
   "metadata": {
    "collapsed": false,
    "deletable": true,
    "editable": true
   },
   "outputs": [
    {
     "name": "stderr",
     "output_type": "stream",
     "text": [
      "CIFAR-10 Dataset: 171MB [00:31, 5.42MB/s]                              \n"
     ]
    },
    {
     "name": "stdout",
     "output_type": "stream",
     "text": [
      "All files found!\n"
     ]
    }
   ],
   "source": [
    "\"\"\"\n",
    "DON'T MODIFY ANYTHING IN THIS CELL THAT IS BELOW THIS LINE\n",
    "\"\"\"\n",
    "from urllib.request import urlretrieve\n",
    "from os.path import isfile, isdir\n",
    "from tqdm import tqdm\n",
    "import problem_unittests as tests\n",
    "import tarfile\n",
    "\n",
    "cifar10_dataset_folder_path = 'cifar-10-batches-py'\n",
    "\n",
    "class DLProgress(tqdm):\n",
    "    last_block = 0\n",
    "\n",
    "    def hook(self, block_num=1, block_size=1, total_size=None):\n",
    "        self.total = total_size\n",
    "        self.update((block_num - self.last_block) * block_size)\n",
    "        self.last_block = block_num\n",
    "\n",
    "if not isfile('cifar-10-python.tar.gz'):\n",
    "    with DLProgress(unit='B', unit_scale=True, miniters=1, desc='CIFAR-10 Dataset') as pbar:\n",
    "        urlretrieve(\n",
    "            'https://www.cs.toronto.edu/~kriz/cifar-10-python.tar.gz',\n",
    "            'cifar-10-python.tar.gz',\n",
    "            pbar.hook)\n",
    "\n",
    "if not isdir(cifar10_dataset_folder_path):\n",
    "    with tarfile.open('cifar-10-python.tar.gz') as tar:\n",
    "        tar.extractall()\n",
    "        tar.close()\n",
    "\n",
    "\n",
    "tests.test_folder_path(cifar10_dataset_folder_path)"
   ]
  },
  {
   "cell_type": "markdown",
   "metadata": {
    "deletable": true,
    "editable": true
   },
   "source": [
    "## Explore the Data\n",
    "The dataset is broken into batches to prevent your machine from running out of memory.  The CIFAR-10 dataset consists of 5 batches, named `data_batch_1`, `data_batch_2`, etc.. Each batch contains the labels and images that are one of the following:\n",
    "* airplane\n",
    "* automobile\n",
    "* bird\n",
    "* cat\n",
    "* deer\n",
    "* dog\n",
    "* frog\n",
    "* horse\n",
    "* ship\n",
    "* truck\n",
    "\n",
    "Understanding a dataset is part of making predictions on the data.  Play around with the code cell below by changing the `batch_id` and `sample_id`. The `batch_id` is the id for a batch (1-5). The `sample_id` is the id for a image and label pair in the batch.\n",
    "\n",
    "Ask yourself \"What are all possible labels?\", \"What is the range of values for the image data?\", \"Are the labels in order or random?\".  Answers to questions like these will help you preprocess the data and end up with better predictions."
   ]
  },
  {
   "cell_type": "code",
   "execution_count": 3,
   "metadata": {
    "collapsed": false,
    "deletable": true,
    "editable": true
   },
   "outputs": [
    {
     "name": "stdout",
     "output_type": "stream",
     "text": [
      "\n",
      "Stats of batch 1:\n",
      "Samples: 10000\n",
      "Label Counts: {0: 1005, 1: 974, 2: 1032, 3: 1016, 4: 999, 5: 937, 6: 1030, 7: 1001, 8: 1025, 9: 981}\n",
      "First 20 Labels: [6, 9, 9, 4, 1, 1, 2, 7, 8, 3, 4, 7, 7, 2, 9, 9, 9, 3, 2, 6]\n",
      "\n",
      "Example of Image 9999:\n",
      "Image - Min Value: 4 Max Value: 252\n",
      "Image - Shape: (32, 32, 3)\n",
      "Label - Label Id: 5 Name: dog\n"
     ]
    },
    {
     "data": {
      "image/png": "[encoded data removed]",
      "text/plain": [
       "<matplotlib.figure.Figure at 0x7f8d9b5d24a8>"
      ]
     },
     "metadata": {
      "image/png": {
       "height": 250,
       "width": 253
      }
     },
     "output_type": "display_data"
    }
   ],
   "source": [
    "%matplotlib inline\n",
    "%config InlineBackend.figure_format = 'retina'\n",
    "\n",
    "import helper\n",
    "import numpy as np\n",
    "\n",
    "# Explore the dataset\n",
    "batch_id = 1\n",
    "sample_id = 9999\n",
    "helper.display_stats(cifar10_dataset_folder_path, batch_id, sample_id)"
   ]
  },
  {
   "cell_type": "markdown",
   "metadata": {
    "deletable": true,
    "editable": true
   },
   "source": [
    "## Implement Preprocess Functions\n",
    "### Normalize\n",
    "In the cell below, implement the `normalize` function to take in image data, `x`, and return it as a normalized Numpy array. The values should be in the range of 0 to 1, inclusive.  The return object should be the same shape as `x`."
   ]
  },
  {
   "cell_type": "code",
   "execution_count": 15,
   "metadata": {
    "collapsed": false,
    "deletable": true,
    "editable": true
   },
   "outputs": [
    {
     "name": "stdout",
     "output_type": "stream",
     "text": [
      "Tests Passed\n"
     ]
    }
   ],
   "source": [
    "def normalize(x):\n",
    "    \"\"\"\n",
    "    Normalize a list of sample image data in the range of 0 to 1\n",
    "    : x: List of image data.  The image shape is (32, 32, 3)\n",
    "    : return: Numpy array of normalize data\n",
    "    \"\"\"\n",
    "    # TODO: Implement Function\n",
    "    a = 0.0\n",
    "    b = 1.0\n",
    "    grayscale_min = 0\n",
    "    grayscale_max = 255\n",
    "    return a + ( ( (x - grayscale_min)*(b - a) )/( grayscale_max - grayscale_min ) )\n",
    "    \n",
    "\n",
    "\n",
    "\"\"\"\n",
    "DON'T MODIFY ANYTHING IN THIS CELL THAT IS BELOW THIS LINE\n",
    "\"\"\"\n",
    "tests.test_normalize(normalize)"
   ]
  },
  {
   "cell_type": "markdown",
   "metadata": {
    "deletable": true,
    "editable": true
   },
   "source": [
    "### One-hot encode\n",
    "Just like the previous code cell, you'll be implementing a function for preprocessing.  This time, you'll implement the `one_hot_encode` function. The input, `x`, are a list of labels.  Implement the function to return the list of labels as One-Hot encoded Numpy array.  The possible values for labels are 0 to 9. The one-hot encoding function should return the same encoding for each value between each call to `one_hot_encode`.  Make sure to save the map of encodings outside the function.\n",
    "\n",
    "Hint: Don't reinvent the wheel."
   ]
  },
  {
   "cell_type": "code",
   "execution_count": 16,
   "metadata": {
    "collapsed": false,
    "deletable": true,
    "editable": true
   },
   "outputs": [
    {
     "name": "stdout",
     "output_type": "stream",
     "text": [
      "Tests Passed\n"
     ]
    }
   ],
   "source": [
    "from sklearn.preprocessing import OneHotEncoder, MultiLabelBinarizer, LabelBinarizer\n",
    "enc = LabelBinarizer()\n",
    "enc.fit(range(10))\n",
    "    \n",
    "def one_hot_encode(x):\n",
    "    \"\"\"\n",
    "    One hot encode a list of sample labels. Return a one-hot encoded vector for each label.\n",
    "    : x: List of sample Labels\n",
    "    : return: Numpy array of one-hot encoded labels\n",
    "    \"\"\"\n",
    "    # TODO: Implement Function\n",
    "    \n",
    "    return enc.transform(x)\n",
    "\n",
    "\n",
    "\"\"\"\n",
    "DON'T MODIFY ANYTHING IN THIS CELL THAT IS BELOW THIS LINE\n",
    "\"\"\"\n",
    "tests.test_one_hot_encode(one_hot_encode)"
   ]
  },
  {
   "cell_type": "markdown",
   "metadata": {
    "deletable": true,
    "editable": true
   },
   "source": [
    "### Randomize Data\n",
    "As you saw from exploring the data above, the order of the samples are randomized.  It doesn't hurt to randomize it again, but you don't need to for this dataset."
   ]
  },
  {
   "cell_type": "markdown",
   "metadata": {
    "deletable": true,
    "editable": true
   },
   "source": [
    "## Preprocess all the data and save it\n",
    "Running the code cell below will preprocess all the CIFAR-10 data and save it to file. The code below also uses 10% of the training data for validation."
   ]
  },
  {
   "cell_type": "code",
   "execution_count": 17,
   "metadata": {
    "collapsed": false,
    "deletable": true,
    "editable": true
   },
   "outputs": [],
   "source": [
    "\"\"\"\n",
    "DON'T MODIFY ANYTHING IN THIS CELL\n",
    "\"\"\"\n",
    "# Preprocess Training, Validation, and Testing Data\n",
    "helper.preprocess_and_save_data(cifar10_dataset_folder_path, normalize, one_hot_encode)"
   ]
  },
  {
   "cell_type": "markdown",
   "metadata": {
    "deletable": true,
    "editable": true
   },
   "source": [
    "# Check Point\n",
    "This is your first checkpoint.  If you ever decide to come back to this notebook or have to restart the notebook, you can start from here.  The preprocessed data has been saved to disk."
   ]
  },
  {
   "cell_type": "code",
   "execution_count": 2,
   "metadata": {
    "collapsed": true,
    "deletable": true,
    "editable": true
   },
   "outputs": [],
   "source": [
    "\"\"\"\n",
    "DON'T MODIFY ANYTHING IN THIS CELL\n",
    "\"\"\"\n",
    "import pickle\n",
    "import problem_unittests as tests\n",
    "import helper\n",
    "\n",
    "# Load the Preprocessed Validation data\n",
    "valid_features, valid_labels = pickle.load(open('preprocess_validation.p', mode='rb'))"
   ]
  },
  {
   "cell_type": "markdown",
   "metadata": {
    "deletable": true,
    "editable": true
   },
   "source": [
    "## Build the network\n",
    "For the neural network, you'll build each layer into a function.  Most of the code you've seen has been outside of functions. To test your code more thoroughly, we require that you put each layer in a function.  This allows us to give you better feedback and test for simple mistakes using our unittests before you submit your project.\n",
    "\n",
    ">**Note:** If you're finding it hard to dedicate enough time for this course each week, we've provided a small shortcut to this part of the project. In the next couple of problems, you'll have the option to use classes from the [TensorFlow Layers](https://www.tensorflow.org/api_docs/python/tf/layers) or [TensorFlow Layers (contrib)](https://www.tensorflow.org/api_guides/python/contrib.layers) packages to build each layer, except the layers you build in the \"Convolutional and Max Pooling Layer\" section.  TF Layers is similar to Keras's and TFLearn's abstraction to layers, so it's easy to pickup.\n",
    "\n",
    ">However, if you would like to get the most out of this course, try to solve all the problems _without_ using anything from the TF Layers packages. You **can** still use classes from other packages that happen to have the same name as ones you find in TF Layers! For example, instead of using the TF Layers version of the `conv2d` class, [tf.layers.conv2d](https://www.tensorflow.org/api_docs/python/tf/layers/conv2d), you would want to use the TF Neural Network version of `conv2d`, [tf.nn.conv2d](https://www.tensorflow.org/api_docs/python/tf/nn/conv2d). \n",
    "\n",
    "Let's begin!\n",
    "\n",
    "### Input\n",
    "The neural network needs to read the image data, one-hot encoded labels, and dropout keep probability. Implement the following functions\n",
    "* Implement `neural_net_image_input`\n",
    " * Return a [TF Placeholder](https://www.tensorflow.org/api_docs/python/tf/placeholder)\n",
    " * Set the shape using `image_shape` with batch size set to `None`.\n",
    " * Name the TensorFlow placeholder \"x\" using the TensorFlow `name` parameter in the [TF Placeholder](https://www.tensorflow.org/api_docs/python/tf/placeholder).\n",
    "* Implement `neural_net_label_input`\n",
    " * Return a [TF Placeholder](https://www.tensorflow.org/api_docs/python/tf/placeholder)\n",
    " * Set the shape using `n_classes` with batch size set to `None`.\n",
    " * Name the TensorFlow placeholder \"y\" using the TensorFlow `name` parameter in the [TF Placeholder](https://www.tensorflow.org/api_docs/python/tf/placeholder).\n",
    "* Implement `neural_net_keep_prob_input`\n",
    " * Return a [TF Placeholder](https://www.tensorflow.org/api_docs/python/tf/placeholder) for dropout keep probability.\n",
    " * Name the TensorFlow placeholder \"keep_prob\" using the TensorFlow `name` parameter in the [TF Placeholder](https://www.tensorflow.org/api_docs/python/tf/placeholder).\n",
    "\n",
    "These names will be used at the end of the project to load your saved model.\n",
    "\n",
    "Note: `None` for shapes in TensorFlow allow for a dynamic size."
   ]
  },
  {
   "cell_type": "code",
   "execution_count": 3,
   "metadata": {
    "collapsed": false,
    "deletable": true,
    "editable": true
   },
   "outputs": [
    {
     "name": "stdout",
     "output_type": "stream",
     "text": [
      "Image Input Tests Passed.\n",
      "Label Input Tests Passed.\n",
      "Keep Prob Tests Passed.\n"
     ]
    }
   ],
   "source": [
    "import tensorflow as tf\n",
    "\n",
    "def neural_net_image_input(image_shape):\n",
    "    \"\"\"\n",
    "    Return a Tensor for a bach of image input\n",
    "    : image_shape: Shape of the images\n",
    "    : return: Tensor for image input.\n",
    "    \"\"\"\n",
    "    # TODO: Implement Function\n",
    "    x=tf.placeholder(tf.float32,shape=[None,*image_shape],name='x')\n",
    "    return x\n",
    "\n",
    "\n",
    "def neural_net_label_input(n_classes):\n",
    "    \"\"\"\n",
    "    Return a Tensor for a batch of label input\n",
    "    : n_classes: Number of classes\n",
    "    : return: Tensor for label input.\n",
    "    \"\"\"\n",
    "    # TODO: Implement Function\n",
    "    y=tf.placeholder(tf.float32,shape=(None,n_classes),name='y')\n",
    "    return y\n",
    "\n",
    "\n",
    "def neural_net_keep_prob_input():\n",
    "    \"\"\"\n",
    "    Return a Tensor for keep probability\n",
    "    : return: Tensor for keep probability.\n",
    "    \"\"\"\n",
    "    # TODO: Implement Function\n",
    "    keep_prob=tf.placeholder(tf.float32,name='keep_prob')\n",
    "    return keep_prob\n",
    "\n",
    "\n",
    "\"\"\"\n",
    "DON'T MODIFY ANYTHING IN THIS CELL THAT IS BELOW THIS LINE\n",
    "\"\"\"\n",
    "tf.reset_default_graph()\n",
    "tests.test_nn_image_inputs(neural_net_image_input)\n",
    "tests.test_nn_label_inputs(neural_net_label_input)\n",
    "tests.test_nn_keep_prob_inputs(neural_net_keep_prob_input)"
   ]
  },
  {
   "cell_type": "markdown",
   "metadata": {
    "deletable": true,
    "editable": true
   },
   "source": [
    "### Convolution and Max Pooling Layer\n",
    "Convolution layers have a lot of success with images. For this code cell, you should implement the function `conv2d_maxpool` to apply convolution then max pooling:\n",
    "* Create the weight and bias using `conv_ksize`, `conv_num_outputs` and the shape of `x_tensor`.\n",
    "* Apply a convolution to `x_tensor` using weight and `conv_strides`.\n",
    " * We recommend you use same padding, but you're welcome to use any padding.\n",
    "* Add bias\n",
    "* Add a nonlinear activation to the convolution.\n",
    "* Apply Max Pooling using `pool_ksize` and `pool_strides`.\n",
    " * We recommend you use same padding, but you're welcome to use any padding.\n",
    "\n",
    "**Note:** You **can't** use [TensorFlow Layers](https://www.tensorflow.org/api_docs/python/tf/layers) or [TensorFlow Layers (contrib)](https://www.tensorflow.org/api_guides/python/contrib.layers) for **this** layer, but you can still use TensorFlow's [Neural Network](https://www.tensorflow.org/api_docs/python/tf/nn) package. You may still use the shortcut option for all the **other** layers."
   ]
  },
  {
   "cell_type": "code",
   "execution_count": 4,
   "metadata": {
    "collapsed": false,
    "deletable": true,
    "editable": true
   },
   "outputs": [
    {
     "name": "stdout",
     "output_type": "stream",
     "text": [
      "Tests Passed\n"
     ]
    }
   ],
   "source": [
    "def conv2d_maxpool(x_tensor, conv_num_outputs, conv_ksize, conv_strides, pool_ksize, pool_strides):\n",
    "    \"\"\"\n",
    "    Apply convolution then max pooling to x_tensor\n",
    "    :param x_tensor: TensorFlow Tensor\n",
    "    :param conv_num_outputs: Number of outputs for the convolutional layer\n",
    "    :param conv_ksize: kernal size 2-D Tuple for the convolutional layer\n",
    "    :param conv_strides: Stride 2-D Tuple for convolution\n",
    "    :param pool_ksize: kernal size 2-D Tuple for pool\n",
    "    :param pool_strides: Stride 2-D Tuple for pool\n",
    "    : return: A tensor that represents convolution and max pooling of x_tensor\n",
    "    \"\"\"\n",
    "    # TODO: Implement Function\n",
    "    weight = tf.Variable(tf.truncated_normal([*conv_ksize,x_tensor.shape[3].value,conv_num_outputs], stddev=0.05))\n",
    "    bias = tf.Variable(tf.zeros(conv_num_outputs))\n",
    "    conv_layer = tf.nn.conv2d(x_tensor, weight, strides=[1,conv_strides[0],conv_strides[1],1], padding='SAME')\n",
    "    conv_layer = tf.nn.bias_add(conv_layer, bias)\n",
    "    conv_layer = tf.nn.relu(conv_layer)\n",
    "    conv_layer = tf.nn.max_pool(conv_layer,ksize=[1,pool_ksize[0],pool_ksize[1],1],\n",
    "                               strides=[1,pool_strides[0],pool_strides[1],1],\n",
    "                               padding='SAME')\n",
    "    return conv_layer \n",
    "\n",
    "\n",
    "\"\"\"\n",
    "DON'T MODIFY ANYTHING IN THIS CELL THAT IS BELOW THIS LINE\n",
    "\"\"\"\n",
    "tests.test_con_pool(conv2d_maxpool)"
   ]
  },
  {
   "cell_type": "markdown",
   "metadata": {
    "deletable": true,
    "editable": true
   },
   "source": [
    "### Flatten Layer\n",
    "Implement the `flatten` function to change the dimension of `x_tensor` from a 4-D tensor to a 2-D tensor.  The output should be the shape (*Batch Size*, *Flattened Image Size*). Shortcut option: you can use classes from the [TensorFlow Layers](https://www.tensorflow.org/api_docs/python/tf/layers) or [TensorFlow Layers (contrib)](https://www.tensorflow.org/api_guides/python/contrib.layers) packages for this layer. For more of a challenge, only use other TensorFlow packages."
   ]
  },
  {
   "cell_type": "code",
   "execution_count": 5,
   "metadata": {
    "collapsed": false,
    "deletable": true,
    "editable": true
   },
   "outputs": [
    {
     "name": "stdout",
     "output_type": "stream",
     "text": [
      "Tests Passed\n"
     ]
    }
   ],
   "source": [
    "def flatten(x_tensor):\n",
    "    \"\"\"\n",
    "    Flatten x_tensor to (Batch Size, Flattened Image Size)\n",
    "    : x_tensor: A tensor of size (Batch Size, ...), where ... are the image dimensions.\n",
    "    : return: A tensor of size (Batch Size, Flattened Image Size).\n",
    "    \"\"\"\n",
    "    # TODO: Implement Function\n",
    "    #import numpy as np\n",
    "    #shape = x_tensor.get_shape().as_list()\n",
    "    #dim = np.prod(shape[1:])\n",
    "    #return tf.reshape(x_tensor,[-1,dim])\n",
    "    return tf.contrib.layers.flatten(x_tensor)\n",
    "\n",
    "\n",
    "\"\"\"\n",
    "DON'T MODIFY ANYTHING IN THIS CELL THAT IS BELOW THIS LINE\n",
    "\"\"\"\n",
    "tests.test_flatten(flatten)"
   ]
  },
  {
   "cell_type": "markdown",
   "metadata": {
    "deletable": true,
    "editable": true
   },
   "source": [
    "### Fully-Connected Layer\n",
    "Implement the `fully_conn` function to apply a fully connected layer to `x_tensor` with the shape (*Batch Size*, *num_outputs*). Shortcut option: you can use classes from the [TensorFlow Layers](https://www.tensorflow.org/api_docs/python/tf/layers) or [TensorFlow Layers (contrib)](https://www.tensorflow.org/api_guides/python/contrib.layers) packages for this layer. For more of a challenge, only use other TensorFlow packages."
   ]
  },
  {
   "cell_type": "code",
   "execution_count": 6,
   "metadata": {
    "collapsed": false,
    "deletable": true,
    "editable": true
   },
   "outputs": [
    {
     "name": "stdout",
     "output_type": "stream",
     "text": [
      "Tests Passed\n"
     ]
    }
   ],
   "source": [
    "def fully_conn(x_tensor, num_outputs):\n",
    "    \"\"\"\n",
    "    Apply a fully connected layer to x_tensor using weight and bias\n",
    "    : x_tensor: A 2-D tensor where the first dimension is batch size.\n",
    "    : num_outputs: The number of output that the new tensor should be.\n",
    "    : return: A 2-D tensor where the second dimension is num_outputs.\n",
    "    \"\"\"\n",
    "    # TODO: Implement Function\n",
    "    #layer = tf.contrib.layers.fully_connected(inputs = x_tensor, num_outputs=num_outputs)\n",
    "    \n",
    "    datasize = x_tensor.get_shape().as_list()[1]\n",
    "    weight = tf.Variable(tf.truncated_normal([datasize, num_outputs],stddev=0.05))\n",
    "    bias = tf.Variable(tf.zeros(num_outputs))\n",
    "    out = tf.add(tf.matmul(x_tensor, weight), bias)\n",
    "    out = tf.nn.relu(out)\n",
    "    return out\n",
    "    \n",
    "    \n",
    "\n",
    "\n",
    "\"\"\"\n",
    "DON'T MODIFY ANYTHING IN THIS CELL THAT IS BELOW THIS LINE\n",
    "\"\"\"\n",
    "tests.test_fully_conn(fully_conn)"
   ]
  },
  {
   "cell_type": "markdown",
   "metadata": {
    "deletable": true,
    "editable": true
   },
   "source": [
    "### Output Layer\n",
    "Implement the `output` function to apply a fully connected layer to `x_tensor` with the shape (*Batch Size*, *num_outputs*). Shortcut option: you can use classes from the [TensorFlow Layers](https://www.tensorflow.org/api_docs/python/tf/layers) or [TensorFlow Layers (contrib)](https://www.tensorflow.org/api_guides/python/contrib.layers) packages for this layer. For more of a challenge, only use other TensorFlow packages.\n",
    "\n",
    "**Note:** Activation, softmax, or cross entropy should **not** be applied to this."
   ]
  },
  {
   "cell_type": "code",
   "execution_count": 7,
   "metadata": {
    "collapsed": false,
    "deletable": true,
    "editable": true
   },
   "outputs": [
    {
     "name": "stdout",
     "output_type": "stream",
     "text": [
      "Tests Passed\n"
     ]
    }
   ],
   "source": [
    "def output(x_tensor, num_outputs):\n",
    "    \"\"\"\n",
    "    Apply a output layer to x_tensor using weight and bias\n",
    "    : x_tensor: A 2-D tensor where the first dimension is batch size.\n",
    "    : num_outputs: The number of output that the new tensor should be.\n",
    "    : return: A 2-D tensor where the second dimension is num_outputs.\n",
    "    \"\"\"\n",
    "    # TODO: Implement Function\n",
    "    size = x_tensor.get_shape().as_list()\n",
    "    weights = tf.Variable(tf.truncated_normal((size[1], num_outputs), stddev=0.05))\n",
    "    bias = tf.Variable(tf.zeros(num_outputs))\n",
    "    dense = tf.add(tf.matmul(x_tensor, weights), bias)\n",
    "    out = tf.nn.softmax(dense)\n",
    "    return out\n",
    "\n",
    "\n",
    "\"\"\"\n",
    "DON'T MODIFY ANYTHING IN THIS CELL THAT IS BELOW THIS LINE\n",
    "\"\"\"\n",
    "tests.test_output(output)"
   ]
  },
  {
   "cell_type": "markdown",
   "metadata": {
    "deletable": true,
    "editable": true
   },
   "source": [
    "### Create Convolutional Model\n",
    "Implement the function `conv_net` to create a convolutional neural network model. The function takes in a batch of images, `x`, and outputs logits.  Use the layers you created above to create this model:\n",
    "\n",
    "* Apply 1, 2, or 3 Convolution and Max Pool layers\n",
    "* Apply a Flatten Layer\n",
    "* Apply 1, 2, or 3 Fully Connected Layers\n",
    "* Apply an Output Layer\n",
    "* Return the output\n",
    "* Apply [TensorFlow's Dropout](https://www.tensorflow.org/api_docs/python/tf/nn/dropout) to one or more layers in the model using `keep_prob`. "
   ]
  },
  {
   "cell_type": "code",
   "execution_count": 8,
   "metadata": {
    "collapsed": false,
    "deletable": true,
    "editable": true
   },
   "outputs": [
    {
     "name": "stdout",
     "output_type": "stream",
     "text": [
      "Neural Network Built!\n"
     ]
    }
   ],
   "source": [
    "def conv_net(x, keep_prob):\n",
    "    \"\"\"\n",
    "    Create a convolutional neural network model\n",
    "    : x: Placeholder tensor that holds image data.\n",
    "    : keep_prob: Placeholder tensor that hold dropout keep probability.\n",
    "    : return: Tensor that represents logits\n",
    "    \"\"\"\n",
    "    # TODO: Apply 1, 2, or 3 Convolution and Max Pool layers\n",
    "    #    Play around with different number of outputs, kernel size and stride\n",
    "    # Function Definition from Above:\n",
    "\n",
    "    \n",
    "    conv=conv2d_maxpool(x,10,(3,3),(1,1),(2,2),(2,2))\n",
    "    conv=conv2d_maxpool(conv,20,(3,3),(1,1),(2,2),(2,2))\n",
    "    conv=conv2d_maxpool(conv,40,(3,3),(1,1),(2,2),(2,2))\n",
    "    \n",
    "\n",
    "    # TODO: Apply a Flatten Layer\n",
    "    # Function Definition from Above:\n",
    "    conv = flatten(conv)\n",
    "    \n",
    "\n",
    "    # TODO: Apply 1, 2, or 3 Fully Connected Layers\n",
    "    #    Play around with different number of outputs\n",
    "    # Function Definition from Above:\n",
    "    conv = fully_conn(conv, 64)\n",
    "    conv = fully_conn(conv, 64)\n",
    "    conv = fully_conn(conv, 20)\n",
    "    conv = tf.nn.dropout(conv, keep_prob)\n",
    "    \n",
    "    \n",
    "    # TODO: Apply an Output Layer\n",
    "    #    Set this to the number of classes\n",
    "    # Function Definition from Above:\n",
    "    conv = output(conv, 10)\n",
    "    \n",
    "    \n",
    "    # TODO: return output\n",
    "    return conv\n",
    "\n",
    "\n",
    "\"\"\"\n",
    "DON'T MODIFY ANYTHING IN THIS CELL THAT IS BELOW THIS LINE\n",
    "\"\"\"\n",
    "\n",
    "##############################\n",
    "## Build the Neural Network ##\n",
    "##############################\n",
    "\n",
    "# Remove previous weights, bias, inputs, etc..\n",
    "tf.reset_default_graph()\n",
    "\n",
    "# Inputs\n",
    "x = neural_net_image_input((32, 32, 3))\n",
    "y = neural_net_label_input(10)\n",
    "keep_prob = neural_net_keep_prob_input()\n",
    "\n",
    "# Model\n",
    "logits = conv_net(x, keep_prob)\n",
    "\n",
    "# Name logits Tensor, so that is can be loaded from disk after training\n",
    "logits = tf.identity(logits, name='logits')\n",
    "\n",
    "# Loss and Optimizer\n",
    "cost = tf.reduce_mean(tf.nn.softmax_cross_entropy_with_logits(logits=logits, labels=y))\n",
    "optimizer = tf.train.AdamOptimizer().minimize(cost)\n",
    "\n",
    "# Accuracy\n",
    "correct_pred = tf.equal(tf.argmax(logits, 1), tf.argmax(y, 1))\n",
    "accuracy = tf.reduce_mean(tf.cast(correct_pred, tf.float32), name='accuracy')\n",
    "\n",
    "tests.test_conv_net(conv_net)"
   ]
  },
  {
   "cell_type": "markdown",
   "metadata": {
    "deletable": true,
    "editable": true
   },
   "source": [
    "## Train the Neural Network\n",
    "### Single Optimization\n",
    "Implement the function `train_neural_network` to do a single optimization.  The optimization should use `optimizer` to optimize in `session` with a `feed_dict` of the following:\n",
    "* `x` for image input\n",
    "* `y` for labels\n",
    "* `keep_prob` for keep probability for dropout\n",
    "\n",
    "This function will be called for each batch, so `tf.global_variables_initializer()` has already been called.\n",
    "\n",
    "Note: Nothing needs to be returned. This function is only optimizing the neural network."
   ]
  },
  {
   "cell_type": "code",
   "execution_count": 9,
   "metadata": {
    "collapsed": false,
    "deletable": true,
    "editable": true
   },
   "outputs": [
    {
     "name": "stdout",
     "output_type": "stream",
     "text": [
      "Tests Passed\n"
     ]
    }
   ],
   "source": [
    "def train_neural_network(session, optimizer, keep_probability, feature_batch, label_batch):\n",
    "    \"\"\"\n",
    "    Optimize the session on a batch of images and labels\n",
    "    : session: Current TensorFlow session\n",
    "    : optimizer: TensorFlow optimizer function\n",
    "    : keep_probability: keep probability\n",
    "    : feature_batch: Batch of Numpy image data\n",
    "    : label_batch: Batch of Numpy label data\n",
    "    \"\"\"\n",
    "    # TODO: Implement Function\n",
    "    session.run(optimizer, feed_dict={x: feature_batch, y: label_batch, keep_prob: keep_probability})\n",
    "\n",
    "\n",
    "\"\"\"\n",
    "DON'T MODIFY ANYTHING IN THIS CELL THAT IS BELOW THIS LINE\n",
    "\"\"\"\n",
    "tests.test_train_nn(train_neural_network)"
   ]
  },
  {
   "cell_type": "markdown",
   "metadata": {
    "deletable": true,
    "editable": true
   },
   "source": [
    "### Show Stats\n",
    "Implement the function `print_stats` to print loss and validation accuracy.  Use the global variables `valid_features` and `valid_labels` to calculate validation accuracy.  Use a keep probability of `1.0` to calculate the loss and validation accuracy."
   ]
  },
  {
   "cell_type": "code",
   "execution_count": 10,
   "metadata": {
    "collapsed": false,
    "deletable": true,
    "editable": true
   },
   "outputs": [],
   "source": [
    "def print_stats(session, feature_batch, label_batch, cost, accuracy):\n",
    "    \"\"\"\n",
    "    Print information about loss and validation accuracy\n",
    "    : session: Current TensorFlow session\n",
    "    : feature_batch: Batch of Numpy image data\n",
    "    : label_batch: Batch of Numpy label data\n",
    "    : cost: TensorFlow cost function\n",
    "    : accuracy: TensorFlow accuracy function\n",
    "    \"\"\"\n",
    "    # TODO: Implement Function\n",
    "    validation_accuracy = session.run(accuracy, feed_dict={\n",
    "        x : valid_features,\n",
    "        y : valid_labels,\n",
    "        keep_prob:1.0}\n",
    "    )\n",
    "    loss = session.run(cost, feed_dict={\n",
    "        x : feature_batch,\n",
    "        y : label_batch,\n",
    "        keep_prob:1.0}\n",
    "    )\n",
    "    print(\"Validation accurancy : {}, {}\".format(validation_accuracy, loss))"
   ]
  },
  {
   "cell_type": "markdown",
   "metadata": {
    "deletable": true,
    "editable": true
   },
   "source": [
    "### Hyperparameters\n",
    "Tune the following parameters:\n",
    "* Set `epochs` to the number of iterations until the network stops learning or start overfitting\n",
    "* Set `batch_size` to the highest number that your machine has memory for.  Most people set them to common sizes of memory:\n",
    " * 64\n",
    " * 128\n",
    " * 256\n",
    " * ...\n",
    "* Set `keep_probability` to the probability of keeping a node using dropout"
   ]
  },
  {
   "cell_type": "code",
   "execution_count": 11,
   "metadata": {
    "collapsed": true,
    "deletable": true,
    "editable": true
   },
   "outputs": [],
   "source": [
    "# TODO: Tune Parameters\n",
    "epochs = 100\n",
    "batch_size = 256\n",
    "keep_probability = 0.5"
   ]
  },
  {
   "cell_type": "markdown",
   "metadata": {
    "deletable": true,
    "editable": true
   },
   "source": [
    "### Train on a Single CIFAR-10 Batch\n",
    "Instead of training the neural network on all the CIFAR-10 batches of data, let's use a single batch. This should save time while you iterate on the model to get a better accuracy.  Once the final validation accuracy is 50% or greater, run the model on all the data in the next section."
   ]
  },
  {
   "cell_type": "code",
   "execution_count": 12,
   "metadata": {
    "collapsed": false,
    "deletable": true,
    "editable": true
   },
   "outputs": [
    {
     "name": "stdout",
     "output_type": "stream",
     "text": [
      "Checking the Training on a Single Batch...\n",
      "Epoch  1, CIFAR-10 Batch 1:  Validation accurancy : 0.10499999672174454, 2.2951862812042236\n",
      "Epoch  2, CIFAR-10 Batch 1:  Validation accurancy : 0.1703999936580658, 2.266827344894409\n",
      "Epoch  3, CIFAR-10 Batch 1:  Validation accurancy : 0.18059998750686646, 2.236116647720337\n",
      "Epoch  4, CIFAR-10 Batch 1:  Validation accurancy : 0.24040000140666962, 2.2147321701049805\n",
      "Epoch  5, CIFAR-10 Batch 1:  Validation accurancy : 0.23019999265670776, 2.211625337600708\n",
      "Epoch  6, CIFAR-10 Batch 1:  Validation accurancy : 0.2533999979496002, 2.1843950748443604\n",
      "Epoch  7, CIFAR-10 Batch 1:  Validation accurancy : 0.2505999803543091, 2.193895101547241\n",
      "Epoch  8, CIFAR-10 Batch 1:  Validation accurancy : 0.2581999897956848, 2.182786464691162\n",
      "Epoch  9, CIFAR-10 Batch 1:  Validation accurancy : 0.24799998104572296, 2.166726589202881\n",
      "Epoch 10, CIFAR-10 Batch 1:  Validation accurancy : 0.22599999606609344, 2.2011001110076904\n",
      "Epoch 11, CIFAR-10 Batch 1:  Validation accurancy : 0.23959998786449432, 2.168281316757202\n",
      "Epoch 12, CIFAR-10 Batch 1:  Validation accurancy : 0.24879996478557587, 2.1588306427001953\n",
      "Epoch 13, CIFAR-10 Batch 1:  Validation accurancy : 0.23879998922348022, 2.149564027786255\n",
      "Epoch 14, CIFAR-10 Batch 1:  Validation accurancy : 0.24619999527931213, 2.1524744033813477\n",
      "Epoch 15, CIFAR-10 Batch 1:  Validation accurancy : 0.2476000040769577, 2.1499457359313965\n",
      "Epoch 16, CIFAR-10 Batch 1:  Validation accurancy : 0.23899999260902405, 2.152430772781372\n",
      "Epoch 17, CIFAR-10 Batch 1:  Validation accurancy : 0.24699999392032623, 2.1857268810272217\n",
      "Epoch 18, CIFAR-10 Batch 1:  Validation accurancy : 0.2502000033855438, 2.145022392272949\n",
      "Epoch 19, CIFAR-10 Batch 1:  Validation accurancy : 0.2468000054359436, 2.171489715576172\n",
      "Epoch 20, CIFAR-10 Batch 1:  Validation accurancy : 0.26999998092651367, 2.203300952911377\n",
      "Epoch 21, CIFAR-10 Batch 1:  Validation accurancy : 0.26100000739097595, 2.17783784866333\n",
      "Epoch 22, CIFAR-10 Batch 1:  Validation accurancy : 0.27059999108314514, 2.182170867919922\n",
      "Epoch 23, CIFAR-10 Batch 1:  Validation accurancy : 0.2675999701023102, 2.173903226852417\n",
      "Epoch 24, CIFAR-10 Batch 1:  Validation accurancy : 0.2791999876499176, 2.1916725635528564\n",
      "Epoch 25, CIFAR-10 Batch 1:  Validation accurancy : 0.2815999686717987, 2.1919822692871094\n",
      "Epoch 26, CIFAR-10 Batch 1:  Validation accurancy : 0.2757999897003174, 2.171147584915161\n",
      "Epoch 27, CIFAR-10 Batch 1:  Validation accurancy : 0.2711999714374542, 2.1636455059051514\n",
      "Epoch 28, CIFAR-10 Batch 1:  Validation accurancy : 0.25439998507499695, 2.156696319580078\n",
      "Epoch 29, CIFAR-10 Batch 1:  Validation accurancy : 0.28359997272491455, 2.1697335243225098\n",
      "Epoch 30, CIFAR-10 Batch 1:  Validation accurancy : 0.28939998149871826, 2.1922261714935303\n",
      "Epoch 31, CIFAR-10 Batch 1:  Validation accurancy : 0.2833999693393707, 2.1735994815826416\n",
      "Epoch 32, CIFAR-10 Batch 1:  Validation accurancy : 0.28919997811317444, 2.167656183242798\n",
      "Epoch 33, CIFAR-10 Batch 1:  Validation accurancy : 0.2845999598503113, 2.1908881664276123\n",
      "Epoch 34, CIFAR-10 Batch 1:  Validation accurancy : 0.29819998145103455, 2.187662363052368\n",
      "Epoch 35, CIFAR-10 Batch 1:  Validation accurancy : 0.2786000072956085, 2.1426444053649902\n",
      "Epoch 36, CIFAR-10 Batch 1:  Validation accurancy : 0.3043999969959259, 2.170910596847534\n",
      "Epoch 37, CIFAR-10 Batch 1:  Validation accurancy : 0.30399999022483826, 2.144595146179199\n",
      "Epoch 38, CIFAR-10 Batch 1:  Validation accurancy : 0.3061999976634979, 2.121532678604126\n",
      "Epoch 39, CIFAR-10 Batch 1:  Validation accurancy : 0.272599995136261, 2.130995035171509\n",
      "Epoch 40, CIFAR-10 Batch 1:  Validation accurancy : 0.29819998145103455, 2.1630640029907227\n",
      "Epoch 41, CIFAR-10 Batch 1:  Validation accurancy : 0.31299999356269836, 2.1470305919647217\n",
      "Epoch 42, CIFAR-10 Batch 1:  Validation accurancy : 0.28599998354911804, 2.0972676277160645\n",
      "Epoch 43, CIFAR-10 Batch 1:  Validation accurancy : 0.30479997396469116, 2.1006202697753906\n",
      "Epoch 44, CIFAR-10 Batch 1:  Validation accurancy : 0.3172000050544739, 2.062971591949463\n",
      "Epoch 45, CIFAR-10 Batch 1:  Validation accurancy : 0.3303999602794647, 2.0755748748779297\n",
      "Epoch 46, CIFAR-10 Batch 1:  Validation accurancy : 0.3025999665260315, 2.0787508487701416\n",
      "Epoch 47, CIFAR-10 Batch 1:  Validation accurancy : 0.30139997601509094, 2.078765392303467\n",
      "Epoch 48, CIFAR-10 Batch 1:  Validation accurancy : 0.319599986076355, 2.0681042671203613\n",
      "Epoch 49, CIFAR-10 Batch 1:  Validation accurancy : 0.32679998874664307, 2.0427567958831787\n",
      "Epoch 50, CIFAR-10 Batch 1:  Validation accurancy : 0.334199994802475, 2.0772929191589355\n",
      "Epoch 51, CIFAR-10 Batch 1:  Validation accurancy : 0.31519997119903564, 2.0247838497161865\n",
      "Epoch 52, CIFAR-10 Batch 1:  Validation accurancy : 0.3061999976634979, 2.066333770751953\n",
      "Epoch 53, CIFAR-10 Batch 1:  Validation accurancy : 0.32839998602867126, 2.009411334991455\n",
      "Epoch 54, CIFAR-10 Batch 1:  Validation accurancy : 0.3335999846458435, 1.996780276298523\n",
      "Epoch 55, CIFAR-10 Batch 1:  Validation accurancy : 0.3203999996185303, 1.9794317483901978\n",
      "Epoch 56, CIFAR-10 Batch 1:  Validation accurancy : 0.3460000157356262, 2.044905662536621\n",
      "Epoch 57, CIFAR-10 Batch 1:  Validation accurancy : 0.34539997577667236, 2.004746913909912\n",
      "Epoch 58, CIFAR-10 Batch 1:  Validation accurancy : 0.3319999873638153, 2.02028226852417\n",
      "Epoch 59, CIFAR-10 Batch 1:  Validation accurancy : 0.3391999900341034, 2.0079689025878906\n",
      "Epoch 60, CIFAR-10 Batch 1:  Validation accurancy : 0.3563999831676483, 1.9932444095611572\n",
      "Epoch 61, CIFAR-10 Batch 1:  Validation accurancy : 0.36239999532699585, 1.9696656465530396\n",
      "Epoch 62, CIFAR-10 Batch 1:  Validation accurancy : 0.35659995675086975, 1.9700214862823486\n",
      "Epoch 63, CIFAR-10 Batch 1:  Validation accurancy : 0.3487999737262726, 1.966551423072815\n",
      "Epoch 64, CIFAR-10 Batch 1:  Validation accurancy : 0.3393999934196472, 1.9836044311523438\n",
      "Epoch 65, CIFAR-10 Batch 1:  Validation accurancy : 0.35760000348091125, 1.9519248008728027\n",
      "Epoch 66, CIFAR-10 Batch 1:  Validation accurancy : 0.3662000000476837, 1.9851118326187134\n",
      "Epoch 67, CIFAR-10 Batch 1:  Validation accurancy : 0.3495999872684479, 1.9921455383300781\n",
      "Epoch 68, CIFAR-10 Batch 1:  Validation accurancy : 0.3595999777317047, 1.9656039476394653\n",
      "Epoch 69, CIFAR-10 Batch 1:  Validation accurancy : 0.3707999885082245, 1.9661120176315308\n",
      "Epoch 70, CIFAR-10 Batch 1:  Validation accurancy : 0.36159995198249817, 1.949220895767212\n",
      "Epoch 71, CIFAR-10 Batch 1:  Validation accurancy : 0.36879998445510864, 1.943981409072876\n",
      "Epoch 72, CIFAR-10 Batch 1:  Validation accurancy : 0.37199997901916504, 1.919154405593872\n",
      "Epoch 73, CIFAR-10 Batch 1:  Validation accurancy : 0.37059998512268066, 1.9634279012680054\n",
      "Epoch 74, CIFAR-10 Batch 1:  Validation accurancy : 0.3789999783039093, 1.9519550800323486\n",
      "Epoch 75, CIFAR-10 Batch 1:  Validation accurancy : 0.3699999749660492, 1.9107062816619873\n",
      "Epoch 76, CIFAR-10 Batch 1:  Validation accurancy : 0.3699999451637268, 1.95131254196167\n",
      "Epoch 77, CIFAR-10 Batch 1:  Validation accurancy : 0.3610000014305115, 1.9592039585113525\n",
      "Epoch 78, CIFAR-10 Batch 1:  Validation accurancy : 0.373199999332428, 1.9198896884918213\n",
      "Epoch 79, CIFAR-10 Batch 1:  Validation accurancy : 0.3578000068664551, 1.8854633569717407\n",
      "Epoch 80, CIFAR-10 Batch 1:  Validation accurancy : 0.37519997358322144, 1.8938417434692383\n",
      "Epoch 81, CIFAR-10 Batch 1:  Validation accurancy : 0.3805999755859375, 1.8800475597381592\n",
      "Epoch 82, CIFAR-10 Batch 1:  Validation accurancy : 0.3853999674320221, 1.8740894794464111\n",
      "Epoch 83, CIFAR-10 Batch 1:  Validation accurancy : 0.35899999737739563, 1.8636672496795654\n",
      "Epoch 84, CIFAR-10 Batch 1:  Validation accurancy : 0.3757999837398529, 1.8549026250839233\n",
      "Epoch 85, CIFAR-10 Batch 1:  Validation accurancy : 0.3885999917984009, 1.9017223119735718\n",
      "Epoch 86, CIFAR-10 Batch 1:  Validation accurancy : 0.39319998025894165, 1.8805190324783325\n",
      "Epoch 87, CIFAR-10 Batch 1:  Validation accurancy : 0.39799994230270386, 1.8699829578399658\n",
      "Epoch 88, CIFAR-10 Batch 1:  Validation accurancy : 0.3920000195503235, 1.867374062538147\n",
      "Epoch 89, CIFAR-10 Batch 1:  Validation accurancy : 0.40299996733665466, 1.915751338005066\n",
      "Epoch 90, CIFAR-10 Batch 1:  Validation accurancy : 0.3791999816894531, 1.847537875175476\n",
      "Epoch 91, CIFAR-10 Batch 1:  Validation accurancy : 0.38359999656677246, 1.8688302040100098\n",
      "Epoch 92, CIFAR-10 Batch 1:  Validation accurancy : 0.39899998903274536, 1.878700613975525\n",
      "Epoch 93, CIFAR-10 Batch 1:  Validation accurancy : 0.39539995789527893, 1.852922797203064\n",
      "Epoch 94, CIFAR-10 Batch 1:  Validation accurancy : 0.3988000154495239, 1.8493785858154297\n",
      "Epoch 95, CIFAR-10 Batch 1:  Validation accurancy : 0.40279996395111084, 1.8389365673065186\n",
      "Epoch 96, CIFAR-10 Batch 1:  Validation accurancy : 0.39659997820854187, 1.8395447731018066\n",
      "Epoch 97, CIFAR-10 Batch 1:  Validation accurancy : 0.4018000066280365, 1.8572558164596558\n",
      "Epoch 98, CIFAR-10 Batch 1:  Validation accurancy : 0.4017999768257141, 1.8431248664855957\n",
      "Epoch 99, CIFAR-10 Batch 1:  Validation accurancy : 0.38899996876716614, 1.8509448766708374\n",
      "Epoch 100, CIFAR-10 Batch 1:  Validation accurancy : 0.4043999910354614, 1.8628854751586914\n"
     ]
    }
   ],
   "source": [
    "\"\"\"\n",
    "DON'T MODIFY ANYTHING IN THIS CELL\n",
    "\"\"\"\n",
    "print('Checking the Training on a Single Batch...')\n",
    "with tf.Session() as sess:\n",
    "    # Initializing the variables\n",
    "    sess.run(tf.global_variables_initializer())\n",
    "    \n",
    "    # Training cycle\n",
    "    for epoch in range(epochs):\n",
    "        batch_i = 1\n",
    "        for batch_features, batch_labels in helper.load_preprocess_training_batch(batch_i, batch_size):\n",
    "            train_neural_network(sess, optimizer, keep_probability, batch_features, batch_labels)\n",
    "        print('Epoch {:>2}, CIFAR-10 Batch {}:  '.format(epoch + 1, batch_i), end='')\n",
    "        print_stats(sess, batch_features, batch_labels, cost, accuracy)"
   ]
  },
  {
   "cell_type": "markdown",
   "metadata": {
    "deletable": true,
    "editable": true
   },
   "source": [
    "### Fully Train the Model\n",
    "Now that you got a good accuracy with a single CIFAR-10 batch, try it with all five batches."
   ]
  },
  {
   "cell_type": "code",
   "execution_count": 13,
   "metadata": {
    "collapsed": false,
    "deletable": true,
    "editable": true
   },
   "outputs": [
    {
     "name": "stdout",
     "output_type": "stream",
     "text": [
      "Training...\n",
      "Epoch  1, CIFAR-10 Batch 1:  Validation accurancy : 0.15860000252723694, 2.302168846130371\n",
      "Epoch  1, CIFAR-10 Batch 2:  Validation accurancy : 0.10999999940395355, 2.276102304458618\n",
      "Epoch  1, CIFAR-10 Batch 3:  Validation accurancy : 0.1419999897480011, 2.2349257469177246\n",
      "Epoch  1, CIFAR-10 Batch 4:  Validation accurancy : 0.16459999978542328, 2.223134756088257\n",
      "Epoch  1, CIFAR-10 Batch 5:  Validation accurancy : 0.21479998528957367, 2.2200849056243896\n",
      "Epoch  2, CIFAR-10 Batch 1:  Validation accurancy : 0.2507999837398529, 2.1865298748016357\n",
      "Epoch  2, CIFAR-10 Batch 2:  Validation accurancy : 0.2531999945640564, 2.181891918182373\n",
      "Epoch  2, CIFAR-10 Batch 3:  Validation accurancy : 0.2571999728679657, 2.172028064727783\n",
      "Epoch  2, CIFAR-10 Batch 4:  Validation accurancy : 0.2569999694824219, 2.2120726108551025\n",
      "Epoch  2, CIFAR-10 Batch 5:  Validation accurancy : 0.2619999945163727, 2.1915059089660645\n",
      "Epoch  3, CIFAR-10 Batch 1:  Validation accurancy : 0.22439996898174286, 2.2085702419281006\n",
      "Epoch  3, CIFAR-10 Batch 2:  Validation accurancy : 0.2639999985694885, 2.1632847785949707\n",
      "Epoch  3, CIFAR-10 Batch 3:  Validation accurancy : 0.27300000190734863, 2.1485533714294434\n",
      "Epoch  3, CIFAR-10 Batch 4:  Validation accurancy : 0.2653999924659729, 2.1620805263519287\n",
      "Epoch  3, CIFAR-10 Batch 5:  Validation accurancy : 0.27559998631477356, 2.200462818145752\n",
      "Epoch  4, CIFAR-10 Batch 1:  Validation accurancy : 0.25939998030662537, 2.1662142276763916\n",
      "Epoch  4, CIFAR-10 Batch 2:  Validation accurancy : 0.27639997005462646, 2.1310994625091553\n",
      "Epoch  4, CIFAR-10 Batch 3:  Validation accurancy : 0.27219998836517334, 2.1244449615478516\n",
      "Epoch  4, CIFAR-10 Batch 4:  Validation accurancy : 0.27459996938705444, 2.215027093887329\n",
      "Epoch  4, CIFAR-10 Batch 5:  Validation accurancy : 0.2845999598503113, 2.1451616287231445\n",
      "Epoch  5, CIFAR-10 Batch 1:  Validation accurancy : 0.29120001196861267, 2.189852714538574\n",
      "Epoch  5, CIFAR-10 Batch 2:  Validation accurancy : 0.2857999801635742, 2.137284994125366\n",
      "Epoch  5, CIFAR-10 Batch 3:  Validation accurancy : 0.2892000079154968, 2.125154733657837\n",
      "Epoch  5, CIFAR-10 Batch 4:  Validation accurancy : 0.3044000267982483, 2.1496825218200684\n",
      "Epoch  5, CIFAR-10 Batch 5:  Validation accurancy : 0.2757999897003174, 2.1186141967773438\n",
      "Epoch  6, CIFAR-10 Batch 1:  Validation accurancy : 0.3019999861717224, 2.1829872131347656\n",
      "Epoch  6, CIFAR-10 Batch 2:  Validation accurancy : 0.3034000098705292, 2.1247780323028564\n",
      "Epoch  6, CIFAR-10 Batch 3:  Validation accurancy : 0.3046000003814697, 2.087127923965454\n",
      "Epoch  6, CIFAR-10 Batch 4:  Validation accurancy : 0.306799978017807, 2.138740062713623\n",
      "Epoch  6, CIFAR-10 Batch 5:  Validation accurancy : 0.30319997668266296, 2.115180730819702\n",
      "Epoch  7, CIFAR-10 Batch 1:  Validation accurancy : 0.3099999725818634, 2.209437847137451\n",
      "Epoch  7, CIFAR-10 Batch 2:  Validation accurancy : 0.29639995098114014, 2.1229772567749023\n",
      "Epoch  7, CIFAR-10 Batch 3:  Validation accurancy : 0.3076000213623047, 2.126851797103882\n",
      "Epoch  7, CIFAR-10 Batch 4:  Validation accurancy : 0.3142000138759613, 2.0776941776275635\n",
      "Epoch  7, CIFAR-10 Batch 5:  Validation accurancy : 0.3287999927997589, 2.1268672943115234\n",
      "Epoch  8, CIFAR-10 Batch 1:  Validation accurancy : 0.33159998059272766, 2.1417171955108643\n",
      "Epoch  8, CIFAR-10 Batch 2:  Validation accurancy : 0.3341999650001526, 2.143653392791748\n",
      "Epoch  8, CIFAR-10 Batch 3:  Validation accurancy : 0.32499998807907104, 2.054591178894043\n",
      "Epoch  8, CIFAR-10 Batch 4:  Validation accurancy : 0.3149999976158142, 2.161095142364502\n",
      "Epoch  8, CIFAR-10 Batch 5:  Validation accurancy : 0.3437999486923218, 2.110949993133545\n",
      "Epoch  9, CIFAR-10 Batch 1:  Validation accurancy : 0.3335999846458435, 2.1167185306549072\n",
      "Epoch  9, CIFAR-10 Batch 2:  Validation accurancy : 0.34619995951652527, 2.119431257247925\n",
      "Epoch  9, CIFAR-10 Batch 3:  Validation accurancy : 0.3433999717235565, 2.0041584968566895\n",
      "Epoch  9, CIFAR-10 Batch 4:  Validation accurancy : 0.35339996218681335, 2.066559314727783\n",
      "Epoch  9, CIFAR-10 Batch 5:  Validation accurancy : 0.33820000290870667, 2.124375820159912\n",
      "Epoch 10, CIFAR-10 Batch 1:  Validation accurancy : 0.34919998049736023, 2.1074652671813965\n",
      "Epoch 10, CIFAR-10 Batch 2:  Validation accurancy : 0.3617999851703644, 2.137941598892212\n",
      "Epoch 10, CIFAR-10 Batch 3:  Validation accurancy : 0.3675999939441681, 2.0281765460968018\n",
      "Epoch 10, CIFAR-10 Batch 4:  Validation accurancy : 0.36059999465942383, 2.077847719192505\n",
      "Epoch 10, CIFAR-10 Batch 5:  Validation accurancy : 0.3497999906539917, 2.1491823196411133\n",
      "Epoch 11, CIFAR-10 Batch 1:  Validation accurancy : 0.36159998178482056, 2.1305301189422607\n",
      "Epoch 11, CIFAR-10 Batch 2:  Validation accurancy : 0.37439998984336853, 2.122185468673706\n",
      "Epoch 11, CIFAR-10 Batch 3:  Validation accurancy : 0.3725999891757965, 1.9762955904006958\n",
      "Epoch 11, CIFAR-10 Batch 4:  Validation accurancy : 0.3715999722480774, 2.065829038619995\n",
      "Epoch 11, CIFAR-10 Batch 5:  Validation accurancy : 0.36559998989105225, 2.118640899658203\n",
      "Epoch 12, CIFAR-10 Batch 1:  Validation accurancy : 0.36400002241134644, 2.0612502098083496\n",
      "Epoch 12, CIFAR-10 Batch 2:  Validation accurancy : 0.3773999512195587, 2.114654779434204\n",
      "Epoch 12, CIFAR-10 Batch 3:  Validation accurancy : 0.38499999046325684, 1.9376667737960815\n",
      "Epoch 12, CIFAR-10 Batch 4:  Validation accurancy : 0.38499996066093445, 2.061224937438965\n",
      "Epoch 12, CIFAR-10 Batch 5:  Validation accurancy : 0.38079994916915894, 2.1345133781433105\n",
      "Epoch 13, CIFAR-10 Batch 1:  Validation accurancy : 0.37019994854927063, 2.053368330001831\n",
      "Epoch 13, CIFAR-10 Batch 2:  Validation accurancy : 0.37599998712539673, 2.1038570404052734\n",
      "Epoch 13, CIFAR-10 Batch 3:  Validation accurancy : 0.37299999594688416, 1.989289402961731\n",
      "Epoch 13, CIFAR-10 Batch 4:  Validation accurancy : 0.38739997148513794, 2.0593795776367188\n",
      "Epoch 13, CIFAR-10 Batch 5:  Validation accurancy : 0.3871999979019165, 2.093690872192383\n",
      "Epoch 14, CIFAR-10 Batch 1:  Validation accurancy : 0.3867999315261841, 2.0475759506225586\n",
      "Epoch 14, CIFAR-10 Batch 2:  Validation accurancy : 0.3967999815940857, 2.0894885063171387\n",
      "Epoch 14, CIFAR-10 Batch 3:  Validation accurancy : 0.37599995732307434, 1.9227261543273926\n",
      "Epoch 14, CIFAR-10 Batch 4:  Validation accurancy : 0.39959999918937683, 2.074143886566162\n",
      "Epoch 14, CIFAR-10 Batch 5:  Validation accurancy : 0.40939998626708984, 2.133007526397705\n",
      "Epoch 15, CIFAR-10 Batch 1:  Validation accurancy : 0.38659995794296265, 2.044032335281372\n",
      "Epoch 15, CIFAR-10 Batch 2:  Validation accurancy : 0.4031999707221985, 2.0863614082336426\n",
      "Epoch 15, CIFAR-10 Batch 3:  Validation accurancy : 0.4039999544620514, 1.9696228504180908\n",
      "Epoch 15, CIFAR-10 Batch 4:  Validation accurancy : 0.4097999334335327, 2.102048397064209\n",
      "Epoch 15, CIFAR-10 Batch 5:  Validation accurancy : 0.4083999693393707, 2.102109432220459\n",
      "Epoch 16, CIFAR-10 Batch 1:  Validation accurancy : 0.41519999504089355, 2.0295238494873047\n",
      "Epoch 16, CIFAR-10 Batch 2:  Validation accurancy : 0.4057999551296234, 2.097184658050537\n",
      "Epoch 16, CIFAR-10 Batch 3:  Validation accurancy : 0.38979998230934143, 1.9648919105529785\n",
      "Epoch 16, CIFAR-10 Batch 4:  Validation accurancy : 0.39399999380111694, 2.046886682510376\n",
      "Epoch 16, CIFAR-10 Batch 5:  Validation accurancy : 0.41679999232292175, 2.117365837097168\n",
      "Epoch 17, CIFAR-10 Batch 1:  Validation accurancy : 0.4081999957561493, 1.9924545288085938\n",
      "Epoch 17, CIFAR-10 Batch 2:  Validation accurancy : 0.40459996461868286, 2.074160099029541\n",
      "Epoch 17, CIFAR-10 Batch 3:  Validation accurancy : 0.4034000039100647, 1.9058003425598145\n",
      "Epoch 17, CIFAR-10 Batch 4:  Validation accurancy : 0.41119998693466187, 2.040172815322876\n",
      "Epoch 17, CIFAR-10 Batch 5:  Validation accurancy : 0.4089999496936798, 2.0848498344421387\n",
      "Epoch 18, CIFAR-10 Batch 1:  Validation accurancy : 0.4153999984264374, 1.9961144924163818\n",
      "Epoch 18, CIFAR-10 Batch 2:  Validation accurancy : 0.42059996724128723, 2.0427184104919434\n",
      "Epoch 18, CIFAR-10 Batch 3:  Validation accurancy : 0.41499996185302734, 2.0276198387145996\n",
      "Epoch 18, CIFAR-10 Batch 4:  Validation accurancy : 0.416799932718277, 2.0962255001068115\n",
      "Epoch 18, CIFAR-10 Batch 5:  Validation accurancy : 0.41679996252059937, 2.0759172439575195\n",
      "Epoch 19, CIFAR-10 Batch 1:  Validation accurancy : 0.4001999795436859, 1.9736824035644531\n",
      "Epoch 19, CIFAR-10 Batch 2:  Validation accurancy : 0.4083999693393707, 2.059964418411255\n",
      "Epoch 19, CIFAR-10 Batch 3:  Validation accurancy : 0.42479994893074036, 1.9190188646316528\n",
      "Epoch 19, CIFAR-10 Batch 4:  Validation accurancy : 0.4139999747276306, 2.067809820175171\n",
      "Epoch 19, CIFAR-10 Batch 5:  Validation accurancy : 0.4169999659061432, 2.0991711616516113\n",
      "Epoch 20, CIFAR-10 Batch 1:  Validation accurancy : 0.421999990940094, 2.0093119144439697\n",
      "Epoch 20, CIFAR-10 Batch 2:  Validation accurancy : 0.42319995164871216, 2.0750203132629395\n",
      "Epoch 20, CIFAR-10 Batch 3:  Validation accurancy : 0.4257999658584595, 1.859474778175354\n",
      "Epoch 20, CIFAR-10 Batch 4:  Validation accurancy : 0.4220000207424164, 2.042360305786133\n",
      "Epoch 20, CIFAR-10 Batch 5:  Validation accurancy : 0.42959997057914734, 2.1060779094696045\n",
      "Epoch 21, CIFAR-10 Batch 1:  Validation accurancy : 0.41839998960494995, 1.965928554534912\n",
      "Epoch 21, CIFAR-10 Batch 2:  Validation accurancy : 0.4253999888896942, 2.0591654777526855\n",
      "Epoch 21, CIFAR-10 Batch 3:  Validation accurancy : 0.4253999888896942, 1.938113808631897\n",
      "Epoch 21, CIFAR-10 Batch 4:  Validation accurancy : 0.4187999963760376, 2.1005489826202393\n",
      "Epoch 21, CIFAR-10 Batch 5:  Validation accurancy : 0.43379995226860046, 2.059567928314209\n",
      "Epoch 22, CIFAR-10 Batch 1:  Validation accurancy : 0.4317999482154846, 2.0028650760650635\n",
      "Epoch 22, CIFAR-10 Batch 2:  Validation accurancy : 0.4249999523162842, 2.101691246032715\n",
      "Epoch 22, CIFAR-10 Batch 3:  Validation accurancy : 0.44179996848106384, 1.8840266466140747\n",
      "Epoch 22, CIFAR-10 Batch 4:  Validation accurancy : 0.423799991607666, 2.0054707527160645\n",
      "Epoch 22, CIFAR-10 Batch 5:  Validation accurancy : 0.38819998502731323, 2.048612356185913\n",
      "Epoch 23, CIFAR-10 Batch 1:  Validation accurancy : 0.42379996180534363, 1.9726977348327637\n",
      "Epoch 23, CIFAR-10 Batch 2:  Validation accurancy : 0.43039992451667786, 2.0308289527893066\n",
      "Epoch 23, CIFAR-10 Batch 3:  Validation accurancy : 0.44179993867874146, 1.8505816459655762\n",
      "Epoch 23, CIFAR-10 Batch 4:  Validation accurancy : 0.4017999768257141, 1.9781228303909302\n",
      "Epoch 23, CIFAR-10 Batch 5:  Validation accurancy : 0.4291999638080597, 2.0551905632019043\n",
      "Epoch 24, CIFAR-10 Batch 1:  Validation accurancy : 0.43639999628067017, 1.9778721332550049\n",
      "Epoch 24, CIFAR-10 Batch 2:  Validation accurancy : 0.4415999948978424, 2.090153217315674\n",
      "Epoch 24, CIFAR-10 Batch 3:  Validation accurancy : 0.44739997386932373, 1.8191308975219727\n",
      "Epoch 24, CIFAR-10 Batch 4:  Validation accurancy : 0.4437999725341797, 2.019117593765259\n",
      "Epoch 24, CIFAR-10 Batch 5:  Validation accurancy : 0.4375999867916107, 2.0449256896972656\n",
      "Epoch 25, CIFAR-10 Batch 1:  Validation accurancy : 0.44359996914863586, 1.97488272190094\n",
      "Epoch 25, CIFAR-10 Batch 2:  Validation accurancy : 0.43699994683265686, 2.0610268115997314\n",
      "Epoch 25, CIFAR-10 Batch 3:  Validation accurancy : 0.44419994950294495, 1.8531889915466309\n",
      "Epoch 25, CIFAR-10 Batch 4:  Validation accurancy : 0.44259998202323914, 2.0303211212158203\n",
      "Epoch 25, CIFAR-10 Batch 5:  Validation accurancy : 0.4429999589920044, 2.016528844833374\n",
      "Epoch 26, CIFAR-10 Batch 1:  Validation accurancy : 0.43119996786117554, 1.9750723838806152\n",
      "Epoch 26, CIFAR-10 Batch 2:  Validation accurancy : 0.45239999890327454, 2.034703254699707\n",
      "Epoch 26, CIFAR-10 Batch 3:  Validation accurancy : 0.45699992775917053, 1.764361023902893\n",
      "Epoch 26, CIFAR-10 Batch 4:  Validation accurancy : 0.44439998269081116, 2.045063018798828\n",
      "Epoch 26, CIFAR-10 Batch 5:  Validation accurancy : 0.44759997725486755, 2.059375286102295\n",
      "Epoch 27, CIFAR-10 Batch 1:  Validation accurancy : 0.4341999590396881, 1.9614651203155518\n",
      "Epoch 27, CIFAR-10 Batch 2:  Validation accurancy : 0.45739996433258057, 2.0198538303375244\n",
      "Epoch 27, CIFAR-10 Batch 3:  Validation accurancy : 0.4439999461174011, 1.8796563148498535\n",
      "Epoch 27, CIFAR-10 Batch 4:  Validation accurancy : 0.45340001583099365, 2.052184581756592\n",
      "Epoch 27, CIFAR-10 Batch 5:  Validation accurancy : 0.4493999779224396, 2.0038905143737793\n",
      "Epoch 28, CIFAR-10 Batch 1:  Validation accurancy : 0.43379995226860046, 1.9809198379516602\n",
      "Epoch 28, CIFAR-10 Batch 2:  Validation accurancy : 0.4529999792575836, 2.0554652214050293\n",
      "Epoch 28, CIFAR-10 Batch 3:  Validation accurancy : 0.45079994201660156, 1.8460688591003418\n",
      "Epoch 28, CIFAR-10 Batch 4:  Validation accurancy : 0.44579997658729553, 2.0245988368988037\n",
      "Epoch 28, CIFAR-10 Batch 5:  Validation accurancy : 0.431799978017807, 2.070998191833496\n",
      "Epoch 29, CIFAR-10 Batch 1:  Validation accurancy : 0.4461999237537384, 1.9887723922729492\n",
      "Epoch 29, CIFAR-10 Batch 2:  Validation accurancy : 0.43199998140335083, 2.0632705688476562\n",
      "Epoch 29, CIFAR-10 Batch 3:  Validation accurancy : 0.4535999894142151, 1.805460810661316\n",
      "Epoch 29, CIFAR-10 Batch 4:  Validation accurancy : 0.44659996032714844, 2.0443673133850098\n",
      "Epoch 29, CIFAR-10 Batch 5:  Validation accurancy : 0.4437999725341797, 2.0493483543395996\n",
      "Epoch 30, CIFAR-10 Batch 1:  Validation accurancy : 0.4357999861240387, 1.9680147171020508\n",
      "Epoch 30, CIFAR-10 Batch 2:  Validation accurancy : 0.459399938583374, 2.061178684234619\n",
      "Epoch 30, CIFAR-10 Batch 3:  Validation accurancy : 0.4509999752044678, 1.8267056941986084\n",
      "Epoch 30, CIFAR-10 Batch 4:  Validation accurancy : 0.42899996042251587, 2.0116121768951416\n",
      "Epoch 30, CIFAR-10 Batch 5:  Validation accurancy : 0.4487999677658081, 2.0062103271484375\n",
      "Epoch 31, CIFAR-10 Batch 1:  Validation accurancy : 0.45139995217323303, 1.9635748863220215\n",
      "Epoch 31, CIFAR-10 Batch 2:  Validation accurancy : 0.4503999650478363, 2.0143625736236572\n",
      "Epoch 31, CIFAR-10 Batch 3:  Validation accurancy : 0.4611999988555908, 1.8123273849487305\n",
      "Epoch 31, CIFAR-10 Batch 4:  Validation accurancy : 0.45559999346733093, 2.0322461128234863\n",
      "Epoch 31, CIFAR-10 Batch 5:  Validation accurancy : 0.44439995288848877, 2.0019259452819824\n",
      "Epoch 32, CIFAR-10 Batch 1:  Validation accurancy : 0.4577999711036682, 2.0150222778320312\n",
      "Epoch 32, CIFAR-10 Batch 2:  Validation accurancy : 0.4599999487400055, 2.016587734222412\n",
      "Epoch 32, CIFAR-10 Batch 3:  Validation accurancy : 0.45899996161460876, 1.7979612350463867\n",
      "Epoch 32, CIFAR-10 Batch 4:  Validation accurancy : 0.45479997992515564, 2.048391580581665\n",
      "Epoch 32, CIFAR-10 Batch 5:  Validation accurancy : 0.45719999074935913, 1.998762607574463\n",
      "Epoch 33, CIFAR-10 Batch 1:  Validation accurancy : 0.4601999521255493, 1.960135817527771\n",
      "Epoch 33, CIFAR-10 Batch 2:  Validation accurancy : 0.46119996905326843, 2.0073721408843994\n",
      "Epoch 33, CIFAR-10 Batch 3:  Validation accurancy : 0.4505999982357025, 1.8073632717132568\n",
      "Epoch 33, CIFAR-10 Batch 4:  Validation accurancy : 0.45799994468688965, 2.0260415077209473\n",
      "Epoch 33, CIFAR-10 Batch 5:  Validation accurancy : 0.45079997181892395, 1.9761099815368652\n",
      "Epoch 34, CIFAR-10 Batch 1:  Validation accurancy : 0.4519999623298645, 1.9305962324142456\n",
      "Epoch 34, CIFAR-10 Batch 2:  Validation accurancy : 0.4567999541759491, 2.021860122680664\n",
      "Epoch 34, CIFAR-10 Batch 3:  Validation accurancy : 0.45959994196891785, 1.8248764276504517\n",
      "Epoch 34, CIFAR-10 Batch 4:  Validation accurancy : 0.4601999521255493, 2.0229856967926025\n",
      "Epoch 34, CIFAR-10 Batch 5:  Validation accurancy : 0.4607999920845032, 1.9843103885650635\n",
      "Epoch 35, CIFAR-10 Batch 1:  Validation accurancy : 0.46059998869895935, 1.9524593353271484\n",
      "Epoch 35, CIFAR-10 Batch 2:  Validation accurancy : 0.46399998664855957, 2.0196726322174072\n",
      "Epoch 35, CIFAR-10 Batch 3:  Validation accurancy : 0.4270000159740448, 1.8441922664642334\n",
      "Epoch 35, CIFAR-10 Batch 4:  Validation accurancy : 0.4585999548435211, 2.0320003032684326\n",
      "Epoch 35, CIFAR-10 Batch 5:  Validation accurancy : 0.4591999351978302, 1.9976860284805298\n",
      "Epoch 36, CIFAR-10 Batch 1:  Validation accurancy : 0.4631999731063843, 1.9155553579330444\n",
      "Epoch 36, CIFAR-10 Batch 2:  Validation accurancy : 0.46559998393058777, 2.02213978767395\n",
      "Epoch 36, CIFAR-10 Batch 3:  Validation accurancy : 0.4575999677181244, 1.8141748905181885\n",
      "Epoch 36, CIFAR-10 Batch 4:  Validation accurancy : 0.47359997034072876, 1.9566692113876343\n",
      "Epoch 36, CIFAR-10 Batch 5:  Validation accurancy : 0.46059995889663696, 1.9998092651367188\n",
      "Epoch 37, CIFAR-10 Batch 1:  Validation accurancy : 0.4583999514579773, 1.9151487350463867\n",
      "Epoch 37, CIFAR-10 Batch 2:  Validation accurancy : 0.46299996972084045, 1.9618141651153564\n",
      "Epoch 37, CIFAR-10 Batch 3:  Validation accurancy : 0.45819997787475586, 1.8888883590698242\n",
      "Epoch 37, CIFAR-10 Batch 4:  Validation accurancy : 0.46219995617866516, 1.962099313735962\n",
      "Epoch 37, CIFAR-10 Batch 5:  Validation accurancy : 0.45979997515678406, 1.9523289203643799\n",
      "Epoch 38, CIFAR-10 Batch 1:  Validation accurancy : 0.46539995074272156, 1.8735769987106323\n",
      "Epoch 38, CIFAR-10 Batch 2:  Validation accurancy : 0.4817999601364136, 1.952243447303772\n",
      "Epoch 38, CIFAR-10 Batch 3:  Validation accurancy : 0.47039994597435, 1.771519660949707\n",
      "Epoch 38, CIFAR-10 Batch 4:  Validation accurancy : 0.4615999460220337, 2.0004844665527344\n",
      "Epoch 38, CIFAR-10 Batch 5:  Validation accurancy : 0.4781999886035919, 1.9509352445602417\n",
      "Epoch 39, CIFAR-10 Batch 1:  Validation accurancy : 0.4763999283313751, 1.8701145648956299\n",
      "Epoch 39, CIFAR-10 Batch 2:  Validation accurancy : 0.48079997301101685, 1.9668571949005127\n",
      "Epoch 39, CIFAR-10 Batch 3:  Validation accurancy : 0.46779999136924744, 1.8007543087005615\n",
      "Epoch 39, CIFAR-10 Batch 4:  Validation accurancy : 0.47079998254776, 1.9762814044952393\n",
      "Epoch 39, CIFAR-10 Batch 5:  Validation accurancy : 0.47699999809265137, 1.9282572269439697\n",
      "Epoch 40, CIFAR-10 Batch 1:  Validation accurancy : 0.44839996099472046, 1.9574891328811646\n",
      "Epoch 40, CIFAR-10 Batch 2:  Validation accurancy : 0.4699999988079071, 1.9902511835098267\n",
      "Epoch 40, CIFAR-10 Batch 3:  Validation accurancy : 0.46139994263648987, 1.761321783065796\n",
      "Epoch 40, CIFAR-10 Batch 4:  Validation accurancy : 0.4739999771118164, 1.948075771331787\n",
      "Epoch 40, CIFAR-10 Batch 5:  Validation accurancy : 0.45879992842674255, 1.965903878211975\n",
      "Epoch 41, CIFAR-10 Batch 1:  Validation accurancy : 0.4777999520301819, 1.8518075942993164\n",
      "Epoch 41, CIFAR-10 Batch 2:  Validation accurancy : 0.46779996156692505, 2.0036206245422363\n",
      "Epoch 41, CIFAR-10 Batch 3:  Validation accurancy : 0.41200000047683716, 1.8865551948547363\n",
      "Epoch 41, CIFAR-10 Batch 4:  Validation accurancy : 0.46459993720054626, 1.9822460412979126\n",
      "Epoch 41, CIFAR-10 Batch 5:  Validation accurancy : 0.48159995675086975, 1.9415857791900635\n",
      "Epoch 42, CIFAR-10 Batch 1:  Validation accurancy : 0.47739994525909424, 1.8462533950805664\n",
      "Epoch 42, CIFAR-10 Batch 2:  Validation accurancy : 0.48319995403289795, 1.9611823558807373\n",
      "Epoch 42, CIFAR-10 Batch 3:  Validation accurancy : 0.48420000076293945, 1.7869395017623901\n",
      "Epoch 42, CIFAR-10 Batch 4:  Validation accurancy : 0.4825999438762665, 1.9094889163970947\n",
      "Epoch 42, CIFAR-10 Batch 5:  Validation accurancy : 0.4747999608516693, 1.9064841270446777\n",
      "Epoch 43, CIFAR-10 Batch 1:  Validation accurancy : 0.46779993176460266, 1.8219995498657227\n",
      "Epoch 43, CIFAR-10 Batch 2:  Validation accurancy : 0.4825999438762665, 1.9801476001739502\n",
      "Epoch 43, CIFAR-10 Batch 3:  Validation accurancy : 0.47759994864463806, 1.7480322122573853\n",
      "Epoch 43, CIFAR-10 Batch 4:  Validation accurancy : 0.47999995946884155, 1.940638542175293\n",
      "Epoch 43, CIFAR-10 Batch 5:  Validation accurancy : 0.47319990396499634, 1.985571265220642\n",
      "Epoch 44, CIFAR-10 Batch 1:  Validation accurancy : 0.478799968957901, 1.9028561115264893\n",
      "Epoch 44, CIFAR-10 Batch 2:  Validation accurancy : 0.4723999500274658, 1.96626877784729\n",
      "Epoch 44, CIFAR-10 Batch 3:  Validation accurancy : 0.4817999601364136, 1.7503337860107422\n",
      "Epoch 44, CIFAR-10 Batch 4:  Validation accurancy : 0.4777999520301819, 1.9492413997650146\n",
      "Epoch 44, CIFAR-10 Batch 5:  Validation accurancy : 0.48239994049072266, 1.8952996730804443\n",
      "Epoch 45, CIFAR-10 Batch 1:  Validation accurancy : 0.48719993233680725, 1.8159351348876953\n",
      "Epoch 45, CIFAR-10 Batch 2:  Validation accurancy : 0.48739996552467346, 1.9344513416290283\n",
      "Epoch 45, CIFAR-10 Batch 3:  Validation accurancy : 0.4795999526977539, 1.808138370513916\n",
      "Epoch 45, CIFAR-10 Batch 4:  Validation accurancy : 0.48479998111724854, 1.9307854175567627\n",
      "Epoch 45, CIFAR-10 Batch 5:  Validation accurancy : 0.4899999499320984, 1.8867082595825195\n",
      "Epoch 46, CIFAR-10 Batch 1:  Validation accurancy : 0.491599977016449, 1.8174245357513428\n",
      "Epoch 46, CIFAR-10 Batch 2:  Validation accurancy : 0.47119998931884766, 1.9837477207183838\n",
      "Epoch 46, CIFAR-10 Batch 3:  Validation accurancy : 0.4859999418258667, 1.7572953701019287\n",
      "Epoch 46, CIFAR-10 Batch 4:  Validation accurancy : 0.48239997029304504, 1.9015244245529175\n",
      "Epoch 46, CIFAR-10 Batch 5:  Validation accurancy : 0.4837999641895294, 1.926146149635315\n",
      "Epoch 47, CIFAR-10 Batch 1:  Validation accurancy : 0.44919997453689575, 1.9071252346038818\n",
      "Epoch 47, CIFAR-10 Batch 2:  Validation accurancy : 0.4909999370574951, 1.9556750059127808\n",
      "Epoch 47, CIFAR-10 Batch 3:  Validation accurancy : 0.48459991812705994, 1.707390546798706\n",
      "Epoch 47, CIFAR-10 Batch 4:  Validation accurancy : 0.47039997577667236, 1.9230073690414429\n",
      "Epoch 47, CIFAR-10 Batch 5:  Validation accurancy : 0.48499995470046997, 1.8825032711029053\n",
      "Epoch 48, CIFAR-10 Batch 1:  Validation accurancy : 0.49519991874694824, 1.8216965198516846\n",
      "Epoch 48, CIFAR-10 Batch 2:  Validation accurancy : 0.49139997363090515, 1.9294452667236328\n",
      "Epoch 48, CIFAR-10 Batch 3:  Validation accurancy : 0.4811999797821045, 1.783646583557129\n",
      "Epoch 48, CIFAR-10 Batch 4:  Validation accurancy : 0.4867999255657196, 1.8925440311431885\n",
      "Epoch 48, CIFAR-10 Batch 5:  Validation accurancy : 0.47439995408058167, 1.9331111907958984\n",
      "Epoch 49, CIFAR-10 Batch 1:  Validation accurancy : 0.494799941778183, 1.8122484683990479\n",
      "Epoch 49, CIFAR-10 Batch 2:  Validation accurancy : 0.4941999614238739, 1.9167296886444092\n",
      "Epoch 49, CIFAR-10 Batch 3:  Validation accurancy : 0.49459993839263916, 1.736823558807373\n",
      "Epoch 49, CIFAR-10 Batch 4:  Validation accurancy : 0.47659996151924133, 1.8967071771621704\n",
      "Epoch 49, CIFAR-10 Batch 5:  Validation accurancy : 0.4975999593734741, 1.8653504848480225\n",
      "Epoch 50, CIFAR-10 Batch 1:  Validation accurancy : 0.48639994859695435, 1.827368974685669\n",
      "Epoch 50, CIFAR-10 Batch 2:  Validation accurancy : 0.49059993028640747, 1.9225493669509888\n",
      "Epoch 50, CIFAR-10 Batch 3:  Validation accurancy : 0.4949999153614044, 1.690237045288086\n",
      "Epoch 50, CIFAR-10 Batch 4:  Validation accurancy : 0.49299994111061096, 1.8743454217910767\n",
      "Epoch 50, CIFAR-10 Batch 5:  Validation accurancy : 0.48899996280670166, 1.9099020957946777\n",
      "Epoch 51, CIFAR-10 Batch 1:  Validation accurancy : 0.4829999506473541, 1.830888032913208\n",
      "Epoch 51, CIFAR-10 Batch 2:  Validation accurancy : 0.49379995465278625, 1.9078258275985718\n",
      "Epoch 51, CIFAR-10 Batch 3:  Validation accurancy : 0.4809999465942383, 1.7581532001495361\n",
      "Epoch 51, CIFAR-10 Batch 4:  Validation accurancy : 0.5035999417304993, 1.8634209632873535\n",
      "Epoch 51, CIFAR-10 Batch 5:  Validation accurancy : 0.4821999669075012, 1.920881986618042\n",
      "Epoch 52, CIFAR-10 Batch 1:  Validation accurancy : 0.48399996757507324, 1.8075695037841797\n",
      "Epoch 52, CIFAR-10 Batch 2:  Validation accurancy : 0.4909999966621399, 1.928160309791565\n",
      "Epoch 52, CIFAR-10 Batch 3:  Validation accurancy : 0.4981999397277832, 1.6914732456207275\n",
      "Epoch 52, CIFAR-10 Batch 4:  Validation accurancy : 0.5049999356269836, 1.8476942777633667\n",
      "Epoch 52, CIFAR-10 Batch 5:  Validation accurancy : 0.4931999742984772, 1.8185811042785645\n",
      "Epoch 53, CIFAR-10 Batch 1:  Validation accurancy : 0.5003999471664429, 1.810819387435913\n",
      "Epoch 53, CIFAR-10 Batch 2:  Validation accurancy : 0.5001999139785767, 1.9189152717590332\n",
      "Epoch 53, CIFAR-10 Batch 3:  Validation accurancy : 0.4935999810695648, 1.6904042959213257\n",
      "Epoch 53, CIFAR-10 Batch 4:  Validation accurancy : 0.4841999411582947, 1.939100980758667\n",
      "Epoch 53, CIFAR-10 Batch 5:  Validation accurancy : 0.49119991064071655, 1.9066460132598877\n",
      "Epoch 54, CIFAR-10 Batch 1:  Validation accurancy : 0.4899999499320984, 1.7873435020446777\n",
      "Epoch 54, CIFAR-10 Batch 2:  Validation accurancy : 0.49879997968673706, 1.8853905200958252\n",
      "Epoch 54, CIFAR-10 Batch 3:  Validation accurancy : 0.4877999424934387, 1.7261836528778076\n",
      "Epoch 54, CIFAR-10 Batch 4:  Validation accurancy : 0.48899996280670166, 1.9644341468811035\n",
      "Epoch 54, CIFAR-10 Batch 5:  Validation accurancy : 0.4959999918937683, 1.8855316638946533\n",
      "Epoch 55, CIFAR-10 Batch 1:  Validation accurancy : 0.4943999648094177, 1.7828843593597412\n",
      "Epoch 55, CIFAR-10 Batch 2:  Validation accurancy : 0.5021999478340149, 1.8843872547149658\n",
      "Epoch 55, CIFAR-10 Batch 3:  Validation accurancy : 0.48939990997314453, 1.6465585231781006\n",
      "Epoch 55, CIFAR-10 Batch 4:  Validation accurancy : 0.5023999810218811, 1.8477541208267212\n",
      "Epoch 55, CIFAR-10 Batch 5:  Validation accurancy : 0.5077999830245972, 1.8645923137664795\n",
      "Epoch 56, CIFAR-10 Batch 1:  Validation accurancy : 0.5029999613761902, 1.8550199270248413\n",
      "Epoch 56, CIFAR-10 Batch 2:  Validation accurancy : 0.48559999465942383, 1.8993898630142212\n",
      "Epoch 56, CIFAR-10 Batch 3:  Validation accurancy : 0.503600001335144, 1.6950267553329468\n",
      "Epoch 56, CIFAR-10 Batch 4:  Validation accurancy : 0.5071999430656433, 1.9220892190933228\n",
      "Epoch 56, CIFAR-10 Batch 5:  Validation accurancy : 0.5021999478340149, 1.8535816669464111\n",
      "Epoch 57, CIFAR-10 Batch 1:  Validation accurancy : 0.4819999635219574, 1.8612945079803467\n",
      "Epoch 57, CIFAR-10 Batch 2:  Validation accurancy : 0.5027999877929688, 1.9059277772903442\n",
      "Epoch 57, CIFAR-10 Batch 3:  Validation accurancy : 0.4981999397277832, 1.7316818237304688\n",
      "Epoch 57, CIFAR-10 Batch 4:  Validation accurancy : 0.49439993500709534, 1.870322823524475\n",
      "Epoch 57, CIFAR-10 Batch 5:  Validation accurancy : 0.49119997024536133, 1.8809809684753418\n",
      "Epoch 58, CIFAR-10 Batch 1:  Validation accurancy : 0.4857999086380005, 1.7953332662582397\n",
      "Epoch 58, CIFAR-10 Batch 2:  Validation accurancy : 0.4989999532699585, 1.9176745414733887\n",
      "Epoch 58, CIFAR-10 Batch 3:  Validation accurancy : 0.4943999648094177, 1.708950161933899\n",
      "Epoch 58, CIFAR-10 Batch 4:  Validation accurancy : 0.4901999235153198, 1.9674205780029297\n",
      "Epoch 58, CIFAR-10 Batch 5:  Validation accurancy : 0.5005999803543091, 1.8563063144683838\n",
      "Epoch 59, CIFAR-10 Batch 1:  Validation accurancy : 0.49839991331100464, 1.7879583835601807\n",
      "Epoch 59, CIFAR-10 Batch 2:  Validation accurancy : 0.49219998717308044, 1.8875248432159424\n",
      "Epoch 59, CIFAR-10 Batch 3:  Validation accurancy : 0.47759994864463806, 1.7094974517822266\n",
      "Epoch 59, CIFAR-10 Batch 4:  Validation accurancy : 0.4673999547958374, 1.9314236640930176\n",
      "Epoch 59, CIFAR-10 Batch 5:  Validation accurancy : 0.49039995670318604, 1.8869154453277588\n",
      "Epoch 60, CIFAR-10 Batch 1:  Validation accurancy : 0.49119994044303894, 1.8505170345306396\n",
      "Epoch 60, CIFAR-10 Batch 2:  Validation accurancy : 0.5061999559402466, 1.8575439453125\n",
      "Epoch 60, CIFAR-10 Batch 3:  Validation accurancy : 0.507599949836731, 1.6528048515319824\n",
      "Epoch 60, CIFAR-10 Batch 4:  Validation accurancy : 0.4949999451637268, 1.8166205883026123\n",
      "Epoch 60, CIFAR-10 Batch 5:  Validation accurancy : 0.5029999017715454, 1.8704806566238403\n",
      "Epoch 61, CIFAR-10 Batch 1:  Validation accurancy : 0.5163999199867249, 1.7927842140197754\n",
      "Epoch 61, CIFAR-10 Batch 2:  Validation accurancy : 0.5031999349594116, 1.879740595817566\n",
      "Epoch 61, CIFAR-10 Batch 3:  Validation accurancy : 0.5123999714851379, 1.6456947326660156\n",
      "Epoch 61, CIFAR-10 Batch 4:  Validation accurancy : 0.5059999823570251, 1.8575114011764526\n",
      "Epoch 61, CIFAR-10 Batch 5:  Validation accurancy : 0.5139999389648438, 1.8351846933364868\n",
      "Epoch 62, CIFAR-10 Batch 1:  Validation accurancy : 0.5249999761581421, 1.7791521549224854\n",
      "Epoch 62, CIFAR-10 Batch 2:  Validation accurancy : 0.5161999464035034, 1.9249595403671265\n",
      "Epoch 62, CIFAR-10 Batch 3:  Validation accurancy : 0.5097998976707458, 1.6689653396606445\n",
      "Epoch 62, CIFAR-10 Batch 4:  Validation accurancy : 0.5043998956680298, 1.949293851852417\n",
      "Epoch 62, CIFAR-10 Batch 5:  Validation accurancy : 0.5115998983383179, 1.8369410037994385\n",
      "Epoch 63, CIFAR-10 Batch 1:  Validation accurancy : 0.5095999240875244, 1.7435712814331055\n",
      "Epoch 63, CIFAR-10 Batch 2:  Validation accurancy : 0.5229999423027039, 1.8926928043365479\n",
      "Epoch 63, CIFAR-10 Batch 3:  Validation accurancy : 0.5207999348640442, 1.6731034517288208\n",
      "Epoch 63, CIFAR-10 Batch 4:  Validation accurancy : 0.5185999870300293, 1.7719619274139404\n",
      "Epoch 63, CIFAR-10 Batch 5:  Validation accurancy : 0.5071999430656433, 1.819314956665039\n",
      "Epoch 64, CIFAR-10 Batch 1:  Validation accurancy : 0.5167999267578125, 1.8091034889221191\n",
      "Epoch 64, CIFAR-10 Batch 2:  Validation accurancy : 0.5257999897003174, 1.8480889797210693\n",
      "Epoch 64, CIFAR-10 Batch 3:  Validation accurancy : 0.5059999227523804, 1.6925022602081299\n",
      "Epoch 64, CIFAR-10 Batch 4:  Validation accurancy : 0.5257999300956726, 1.7633249759674072\n",
      "Epoch 64, CIFAR-10 Batch 5:  Validation accurancy : 0.5123999714851379, 1.8179011344909668\n",
      "Epoch 65, CIFAR-10 Batch 1:  Validation accurancy : 0.5171999335289001, 1.8087323904037476\n",
      "Epoch 65, CIFAR-10 Batch 2:  Validation accurancy : 0.5187999606132507, 1.9218847751617432\n",
      "Epoch 65, CIFAR-10 Batch 3:  Validation accurancy : 0.5199999809265137, 1.686829686164856\n",
      "Epoch 65, CIFAR-10 Batch 4:  Validation accurancy : 0.5065999627113342, 1.832709550857544\n",
      "Epoch 65, CIFAR-10 Batch 5:  Validation accurancy : 0.5059999227523804, 1.8047850131988525\n",
      "Epoch 66, CIFAR-10 Batch 1:  Validation accurancy : 0.5173999667167664, 1.7842652797698975\n",
      "Epoch 66, CIFAR-10 Batch 2:  Validation accurancy : 0.5293999910354614, 1.9286880493164062\n",
      "Epoch 66, CIFAR-10 Batch 3:  Validation accurancy : 0.5197999477386475, 1.6548006534576416\n",
      "Epoch 66, CIFAR-10 Batch 4:  Validation accurancy : 0.49779996275901794, 1.7746803760528564\n",
      "Epoch 66, CIFAR-10 Batch 5:  Validation accurancy : 0.5181999206542969, 1.8788566589355469\n",
      "Epoch 67, CIFAR-10 Batch 1:  Validation accurancy : 0.5161999464035034, 1.7977570295333862\n",
      "Epoch 67, CIFAR-10 Batch 2:  Validation accurancy : 0.507599949836731, 1.878772258758545\n",
      "Epoch 67, CIFAR-10 Batch 3:  Validation accurancy : 0.5083999633789062, 1.7184749841690063\n",
      "Epoch 67, CIFAR-10 Batch 4:  Validation accurancy : 0.49199995398521423, 1.874909520149231\n",
      "Epoch 67, CIFAR-10 Batch 5:  Validation accurancy : 0.5245999097824097, 1.7908618450164795\n",
      "Epoch 68, CIFAR-10 Batch 1:  Validation accurancy : 0.5201999545097351, 1.8429017066955566\n",
      "Epoch 68, CIFAR-10 Batch 2:  Validation accurancy : 0.5219998955726624, 1.839513897895813\n",
      "Epoch 68, CIFAR-10 Batch 3:  Validation accurancy : 0.5067999362945557, 1.701363444328308\n",
      "Epoch 68, CIFAR-10 Batch 4:  Validation accurancy : 0.5151999592781067, 1.732369065284729\n",
      "Epoch 68, CIFAR-10 Batch 5:  Validation accurancy : 0.507599949836731, 1.843153476715088\n",
      "Epoch 69, CIFAR-10 Batch 1:  Validation accurancy : 0.5127999782562256, 1.8024216890335083\n",
      "Epoch 69, CIFAR-10 Batch 2:  Validation accurancy : 0.5252000093460083, 1.8315916061401367\n",
      "Epoch 69, CIFAR-10 Batch 3:  Validation accurancy : 0.5159999132156372, 1.6960021257400513\n",
      "Epoch 69, CIFAR-10 Batch 4:  Validation accurancy : 0.5239999294281006, 1.7906125783920288\n",
      "Epoch 69, CIFAR-10 Batch 5:  Validation accurancy : 0.5289999842643738, 1.837848424911499\n",
      "Epoch 70, CIFAR-10 Batch 1:  Validation accurancy : 0.5161999464035034, 1.7546048164367676\n",
      "Epoch 70, CIFAR-10 Batch 2:  Validation accurancy : 0.5251999497413635, 1.8047406673431396\n",
      "Epoch 70, CIFAR-10 Batch 3:  Validation accurancy : 0.5315999984741211, 1.6520897150039673\n",
      "Epoch 70, CIFAR-10 Batch 4:  Validation accurancy : 0.51419997215271, 1.928763747215271\n",
      "Epoch 70, CIFAR-10 Batch 5:  Validation accurancy : 0.5249999165534973, 1.7893023490905762\n",
      "Epoch 71, CIFAR-10 Batch 1:  Validation accurancy : 0.5263999104499817, 1.733577013015747\n",
      "Epoch 71, CIFAR-10 Batch 2:  Validation accurancy : 0.5011999607086182, 1.9257888793945312\n",
      "Epoch 71, CIFAR-10 Batch 3:  Validation accurancy : 0.5247999429702759, 1.690342903137207\n",
      "Epoch 71, CIFAR-10 Batch 4:  Validation accurancy : 0.5283999443054199, 1.7874329090118408\n",
      "Epoch 71, CIFAR-10 Batch 5:  Validation accurancy : 0.5211999416351318, 1.85960054397583\n",
      "Epoch 72, CIFAR-10 Batch 1:  Validation accurancy : 0.5347999334335327, 1.790181040763855\n",
      "Epoch 72, CIFAR-10 Batch 2:  Validation accurancy : 0.5243999361991882, 1.8521149158477783\n",
      "Epoch 72, CIFAR-10 Batch 3:  Validation accurancy : 0.5341999530792236, 1.6778881549835205\n",
      "Epoch 72, CIFAR-10 Batch 4:  Validation accurancy : 0.5311999320983887, 1.7425055503845215\n",
      "Epoch 72, CIFAR-10 Batch 5:  Validation accurancy : 0.5275999307632446, 1.8227801322937012\n",
      "Epoch 73, CIFAR-10 Batch 1:  Validation accurancy : 0.5413998961448669, 1.7184498310089111\n",
      "Epoch 73, CIFAR-10 Batch 2:  Validation accurancy : 0.5347999334335327, 1.9070161581039429\n",
      "Epoch 73, CIFAR-10 Batch 3:  Validation accurancy : 0.5169999599456787, 1.758641004562378\n",
      "Epoch 73, CIFAR-10 Batch 4:  Validation accurancy : 0.49779993295669556, 1.7620604038238525\n",
      "Epoch 73, CIFAR-10 Batch 5:  Validation accurancy : 0.5427999496459961, 1.714897632598877\n",
      "Epoch 74, CIFAR-10 Batch 1:  Validation accurancy : 0.5347999334335327, 1.779541015625\n",
      "Epoch 74, CIFAR-10 Batch 2:  Validation accurancy : 0.5209999680519104, 1.8324835300445557\n",
      "Epoch 74, CIFAR-10 Batch 3:  Validation accurancy : 0.5353999137878418, 1.7141337394714355\n",
      "Epoch 74, CIFAR-10 Batch 4:  Validation accurancy : 0.527199923992157, 1.7732293605804443\n",
      "Epoch 74, CIFAR-10 Batch 5:  Validation accurancy : 0.5387999415397644, 1.7674546241760254\n",
      "Epoch 75, CIFAR-10 Batch 1:  Validation accurancy : 0.5317999720573425, 1.7919232845306396\n",
      "Epoch 75, CIFAR-10 Batch 2:  Validation accurancy : 0.5393999814987183, 1.7843539714813232\n",
      "Epoch 75, CIFAR-10 Batch 3:  Validation accurancy : 0.5443999171257019, 1.6653707027435303\n",
      "Epoch 75, CIFAR-10 Batch 4:  Validation accurancy : 0.5295999050140381, 1.8015210628509521\n",
      "Epoch 75, CIFAR-10 Batch 5:  Validation accurancy : 0.5409999489784241, 1.7851800918579102\n",
      "Epoch 76, CIFAR-10 Batch 1:  Validation accurancy : 0.5455998778343201, 1.7726328372955322\n",
      "Epoch 76, CIFAR-10 Batch 2:  Validation accurancy : 0.5275999307632446, 1.8310590982437134\n",
      "Epoch 76, CIFAR-10 Batch 3:  Validation accurancy : 0.5393999218940735, 1.723863959312439\n",
      "Epoch 76, CIFAR-10 Batch 4:  Validation accurancy : 0.5411999225616455, 1.6849067211151123\n",
      "Epoch 76, CIFAR-10 Batch 5:  Validation accurancy : 0.532599925994873, 1.8595538139343262\n",
      "Epoch 77, CIFAR-10 Batch 1:  Validation accurancy : 0.5411999225616455, 1.6912002563476562\n",
      "Epoch 77, CIFAR-10 Batch 2:  Validation accurancy : 0.5169999599456787, 1.8416516780853271\n",
      "Epoch 77, CIFAR-10 Batch 3:  Validation accurancy : 0.5369999408721924, 1.6753087043762207\n",
      "Epoch 77, CIFAR-10 Batch 4:  Validation accurancy : 0.518799901008606, 1.7863211631774902\n",
      "Epoch 77, CIFAR-10 Batch 5:  Validation accurancy : 0.5383999347686768, 1.8033313751220703\n",
      "Epoch 78, CIFAR-10 Batch 1:  Validation accurancy : 0.5403999090194702, 1.718084692955017\n",
      "Epoch 78, CIFAR-10 Batch 2:  Validation accurancy : 0.5407999753952026, 1.7608561515808105\n",
      "Epoch 78, CIFAR-10 Batch 3:  Validation accurancy : 0.5285999774932861, 1.668269157409668\n",
      "Epoch 78, CIFAR-10 Batch 4:  Validation accurancy : 0.5263999700546265, 1.7912049293518066\n",
      "Epoch 78, CIFAR-10 Batch 5:  Validation accurancy : 0.5411999225616455, 1.9160950183868408\n",
      "Epoch 79, CIFAR-10 Batch 1:  Validation accurancy : 0.5481998920440674, 1.7003780603408813\n",
      "Epoch 79, CIFAR-10 Batch 2:  Validation accurancy : 0.5235999822616577, 1.764944314956665\n",
      "Epoch 79, CIFAR-10 Batch 3:  Validation accurancy : 0.5203999280929565, 1.668128490447998\n",
      "Epoch 79, CIFAR-10 Batch 4:  Validation accurancy : 0.5023999214172363, 1.8038740158081055\n",
      "Epoch 79, CIFAR-10 Batch 5:  Validation accurancy : 0.5409998893737793, 1.7754322290420532\n",
      "Epoch 80, CIFAR-10 Batch 1:  Validation accurancy : 0.5281999111175537, 1.7445297241210938\n",
      "Epoch 80, CIFAR-10 Batch 2:  Validation accurancy : 0.5379999279975891, 1.8235987424850464\n",
      "Epoch 80, CIFAR-10 Batch 3:  Validation accurancy : 0.5409998893737793, 1.6920567750930786\n",
      "Epoch 80, CIFAR-10 Batch 4:  Validation accurancy : 0.5359998941421509, 1.7493752241134644\n",
      "Epoch 80, CIFAR-10 Batch 5:  Validation accurancy : 0.509399950504303, 1.8349409103393555\n",
      "Epoch 81, CIFAR-10 Batch 1:  Validation accurancy : 0.53739994764328, 1.7172577381134033\n",
      "Epoch 81, CIFAR-10 Batch 2:  Validation accurancy : 0.5287999510765076, 1.7617912292480469\n",
      "Epoch 81, CIFAR-10 Batch 3:  Validation accurancy : 0.5265999436378479, 1.702319860458374\n",
      "Epoch 81, CIFAR-10 Batch 4:  Validation accurancy : 0.5255999565124512, 1.7442829608917236\n",
      "Epoch 81, CIFAR-10 Batch 5:  Validation accurancy : 0.5443998575210571, 1.7691447734832764\n",
      "Epoch 82, CIFAR-10 Batch 1:  Validation accurancy : 0.5493999123573303, 1.73626708984375\n",
      "Epoch 82, CIFAR-10 Batch 2:  Validation accurancy : 0.5419999361038208, 1.7707980871200562\n",
      "Epoch 82, CIFAR-10 Batch 3:  Validation accurancy : 0.5431999564170837, 1.661908507347107\n",
      "Epoch 82, CIFAR-10 Batch 4:  Validation accurancy : 0.5514000058174133, 1.6957836151123047\n",
      "Epoch 82, CIFAR-10 Batch 5:  Validation accurancy : 0.5361999273300171, 1.8191063404083252\n",
      "Epoch 83, CIFAR-10 Batch 1:  Validation accurancy : 0.5373998880386353, 1.7356656789779663\n",
      "Epoch 83, CIFAR-10 Batch 2:  Validation accurancy : 0.5481998920440674, 1.7931859493255615\n",
      "Epoch 83, CIFAR-10 Batch 3:  Validation accurancy : 0.5323999524116516, 1.7087039947509766\n",
      "Epoch 83, CIFAR-10 Batch 4:  Validation accurancy : 0.5275999903678894, 1.7608370780944824\n",
      "Epoch 83, CIFAR-10 Batch 5:  Validation accurancy : 0.5457999110221863, 1.7297759056091309\n",
      "Epoch 84, CIFAR-10 Batch 1:  Validation accurancy : 0.49879997968673706, 1.8069732189178467\n",
      "Epoch 84, CIFAR-10 Batch 2:  Validation accurancy : 0.5347999334335327, 1.7930141687393188\n",
      "Epoch 84, CIFAR-10 Batch 3:  Validation accurancy : 0.5431999564170837, 1.686854362487793\n",
      "Epoch 84, CIFAR-10 Batch 4:  Validation accurancy : 0.5503999590873718, 1.7333600521087646\n",
      "Epoch 84, CIFAR-10 Batch 5:  Validation accurancy : 0.5457999110221863, 1.809940218925476\n",
      "Epoch 85, CIFAR-10 Batch 1:  Validation accurancy : 0.5409998893737793, 1.7244821786880493\n",
      "Epoch 85, CIFAR-10 Batch 2:  Validation accurancy : 0.550399899482727, 1.796217441558838\n",
      "Epoch 85, CIFAR-10 Batch 3:  Validation accurancy : 0.5443999767303467, 1.6849112510681152\n",
      "Epoch 85, CIFAR-10 Batch 4:  Validation accurancy : 0.5359998941421509, 1.7401249408721924\n",
      "Epoch 85, CIFAR-10 Batch 5:  Validation accurancy : 0.5483999252319336, 1.7928681373596191\n",
      "Epoch 86, CIFAR-10 Batch 1:  Validation accurancy : 0.5485999584197998, 1.7080342769622803\n",
      "Epoch 86, CIFAR-10 Batch 2:  Validation accurancy : 0.5511999130249023, 1.806036353111267\n",
      "Epoch 86, CIFAR-10 Batch 3:  Validation accurancy : 0.5515999794006348, 1.6896198987960815\n",
      "Epoch 86, CIFAR-10 Batch 4:  Validation accurancy : 0.5361999273300171, 1.758496880531311\n",
      "Epoch 86, CIFAR-10 Batch 5:  Validation accurancy : 0.5455999374389648, 1.7361253499984741\n",
      "Epoch 87, CIFAR-10 Batch 1:  Validation accurancy : 0.5479999780654907, 1.7244713306427002\n",
      "Epoch 87, CIFAR-10 Batch 2:  Validation accurancy : 0.5359999537467957, 1.785475254058838\n",
      "Epoch 87, CIFAR-10 Batch 3:  Validation accurancy : 0.5391998887062073, 1.6863030195236206\n",
      "Epoch 87, CIFAR-10 Batch 4:  Validation accurancy : 0.541999876499176, 1.711869478225708\n",
      "Epoch 87, CIFAR-10 Batch 5:  Validation accurancy : 0.5565999150276184, 1.7429972887039185\n",
      "Epoch 88, CIFAR-10 Batch 1:  Validation accurancy : 0.5491999387741089, 1.730886697769165\n",
      "Epoch 88, CIFAR-10 Batch 2:  Validation accurancy : 0.5547999143600464, 1.7401692867279053\n",
      "Epoch 88, CIFAR-10 Batch 3:  Validation accurancy : 0.5483999252319336, 1.6981287002563477\n",
      "Epoch 88, CIFAR-10 Batch 4:  Validation accurancy : 0.5411999225616455, 1.7557036876678467\n",
      "Epoch 88, CIFAR-10 Batch 5:  Validation accurancy : 0.5423999428749084, 1.8565887212753296\n",
      "Epoch 89, CIFAR-10 Batch 1:  Validation accurancy : 0.5487999320030212, 1.7135844230651855\n",
      "Epoch 89, CIFAR-10 Batch 2:  Validation accurancy : 0.5483999252319336, 1.789751410484314\n",
      "Epoch 89, CIFAR-10 Batch 3:  Validation accurancy : 0.544999897480011, 1.6687061786651611\n",
      "Epoch 89, CIFAR-10 Batch 4:  Validation accurancy : 0.5603999495506287, 1.7101222276687622\n",
      "Epoch 89, CIFAR-10 Batch 5:  Validation accurancy : 0.5357998609542847, 1.8347829580307007\n",
      "Epoch 90, CIFAR-10 Batch 1:  Validation accurancy : 0.5571999549865723, 1.7120301723480225\n",
      "Epoch 90, CIFAR-10 Batch 2:  Validation accurancy : 0.5481998920440674, 1.7382569313049316\n",
      "Epoch 90, CIFAR-10 Batch 3:  Validation accurancy : 0.5467999577522278, 1.6859118938446045\n",
      "Epoch 90, CIFAR-10 Batch 4:  Validation accurancy : 0.5449999570846558, 1.7585129737854004\n",
      "Epoch 90, CIFAR-10 Batch 5:  Validation accurancy : 0.5485999584197998, 1.7409110069274902\n",
      "Epoch 91, CIFAR-10 Batch 1:  Validation accurancy : 0.5595999360084534, 1.7116819620132446\n",
      "Epoch 91, CIFAR-10 Batch 2:  Validation accurancy : 0.546799898147583, 1.7711379528045654\n",
      "Epoch 91, CIFAR-10 Batch 3:  Validation accurancy : 0.5499999523162842, 1.673616647720337\n",
      "Epoch 91, CIFAR-10 Batch 4:  Validation accurancy : 0.5321999192237854, 1.7243605852127075\n",
      "Epoch 91, CIFAR-10 Batch 5:  Validation accurancy : 0.524399995803833, 1.8358001708984375\n",
      "Epoch 92, CIFAR-10 Batch 1:  Validation accurancy : 0.5043999552726746, 1.8603863716125488\n",
      "Epoch 92, CIFAR-10 Batch 2:  Validation accurancy : 0.5421999096870422, 1.7596473693847656\n",
      "Epoch 92, CIFAR-10 Batch 3:  Validation accurancy : 0.5469999313354492, 1.6749012470245361\n",
      "Epoch 92, CIFAR-10 Batch 4:  Validation accurancy : 0.548599898815155, 1.6841394901275635\n",
      "Epoch 92, CIFAR-10 Batch 5:  Validation accurancy : 0.5461999177932739, 1.7198798656463623\n",
      "Epoch 93, CIFAR-10 Batch 1:  Validation accurancy : 0.5573999285697937, 1.6850911378860474\n",
      "Epoch 93, CIFAR-10 Batch 2:  Validation accurancy : 0.5496000051498413, 1.7332892417907715\n",
      "Epoch 93, CIFAR-10 Batch 3:  Validation accurancy : 0.5585999488830566, 1.636046290397644\n",
      "Epoch 93, CIFAR-10 Batch 4:  Validation accurancy : 0.5583999156951904, 1.7114219665527344\n",
      "Epoch 93, CIFAR-10 Batch 5:  Validation accurancy : 0.5375999212265015, 1.7072914838790894\n",
      "Epoch 94, CIFAR-10 Batch 1:  Validation accurancy : 0.5565999746322632, 1.7615751028060913\n",
      "Epoch 94, CIFAR-10 Batch 2:  Validation accurancy : 0.5553999543190002, 1.7823715209960938\n",
      "Epoch 94, CIFAR-10 Batch 3:  Validation accurancy : 0.5441999435424805, 1.633557915687561\n",
      "Epoch 94, CIFAR-10 Batch 4:  Validation accurancy : 0.5353999137878418, 1.7392334938049316\n",
      "Epoch 94, CIFAR-10 Batch 5:  Validation accurancy : 0.5559999942779541, 1.7328593730926514\n",
      "Epoch 95, CIFAR-10 Batch 1:  Validation accurancy : 0.5413998961448669, 1.7506331205368042\n",
      "Epoch 95, CIFAR-10 Batch 2:  Validation accurancy : 0.5567999482154846, 1.7138768434524536\n",
      "Epoch 95, CIFAR-10 Batch 3:  Validation accurancy : 0.5327998995780945, 1.6464459896087646\n",
      "Epoch 95, CIFAR-10 Batch 4:  Validation accurancy : 0.5517999529838562, 1.750751256942749\n",
      "Epoch 95, CIFAR-10 Batch 5:  Validation accurancy : 0.5613999366760254, 1.754030466079712\n",
      "Epoch 96, CIFAR-10 Batch 1:  Validation accurancy : 0.5619999170303345, 1.6907105445861816\n",
      "Epoch 96, CIFAR-10 Batch 2:  Validation accurancy : 0.5481999516487122, 1.781172275543213\n",
      "Epoch 96, CIFAR-10 Batch 3:  Validation accurancy : 0.5465999841690063, 1.7099850177764893\n",
      "Epoch 96, CIFAR-10 Batch 4:  Validation accurancy : 0.5341999530792236, 1.7443360090255737\n",
      "Epoch 96, CIFAR-10 Batch 5:  Validation accurancy : 0.5601999163627625, 1.7332533597946167\n",
      "Epoch 97, CIFAR-10 Batch 1:  Validation accurancy : 0.5607998967170715, 1.6869816780090332\n",
      "Epoch 97, CIFAR-10 Batch 2:  Validation accurancy : 0.5559999346733093, 1.7263267040252686\n",
      "Epoch 97, CIFAR-10 Batch 3:  Validation accurancy : 0.5443999171257019, 1.661559820175171\n",
      "Epoch 97, CIFAR-10 Batch 4:  Validation accurancy : 0.5437999367713928, 1.687227725982666\n",
      "Epoch 97, CIFAR-10 Batch 5:  Validation accurancy : 0.5615999102592468, 1.759820580482483\n",
      "Epoch 98, CIFAR-10 Batch 1:  Validation accurancy : 0.5617998838424683, 1.6859978437423706\n",
      "Epoch 98, CIFAR-10 Batch 2:  Validation accurancy : 0.5583999752998352, 1.7429239749908447\n",
      "Epoch 98, CIFAR-10 Batch 3:  Validation accurancy : 0.561799943447113, 1.6615242958068848\n",
      "Epoch 98, CIFAR-10 Batch 4:  Validation accurancy : 0.5471999645233154, 1.7118160724639893\n",
      "Epoch 98, CIFAR-10 Batch 5:  Validation accurancy : 0.5501999258995056, 1.7112133502960205\n",
      "Epoch 99, CIFAR-10 Batch 1:  Validation accurancy : 0.5579999685287476, 1.7111248970031738\n",
      "Epoch 99, CIFAR-10 Batch 2:  Validation accurancy : 0.5579999089241028, 1.746011734008789\n",
      "Epoch 99, CIFAR-10 Batch 3:  Validation accurancy : 0.5583999156951904, 1.6629643440246582\n",
      "Epoch 99, CIFAR-10 Batch 4:  Validation accurancy : 0.5611999034881592, 1.7103677988052368\n",
      "Epoch 99, CIFAR-10 Batch 5:  Validation accurancy : 0.5483999252319336, 1.738513469696045\n",
      "Epoch 100, CIFAR-10 Batch 1:  Validation accurancy : 0.5603999495506287, 1.6862276792526245\n",
      "Epoch 100, CIFAR-10 Batch 2:  Validation accurancy : 0.5377998948097229, 1.759233832359314\n",
      "Epoch 100, CIFAR-10 Batch 3:  Validation accurancy : 0.5649999380111694, 1.6390399932861328\n",
      "Epoch 100, CIFAR-10 Batch 4:  Validation accurancy : 0.5413998961448669, 1.7622969150543213\n",
      "Epoch 100, CIFAR-10 Batch 5:  Validation accurancy : 0.5591999292373657, 1.735487937927246\n"
     ]
    }
   ],
   "source": [
    "\"\"\"\n",
    "DON'T MODIFY ANYTHING IN THIS CELL\n",
    "\"\"\"\n",
    "save_model_path = './image_classification'\n",
    "\n",
    "print('Training...')\n",
    "with tf.Session() as sess:\n",
    "    # Initializing the variables\n",
    "    sess.run(tf.global_variables_initializer())\n",
    "    \n",
    "    # Training cycle\n",
    "    for epoch in range(epochs):\n",
    "        # Loop over all batches\n",
    "        n_batches = 5\n",
    "        for batch_i in range(1, n_batches + 1):\n",
    "            for batch_features, batch_labels in helper.load_preprocess_training_batch(batch_i, batch_size):\n",
    "                train_neural_network(sess, optimizer, keep_probability, batch_features, batch_labels)\n",
    "            print('Epoch {:>2}, CIFAR-10 Batch {}:  '.format(epoch + 1, batch_i), end='')\n",
    "            print_stats(sess, batch_features, batch_labels, cost, accuracy)\n",
    "            \n",
    "    # Save Model\n",
    "    saver = tf.train.Saver()\n",
    "    save_path = saver.save(sess, save_model_path)"
   ]
  },
  {
   "cell_type": "markdown",
   "metadata": {
    "deletable": true,
    "editable": true
   },
   "source": [
    "# Checkpoint\n",
    "The model has been saved to disk.\n",
    "## Test Model\n",
    "Test your model against the test dataset.  This will be your final accuracy. You should have an accuracy greater than 50%. If you don't, keep tweaking the model architecture and parameters."
   ]
  },
  {
   "cell_type": "code",
   "execution_count": 14,
   "metadata": {
    "collapsed": false,
    "deletable": true,
    "editable": true
   },
   "outputs": [
    {
     "name": "stdout",
     "output_type": "stream",
     "text": [
      "Testing Accuracy: 0.56982421875\n",
      "\n"
     ]
    },
    {
     "data": {
      "image/png": "[encoded data removed]",
      "text/plain": [
       "<matplotlib.figure.Figure at 0x7efe6d8a5d68>"
      ]
     },
     "metadata": {
      "image/png": {
       "height": 319,
       "width": 355
      }
     },
     "output_type": "display_data"
    }
   ],
   "source": [
    "\"\"\"\n",
    "DON'T MODIFY ANYTHING IN THIS CELL\n",
    "\"\"\"\n",
    "%matplotlib inline\n",
    "%config InlineBackend.figure_format = 'retina'\n",
    "\n",
    "import tensorflow as tf\n",
    "import pickle\n",
    "import helper\n",
    "import random\n",
    "\n",
    "# Set batch size if not already set\n",
    "try:\n",
    "    if batch_size:\n",
    "        pass\n",
    "except NameError:\n",
    "    batch_size = 64\n",
    "\n",
    "save_model_path = './image_classification'\n",
    "n_samples = 4\n",
    "top_n_predictions = 3\n",
    "\n",
    "def test_model():\n",
    "    \"\"\"\n",
    "    Test the saved model against the test dataset\n",
    "    \"\"\"\n",
    "\n",
    "    test_features, test_labels = pickle.load(open('preprocess_training.p', mode='rb'))\n",
    "    loaded_graph = tf.Graph()\n",
    "\n",
    "    with tf.Session(graph=loaded_graph) as sess:\n",
    "        # Load model\n",
    "        loader = tf.train.import_meta_graph(save_model_path + '.meta')\n",
    "        loader.restore(sess, save_model_path)\n",
    "\n",
    "        # Get Tensors from loaded model\n",
    "        loaded_x = loaded_graph.get_tensor_by_name('x:0')\n",
    "        loaded_y = loaded_graph.get_tensor_by_name('y:0')\n",
    "        loaded_keep_prob = loaded_graph.get_tensor_by_name('keep_prob:0')\n",
    "        loaded_logits = loaded_graph.get_tensor_by_name('logits:0')\n",
    "        loaded_acc = loaded_graph.get_tensor_by_name('accuracy:0')\n",
    "        \n",
    "        # Get accuracy in batches for memory limitations\n",
    "        test_batch_acc_total = 0\n",
    "        test_batch_count = 0\n",
    "        \n",
    "        for train_feature_batch, train_label_batch in helper.batch_features_labels(test_features, test_labels, batch_size):\n",
    "            test_batch_acc_total += sess.run(\n",
    "                loaded_acc,\n",
    "                feed_dict={loaded_x: train_feature_batch, loaded_y: train_label_batch, loaded_keep_prob: 1.0})\n",
    "            test_batch_count += 1\n",
    "\n",
    "        print('Testing Accuracy: {}\\n'.format(test_batch_acc_total/test_batch_count))\n",
    "\n",
    "        # Print Random Samples\n",
    "        random_test_features, random_test_labels = tuple(zip(*random.sample(list(zip(test_features, test_labels)), n_samples)))\n",
    "        random_test_predictions = sess.run(\n",
    "            tf.nn.top_k(tf.nn.softmax(loaded_logits), top_n_predictions),\n",
    "            feed_dict={loaded_x: random_test_features, loaded_y: random_test_labels, loaded_keep_prob: 1.0})\n",
    "        helper.display_image_predictions(random_test_features, random_test_labels, random_test_predictions)\n",
    "\n",
    "\n",
    "test_model()"
   ]
  },
  {
   "cell_type": "markdown",
   "metadata": {
    "deletable": true,
    "editable": true
   },
   "source": [
    "## Why 50-70% Accuracy?\n",
    "You might be wondering why you can't get an accuracy any higher. First things first, 50% isn't bad for a simple CNN.  Pure guessing would get you 10% accuracy. However, you might notice people are getting scores [well above 70%](http://rodrigob.github.io/are_we_there_yet/build/classification_datasets_results.html#43494641522d3130).  That's because we haven't taught you all there is to know about neural networks. We still need to cover a few more techniques.\n",
    "## Submitting This Project\n",
    "When submitting this project, make sure to run all the cells before saving the notebook.  Save the notebook file as \"dlnd_image_classification.ipynb\" and save it as a HTML file under \"File\" -> \"Download as\".  Include the \"helper.py\" and \"problem_unittests.py\" files in your submission."
   ]
  }
 ],
 "metadata": {
  "kernelspec": {
   "display_name": "Python 3",
   "language": "python",
   "name": "python3"
  },
  "language_info": {
   "codemirror_mode": {
    "name": "ipython",
    "version": 3
   },
   "file_extension": ".py",
   "mimetype": "text/x-python",
   "name": "python",
   "nbconvert_exporter": "python",
   "pygments_lexer": "ipython3",
   "version": "3.5.2"
  },
  "widgets": {
   "state": {},
   "version": "1.1.2"
  }
 },
 "nbformat": 4,
 "nbformat_minor": 0
}
