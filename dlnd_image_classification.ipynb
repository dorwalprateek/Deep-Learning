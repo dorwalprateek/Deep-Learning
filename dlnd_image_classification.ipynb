{
 "cells": [
  {
   "cell_type": "markdown",
   "metadata": {
    "collapsed": true,
    "deletable": true,
    "editable": true
   },
   "source": [
    "# Image Classification\n",
    "In this project, you'll classify images from the [CIFAR-10 dataset](https://www.cs.toronto.edu/~kriz/cifar.html).  The dataset consists of airplanes, dogs, cats, and other objects. You'll preprocess the images, then train a convolutional neural network on all the samples. The images need to be normalized and the labels need to be one-hot encoded.  You'll get to apply what you learned and build a convolutional, max pooling, dropout, and fully connected layers.  At the end, you'll get to see your neural network's predictions on the sample images.\n",
    "## Get the Data\n",
    "Run the following cell to download the [CIFAR-10 dataset for python](https://www.cs.toronto.edu/~kriz/cifar-10-python.tar.gz)."
   ]
  },
  {
   "cell_type": "code",
   "execution_count": 1,
   "metadata": {
    "collapsed": false,
    "deletable": true,
    "editable": true
   },
   "outputs": [
    {
     "name": "stderr",
     "output_type": "stream",
     "text": [
      "CIFAR-10 Dataset: 171MB [00:31, 5.42MB/s]                              \n"
     ]
    },
    {
     "name": "stdout",
     "output_type": "stream",
     "text": [
      "All files found!\n"
     ]
    }
   ],
   "source": [
    "\"\"\"\n",
    "DON'T MODIFY ANYTHING IN THIS CELL THAT IS BELOW THIS LINE\n",
    "\"\"\"\n",
    "from urllib.request import urlretrieve\n",
    "from os.path import isfile, isdir\n",
    "from tqdm import tqdm\n",
    "import problem_unittests as tests\n",
    "import tarfile\n",
    "\n",
    "cifar10_dataset_folder_path = 'cifar-10-batches-py'\n",
    "\n",
    "class DLProgress(tqdm):\n",
    "    last_block = 0\n",
    "\n",
    "    def hook(self, block_num=1, block_size=1, total_size=None):\n",
    "        self.total = total_size\n",
    "        self.update((block_num - self.last_block) * block_size)\n",
    "        self.last_block = block_num\n",
    "\n",
    "if not isfile('cifar-10-python.tar.gz'):\n",
    "    with DLProgress(unit='B', unit_scale=True, miniters=1, desc='CIFAR-10 Dataset') as pbar:\n",
    "        urlretrieve(\n",
    "            'https://www.cs.toronto.edu/~kriz/cifar-10-python.tar.gz',\n",
    "            'cifar-10-python.tar.gz',\n",
    "            pbar.hook)\n",
    "\n",
    "if not isdir(cifar10_dataset_folder_path):\n",
    "    with tarfile.open('cifar-10-python.tar.gz') as tar:\n",
    "        tar.extractall()\n",
    "        tar.close()\n",
    "\n",
    "\n",
    "tests.test_folder_path(cifar10_dataset_folder_path)"
   ]
  },
  {
   "cell_type": "markdown",
   "metadata": {
    "deletable": true,
    "editable": true
   },
   "source": [
    "## Explore the Data\n",
    "The dataset is broken into batches to prevent your machine from running out of memory.  The CIFAR-10 dataset consists of 5 batches, named `data_batch_1`, `data_batch_2`, etc.. Each batch contains the labels and images that are one of the following:\n",
    "* airplane\n",
    "* automobile\n",
    "* bird\n",
    "* cat\n",
    "* deer\n",
    "* dog\n",
    "* frog\n",
    "* horse\n",
    "* ship\n",
    "* truck\n",
    "\n",
    "Understanding a dataset is part of making predictions on the data.  Play around with the code cell below by changing the `batch_id` and `sample_id`. The `batch_id` is the id for a batch (1-5). The `sample_id` is the id for a image and label pair in the batch.\n",
    "\n",
    "Ask yourself \"What are all possible labels?\", \"What is the range of values for the image data?\", \"Are the labels in order or random?\".  Answers to questions like these will help you preprocess the data and end up with better predictions."
   ]
  },
  {
   "cell_type": "code",
   "execution_count": 3,
   "metadata": {
    "collapsed": false,
    "deletable": true,
    "editable": true
   },
   "outputs": [
    {
     "name": "stdout",
     "output_type": "stream",
     "text": [
      "\n",
      "Stats of batch 1:\n",
      "Samples: 10000\n",
      "Label Counts: {0: 1005, 1: 974, 2: 1032, 3: 1016, 4: 999, 5: 937, 6: 1030, 7: 1001, 8: 1025, 9: 981}\n",
      "First 20 Labels: [6, 9, 9, 4, 1, 1, 2, 7, 8, 3, 4, 7, 7, 2, 9, 9, 9, 3, 2, 6]\n",
      "\n",
      "Example of Image 9999:\n",
      "Image - Min Value: 4 Max Value: 252\n",
      "Image - Shape: (32, 32, 3)\n",
      "Label - Label Id: 5 Name: dog\n"
     ]
    },
    {
     "data": {
      "image/png": "[encoded data removed]",
      "text/plain": [
       "<matplotlib.figure.Figure at 0x7f8d9b5d24a8>"
      ]
     },
     "metadata": {
      "image/png": {
       "height": 250,
       "width": 253
      }
     },
     "output_type": "display_data"
    }
   ],
   "source": [
    "%matplotlib inline\n",
    "%config InlineBackend.figure_format = 'retina'\n",
    "\n",
    "import helper\n",
    "import numpy as np\n",
    "\n",
    "# Explore the dataset\n",
    "batch_id = 1\n",
    "sample_id = 9999\n",
    "helper.display_stats(cifar10_dataset_folder_path, batch_id, sample_id)"
   ]
  },
  {
   "cell_type": "markdown",
   "metadata": {
    "deletable": true,
    "editable": true
   },
   "source": [
    "## Implement Preprocess Functions\n",
    "### Normalize\n",
    "In the cell below, implement the `normalize` function to take in image data, `x`, and return it as a normalized Numpy array. The values should be in the range of 0 to 1, inclusive.  The return object should be the same shape as `x`."
   ]
  },
  {
   "cell_type": "code",
   "execution_count": 15,
   "metadata": {
    "collapsed": false,
    "deletable": true,
    "editable": true
   },
   "outputs": [
    {
     "name": "stdout",
     "output_type": "stream",
     "text": [
      "Tests Passed\n"
     ]
    }
   ],
   "source": [
    "def normalize(x):\n",
    "    \"\"\"\n",
    "    Normalize a list of sample image data in the range of 0 to 1\n",
    "    : x: List of image data.  The image shape is (32, 32, 3)\n",
    "    : return: Numpy array of normalize data\n",
    "    \"\"\"\n",
    "    # TODO: Implement Function\n",
    "    a = 0.0\n",
    "    b = 1.0\n",
    "    grayscale_min = 0\n",
    "    grayscale_max = 255\n",
    "    return a + ( ( (x - grayscale_min)*(b - a) )/( grayscale_max - grayscale_min ) )\n",
    "    \n",
    "\n",
    "\n",
    "\"\"\"\n",
    "DON'T MODIFY ANYTHING IN THIS CELL THAT IS BELOW THIS LINE\n",
    "\"\"\"\n",
    "tests.test_normalize(normalize)"
   ]
  },
  {
   "cell_type": "markdown",
   "metadata": {
    "deletable": true,
    "editable": true
   },
   "source": [
    "### One-hot encode\n",
    "Just like the previous code cell, you'll be implementing a function for preprocessing.  This time, you'll implement the `one_hot_encode` function. The input, `x`, are a list of labels.  Implement the function to return the list of labels as One-Hot encoded Numpy array.  The possible values for labels are 0 to 9. The one-hot encoding function should return the same encoding for each value between each call to `one_hot_encode`.  Make sure to save the map of encodings outside the function.\n",
    "\n",
    "Hint: Don't reinvent the wheel."
   ]
  },
  {
   "cell_type": "code",
   "execution_count": 16,
   "metadata": {
    "collapsed": false,
    "deletable": true,
    "editable": true
   },
   "outputs": [
    {
     "name": "stdout",
     "output_type": "stream",
     "text": [
      "Tests Passed\n"
     ]
    }
   ],
   "source": [
    "from sklearn.preprocessing import OneHotEncoder, MultiLabelBinarizer, LabelBinarizer\n",
    "enc = LabelBinarizer()\n",
    "enc.fit(range(10))\n",
    "    \n",
    "def one_hot_encode(x):\n",
    "    \"\"\"\n",
    "    One hot encode a list of sample labels. Return a one-hot encoded vector for each label.\n",
    "    : x: List of sample Labels\n",
    "    : return: Numpy array of one-hot encoded labels\n",
    "    \"\"\"\n",
    "    # TODO: Implement Function\n",
    "    \n",
    "    return enc.transform(x)\n",
    "\n",
    "\n",
    "\"\"\"\n",
    "DON'T MODIFY ANYTHING IN THIS CELL THAT IS BELOW THIS LINE\n",
    "\"\"\"\n",
    "tests.test_one_hot_encode(one_hot_encode)"
   ]
  },
  {
   "cell_type": "markdown",
   "metadata": {
    "deletable": true,
    "editable": true
   },
   "source": [
    "### Randomize Data\n",
    "As you saw from exploring the data above, the order of the samples are randomized.  It doesn't hurt to randomize it again, but you don't need to for this dataset."
   ]
  },
  {
   "cell_type": "markdown",
   "metadata": {
    "deletable": true,
    "editable": true
   },
   "source": [
    "## Preprocess all the data and save it\n",
    "Running the code cell below will preprocess all the CIFAR-10 data and save it to file. The code below also uses 10% of the training data for validation."
   ]
  },
  {
   "cell_type": "code",
   "execution_count": 17,
   "metadata": {
    "collapsed": false,
    "deletable": true,
    "editable": true
   },
   "outputs": [],
   "source": [
    "\"\"\"\n",
    "DON'T MODIFY ANYTHING IN THIS CELL\n",
    "\"\"\"\n",
    "# Preprocess Training, Validation, and Testing Data\n",
    "helper.preprocess_and_save_data(cifar10_dataset_folder_path, normalize, one_hot_encode)"
   ]
  },
  {
   "cell_type": "markdown",
   "metadata": {
    "deletable": true,
    "editable": true
   },
   "source": [
    "# Check Point\n",
    "This is your first checkpoint.  If you ever decide to come back to this notebook or have to restart the notebook, you can start from here.  The preprocessed data has been saved to disk."
   ]
  },
  {
   "cell_type": "code",
   "execution_count": 1,
   "metadata": {
    "collapsed": true,
    "deletable": true,
    "editable": true
   },
   "outputs": [],
   "source": [
    "\"\"\"\n",
    "DON'T MODIFY ANYTHING IN THIS CELL\n",
    "\"\"\"\n",
    "import pickle\n",
    "import problem_unittests as tests\n",
    "import helper\n",
    "\n",
    "# Load the Preprocessed Validation data\n",
    "valid_features, valid_labels = pickle.load(open('preprocess_validation.p', mode='rb'))"
   ]
  },
  {
   "cell_type": "markdown",
   "metadata": {
    "deletable": true,
    "editable": true
   },
   "source": [
    "## Build the network\n",
    "For the neural network, you'll build each layer into a function.  Most of the code you've seen has been outside of functions. To test your code more thoroughly, we require that you put each layer in a function.  This allows us to give you better feedback and test for simple mistakes using our unittests before you submit your project.\n",
    "\n",
    ">**Note:** If you're finding it hard to dedicate enough time for this course each week, we've provided a small shortcut to this part of the project. In the next couple of problems, you'll have the option to use classes from the [TensorFlow Layers](https://www.tensorflow.org/api_docs/python/tf/layers) or [TensorFlow Layers (contrib)](https://www.tensorflow.org/api_guides/python/contrib.layers) packages to build each layer, except the layers you build in the \"Convolutional and Max Pooling Layer\" section.  TF Layers is similar to Keras's and TFLearn's abstraction to layers, so it's easy to pickup.\n",
    "\n",
    ">However, if you would like to get the most out of this course, try to solve all the problems _without_ using anything from the TF Layers packages. You **can** still use classes from other packages that happen to have the same name as ones you find in TF Layers! For example, instead of using the TF Layers version of the `conv2d` class, [tf.layers.conv2d](https://www.tensorflow.org/api_docs/python/tf/layers/conv2d), you would want to use the TF Neural Network version of `conv2d`, [tf.nn.conv2d](https://www.tensorflow.org/api_docs/python/tf/nn/conv2d). \n",
    "\n",
    "Let's begin!\n",
    "\n",
    "### Input\n",
    "The neural network needs to read the image data, one-hot encoded labels, and dropout keep probability. Implement the following functions\n",
    "* Implement `neural_net_image_input`\n",
    " * Return a [TF Placeholder](https://www.tensorflow.org/api_docs/python/tf/placeholder)\n",
    " * Set the shape using `image_shape` with batch size set to `None`.\n",
    " * Name the TensorFlow placeholder \"x\" using the TensorFlow `name` parameter in the [TF Placeholder](https://www.tensorflow.org/api_docs/python/tf/placeholder).\n",
    "* Implement `neural_net_label_input`\n",
    " * Return a [TF Placeholder](https://www.tensorflow.org/api_docs/python/tf/placeholder)\n",
    " * Set the shape using `n_classes` with batch size set to `None`.\n",
    " * Name the TensorFlow placeholder \"y\" using the TensorFlow `name` parameter in the [TF Placeholder](https://www.tensorflow.org/api_docs/python/tf/placeholder).\n",
    "* Implement `neural_net_keep_prob_input`\n",
    " * Return a [TF Placeholder](https://www.tensorflow.org/api_docs/python/tf/placeholder) for dropout keep probability.\n",
    " * Name the TensorFlow placeholder \"keep_prob\" using the TensorFlow `name` parameter in the [TF Placeholder](https://www.tensorflow.org/api_docs/python/tf/placeholder).\n",
    "\n",
    "These names will be used at the end of the project to load your saved model.\n",
    "\n",
    "Note: `None` for shapes in TensorFlow allow for a dynamic size."
   ]
  },
  {
   "cell_type": "code",
   "execution_count": 2,
   "metadata": {
    "collapsed": false,
    "deletable": true,
    "editable": true
   },
   "outputs": [
    {
     "name": "stdout",
     "output_type": "stream",
     "text": [
      "Image Input Tests Passed.\n",
      "Label Input Tests Passed.\n",
      "Keep Prob Tests Passed.\n"
     ]
    }
   ],
   "source": [
    "import tensorflow as tf\n",
    "\n",
    "def neural_net_image_input(image_shape):\n",
    "    \"\"\"\n",
    "    Return a Tensor for a bach of image input\n",
    "    : image_shape: Shape of the images\n",
    "    : return: Tensor for image input.\n",
    "    \"\"\"\n",
    "    # TODO: Implement Function\n",
    "    x=tf.placeholder(tf.float32,shape=[None,*image_shape],name='x')\n",
    "    return x\n",
    "\n",
    "\n",
    "def neural_net_label_input(n_classes):\n",
    "    \"\"\"\n",
    "    Return a Tensor for a batch of label input\n",
    "    : n_classes: Number of classes\n",
    "    : return: Tensor for label input.\n",
    "    \"\"\"\n",
    "    # TODO: Implement Function\n",
    "    y=tf.placeholder(tf.float32,shape=(None,n_classes),name='y')\n",
    "    return y\n",
    "\n",
    "\n",
    "def neural_net_keep_prob_input():\n",
    "    \"\"\"\n",
    "    Return a Tensor for keep probability\n",
    "    : return: Tensor for keep probability.\n",
    "    \"\"\"\n",
    "    # TODO: Implement Function\n",
    "    keep_prob=tf.placeholder(tf.float32,name='keep_prob')\n",
    "    return keep_prob\n",
    "\n",
    "\n",
    "\"\"\"\n",
    "DON'T MODIFY ANYTHING IN THIS CELL THAT IS BELOW THIS LINE\n",
    "\"\"\"\n",
    "tf.reset_default_graph()\n",
    "tests.test_nn_image_inputs(neural_net_image_input)\n",
    "tests.test_nn_label_inputs(neural_net_label_input)\n",
    "tests.test_nn_keep_prob_inputs(neural_net_keep_prob_input)"
   ]
  },
  {
   "cell_type": "markdown",
   "metadata": {
    "deletable": true,
    "editable": true
   },
   "source": [
    "### Convolution and Max Pooling Layer\n",
    "Convolution layers have a lot of success with images. For this code cell, you should implement the function `conv2d_maxpool` to apply convolution then max pooling:\n",
    "* Create the weight and bias using `conv_ksize`, `conv_num_outputs` and the shape of `x_tensor`.\n",
    "* Apply a convolution to `x_tensor` using weight and `conv_strides`.\n",
    " * We recommend you use same padding, but you're welcome to use any padding.\n",
    "* Add bias\n",
    "* Add a nonlinear activation to the convolution.\n",
    "* Apply Max Pooling using `pool_ksize` and `pool_strides`.\n",
    " * We recommend you use same padding, but you're welcome to use any padding.\n",
    "\n",
    "**Note:** You **can't** use [TensorFlow Layers](https://www.tensorflow.org/api_docs/python/tf/layers) or [TensorFlow Layers (contrib)](https://www.tensorflow.org/api_guides/python/contrib.layers) for **this** layer, but you can still use TensorFlow's [Neural Network](https://www.tensorflow.org/api_docs/python/tf/nn) package. You may still use the shortcut option for all the **other** layers."
   ]
  },
  {
   "cell_type": "code",
   "execution_count": 3,
   "metadata": {
    "collapsed": false,
    "deletable": true,
    "editable": true
   },
   "outputs": [
    {
     "name": "stdout",
     "output_type": "stream",
     "text": [
      "Tests Passed\n"
     ]
    }
   ],
   "source": [
    "def conv2d_maxpool(x_tensor, conv_num_outputs, conv_ksize, conv_strides, pool_ksize, pool_strides):\n",
    "    \"\"\"\n",
    "    Apply convolution then max pooling to x_tensor\n",
    "    :param x_tensor: TensorFlow Tensor\n",
    "    :param conv_num_outputs: Number of outputs for the convolutional layer\n",
    "    :param conv_ksize: kernal size 2-D Tuple for the convolutional layer\n",
    "    :param conv_strides: Stride 2-D Tuple for convolution\n",
    "    :param pool_ksize: kernal size 2-D Tuple for pool\n",
    "    :param pool_strides: Stride 2-D Tuple for pool\n",
    "    : return: A tensor that represents convolution and max pooling of x_tensor\n",
    "    \"\"\"\n",
    "    # TODO: Implement Function\n",
    "    weight = tf.Variable(tf.truncated_normal([*conv_ksize,x_tensor.shape[3].value,conv_num_outputs], stddev=0.05))\n",
    "    bias = tf.Variable(tf.zeros(conv_num_outputs))\n",
    "    conv_layer = tf.nn.conv2d(x_tensor, weight, strides=[1,conv_strides[0],conv_strides[1],1], padding='SAME')\n",
    "    conv_layer = tf.nn.bias_add(conv_layer, bias)\n",
    "    conv_layer = tf.nn.relu(conv_layer)\n",
    "    conv_layer = tf.nn.max_pool(conv_layer,ksize=[1,pool_ksize[0],pool_ksize[1],1],\n",
    "                               strides=[1,pool_strides[0],pool_strides[1],1],\n",
    "                               padding='SAME')\n",
    "    return conv_layer \n",
    "\n",
    "\n",
    "\"\"\"\n",
    "DON'T MODIFY ANYTHING IN THIS CELL THAT IS BELOW THIS LINE\n",
    "\"\"\"\n",
    "tests.test_con_pool(conv2d_maxpool)"
   ]
  },
  {
   "cell_type": "markdown",
   "metadata": {
    "deletable": true,
    "editable": true
   },
   "source": [
    "### Flatten Layer\n",
    "Implement the `flatten` function to change the dimension of `x_tensor` from a 4-D tensor to a 2-D tensor.  The output should be the shape (*Batch Size*, *Flattened Image Size*). Shortcut option: you can use classes from the [TensorFlow Layers](https://www.tensorflow.org/api_docs/python/tf/layers) or [TensorFlow Layers (contrib)](https://www.tensorflow.org/api_guides/python/contrib.layers) packages for this layer. For more of a challenge, only use other TensorFlow packages."
   ]
  },
  {
   "cell_type": "code",
   "execution_count": 4,
   "metadata": {
    "collapsed": false,
    "deletable": true,
    "editable": true
   },
   "outputs": [
    {
     "name": "stdout",
     "output_type": "stream",
     "text": [
      "Tests Passed\n"
     ]
    }
   ],
   "source": [
    "def flatten(x_tensor):\n",
    "    \"\"\"\n",
    "    Flatten x_tensor to (Batch Size, Flattened Image Size)\n",
    "    : x_tensor: A tensor of size (Batch Size, ...), where ... are the image dimensions.\n",
    "    : return: A tensor of size (Batch Size, Flattened Image Size).\n",
    "    \"\"\"\n",
    "    # TODO: Implement Function\n",
    "    #import numpy as np\n",
    "    #shape = x_tensor.get_shape().as_list()\n",
    "    #dim = np.prod(shape[1:])\n",
    "    #return tf.reshape(x_tensor,[-1,dim])\n",
    "    return tf.contrib.layers.flatten(x_tensor)\n",
    "\n",
    "\n",
    "\"\"\"\n",
    "DON'T MODIFY ANYTHING IN THIS CELL THAT IS BELOW THIS LINE\n",
    "\"\"\"\n",
    "tests.test_flatten(flatten)"
   ]
  },
  {
   "cell_type": "markdown",
   "metadata": {
    "deletable": true,
    "editable": true
   },
   "source": [
    "### Fully-Connected Layer\n",
    "Implement the `fully_conn` function to apply a fully connected layer to `x_tensor` with the shape (*Batch Size*, *num_outputs*). Shortcut option: you can use classes from the [TensorFlow Layers](https://www.tensorflow.org/api_docs/python/tf/layers) or [TensorFlow Layers (contrib)](https://www.tensorflow.org/api_guides/python/contrib.layers) packages for this layer. For more of a challenge, only use other TensorFlow packages."
   ]
  },
  {
   "cell_type": "code",
   "execution_count": 5,
   "metadata": {
    "collapsed": false,
    "deletable": true,
    "editable": true
   },
   "outputs": [
    {
     "name": "stdout",
     "output_type": "stream",
     "text": [
      "Tests Passed\n"
     ]
    }
   ],
   "source": [
    "def fully_conn(x_tensor, num_outputs):\n",
    "    \"\"\"\n",
    "    Apply a fully connected layer to x_tensor using weight and bias\n",
    "    : x_tensor: A 2-D tensor where the first dimension is batch size.\n",
    "    : num_outputs: The number of output that the new tensor should be.\n",
    "    : return: A 2-D tensor where the second dimension is num_outputs.\n",
    "    \"\"\"\n",
    "    # TODO: Implement Function\n",
    "    #layer = tf.contrib.layers.fully_connected(inputs = x_tensor, num_outputs=num_outputs)\n",
    "    \n",
    "    datasize = x_tensor.get_shape().as_list()[1]\n",
    "    weight = tf.Variable(tf.truncated_normal([datasize, num_outputs],stddev=0.05))\n",
    "    bias = tf.Variable(tf.zeros(num_outputs))\n",
    "    out = tf.add(tf.matmul(x_tensor, weight), bias)\n",
    "    out = tf.nn.relu(out)\n",
    "    return out\n",
    "    \n",
    "    \n",
    "\n",
    "\n",
    "\"\"\"\n",
    "DON'T MODIFY ANYTHING IN THIS CELL THAT IS BELOW THIS LINE\n",
    "\"\"\"\n",
    "tests.test_fully_conn(fully_conn)"
   ]
  },
  {
   "cell_type": "markdown",
   "metadata": {
    "deletable": true,
    "editable": true
   },
   "source": [
    "### Output Layer\n",
    "Implement the `output` function to apply a fully connected layer to `x_tensor` with the shape (*Batch Size*, *num_outputs*). Shortcut option: you can use classes from the [TensorFlow Layers](https://www.tensorflow.org/api_docs/python/tf/layers) or [TensorFlow Layers (contrib)](https://www.tensorflow.org/api_guides/python/contrib.layers) packages for this layer. For more of a challenge, only use other TensorFlow packages.\n",
    "\n",
    "**Note:** Activation, softmax, or cross entropy should **not** be applied to this."
   ]
  },
  {
   "cell_type": "code",
   "execution_count": 6,
   "metadata": {
    "collapsed": false,
    "deletable": true,
    "editable": true
   },
   "outputs": [
    {
     "name": "stdout",
     "output_type": "stream",
     "text": [
      "Tests Passed\n"
     ]
    }
   ],
   "source": [
    "def output(x_tensor, num_outputs):\n",
    "    \"\"\"\n",
    "    Apply a output layer to x_tensor using weight and bias\n",
    "    : x_tensor: A 2-D tensor where the first dimension is batch size.\n",
    "    : num_outputs: The number of output that the new tensor should be.\n",
    "    : return: A 2-D tensor where the second dimension is num_outputs.\n",
    "    \"\"\"\n",
    "    # TODO: Implement Function\n",
    "    size = x_tensor.get_shape().as_list()\n",
    "    weights = tf.Variable(tf.truncated_normal((size[1], num_outputs), stddev=0.05))\n",
    "    bias = tf.Variable(tf.zeros(num_outputs))\n",
    "    out = tf.add(tf.matmul(x_tensor, weights), bias)\n",
    "    #out = tf.nn.softmax(dense)\n",
    "    return out\n",
    "\n",
    "\n",
    "\"\"\"\n",
    "DON'T MODIFY ANYTHING IN THIS CELL THAT IS BELOW THIS LINE\n",
    "\"\"\"\n",
    "tests.test_output(output)"
   ]
  },
  {
   "cell_type": "markdown",
   "metadata": {
    "deletable": true,
    "editable": true
   },
   "source": [
    "### Create Convolutional Model\n",
    "Implement the function `conv_net` to create a convolutional neural network model. The function takes in a batch of images, `x`, and outputs logits.  Use the layers you created above to create this model:\n",
    "\n",
    "* Apply 1, 2, or 3 Convolution and Max Pool layers\n",
    "* Apply a Flatten Layer\n",
    "* Apply 1, 2, or 3 Fully Connected Layers\n",
    "* Apply an Output Layer\n",
    "* Return the output\n",
    "* Apply [TensorFlow's Dropout](https://www.tensorflow.org/api_docs/python/tf/nn/dropout) to one or more layers in the model using `keep_prob`. "
   ]
  },
  {
   "cell_type": "code",
   "execution_count": 7,
   "metadata": {
    "collapsed": false,
    "deletable": true,
    "editable": true
   },
   "outputs": [
    {
     "name": "stdout",
     "output_type": "stream",
     "text": [
      "Neural Network Built!\n"
     ]
    }
   ],
   "source": [
    "def conv_net(x, keep_prob):\n",
    "    \"\"\"\n",
    "    Create a convolutional neural network model\n",
    "    : x: Placeholder tensor that holds image data.\n",
    "    : keep_prob: Placeholder tensor that hold dropout keep probability.\n",
    "    : return: Tensor that represents logits\n",
    "    \"\"\"\n",
    "    # TODO: Apply 1, 2, or 3 Convolution and Max Pool layers\n",
    "    #    Play around with different number of outputs, kernel size and stride\n",
    "    # Function Definition from Above:\n",
    "\n",
    "    \n",
    "    conv=conv2d_maxpool(x,10,(3,3),(1,1),(2,2),(2,2))\n",
    "    conv=conv2d_maxpool(conv,20,(3,3),(1,1),(2,2),(2,2))\n",
    "    conv=conv2d_maxpool(conv,40,(3,3),(1,1),(2,2),(2,2))\n",
    "    \n",
    "\n",
    "    # TODO: Apply a Flatten Layer\n",
    "    # Function Definition from Above:\n",
    "    conv = flatten(conv)\n",
    "    \n",
    "\n",
    "    # TODO: Apply 1, 2, or 3 Fully Connected Layers\n",
    "    #    Play around with different number of outputs\n",
    "    # Function Definition from Above:\n",
    "    conv = fully_conn(conv, 64)\n",
    "    conv = fully_conn(conv, 64)\n",
    "    conv = fully_conn(conv, 20)\n",
    "    conv = tf.nn.dropout(conv, keep_prob)\n",
    "    \n",
    "    \n",
    "    # TODO: Apply an Output Layer\n",
    "    #    Set this to the number of classes\n",
    "    # Function Definition from Above:\n",
    "    conv = output(conv, 10)\n",
    "    \n",
    "    \n",
    "    # TODO: return output\n",
    "    return conv\n",
    "\n",
    "\n",
    "\"\"\"\n",
    "DON'T MODIFY ANYTHING IN THIS CELL THAT IS BELOW THIS LINE\n",
    "\"\"\"\n",
    "\n",
    "##############################\n",
    "## Build the Neural Network ##\n",
    "##############################\n",
    "\n",
    "# Remove previous weights, bias, inputs, etc..\n",
    "tf.reset_default_graph()\n",
    "\n",
    "# Inputs\n",
    "x = neural_net_image_input((32, 32, 3))\n",
    "y = neural_net_label_input(10)\n",
    "keep_prob = neural_net_keep_prob_input()\n",
    "\n",
    "# Model\n",
    "logits = conv_net(x, keep_prob)\n",
    "\n",
    "# Name logits Tensor, so that is can be loaded from disk after training\n",
    "logits = tf.identity(logits, name='logits')\n",
    "\n",
    "# Loss and Optimizer\n",
    "cost = tf.reduce_mean(tf.nn.softmax_cross_entropy_with_logits(logits=logits, labels=y))\n",
    "optimizer = tf.train.AdamOptimizer().minimize(cost)\n",
    "\n",
    "# Accuracy\n",
    "correct_pred = tf.equal(tf.argmax(logits, 1), tf.argmax(y, 1))\n",
    "accuracy = tf.reduce_mean(tf.cast(correct_pred, tf.float32), name='accuracy')\n",
    "\n",
    "tests.test_conv_net(conv_net)"
   ]
  },
  {
   "cell_type": "markdown",
   "metadata": {
    "deletable": true,
    "editable": true
   },
   "source": [
    "## Train the Neural Network\n",
    "### Single Optimization\n",
    "Implement the function `train_neural_network` to do a single optimization.  The optimization should use `optimizer` to optimize in `session` with a `feed_dict` of the following:\n",
    "* `x` for image input\n",
    "* `y` for labels\n",
    "* `keep_prob` for keep probability for dropout\n",
    "\n",
    "This function will be called for each batch, so `tf.global_variables_initializer()` has already been called.\n",
    "\n",
    "Note: Nothing needs to be returned. This function is only optimizing the neural network."
   ]
  },
  {
   "cell_type": "code",
   "execution_count": 8,
   "metadata": {
    "collapsed": false,
    "deletable": true,
    "editable": true
   },
   "outputs": [
    {
     "name": "stdout",
     "output_type": "stream",
     "text": [
      "Tests Passed\n"
     ]
    }
   ],
   "source": [
    "def train_neural_network(session, optimizer, keep_probability, feature_batch, label_batch):\n",
    "    \"\"\"\n",
    "    Optimize the session on a batch of images and labels\n",
    "    : session: Current TensorFlow session\n",
    "    : optimizer: TensorFlow optimizer function\n",
    "    : keep_probability: keep probability\n",
    "    : feature_batch: Batch of Numpy image data\n",
    "    : label_batch: Batch of Numpy label data\n",
    "    \"\"\"\n",
    "    # TODO: Implement Function\n",
    "    session.run(optimizer, feed_dict={x: feature_batch, y: label_batch, keep_prob: keep_probability})\n",
    "\n",
    "\n",
    "\"\"\"\n",
    "DON'T MODIFY ANYTHING IN THIS CELL THAT IS BELOW THIS LINE\n",
    "\"\"\"\n",
    "tests.test_train_nn(train_neural_network)"
   ]
  },
  {
   "cell_type": "markdown",
   "metadata": {
    "deletable": true,
    "editable": true
   },
   "source": [
    "### Show Stats\n",
    "Implement the function `print_stats` to print loss and validation accuracy.  Use the global variables `valid_features` and `valid_labels` to calculate validation accuracy.  Use a keep probability of `1.0` to calculate the loss and validation accuracy."
   ]
  },
  {
   "cell_type": "code",
   "execution_count": 9,
   "metadata": {
    "collapsed": false,
    "deletable": true,
    "editable": true
   },
   "outputs": [],
   "source": [
    "def print_stats(session, feature_batch, label_batch, cost, accuracy):\n",
    "    \"\"\"\n",
    "    Print information about loss and validation accuracy\n",
    "    : session: Current TensorFlow session\n",
    "    : feature_batch: Batch of Numpy image data\n",
    "    : label_batch: Batch of Numpy label data\n",
    "    : cost: TensorFlow cost function\n",
    "    : accuracy: TensorFlow accuracy function\n",
    "    \"\"\"\n",
    "    # TODO: Implement Function\n",
    "    validation_accuracy = session.run(accuracy, feed_dict={\n",
    "        x : valid_features,\n",
    "        y : valid_labels,\n",
    "        keep_prob:1.0}\n",
    "    )\n",
    "    loss = session.run(cost, feed_dict={\n",
    "        x : feature_batch,\n",
    "        y : label_batch,\n",
    "        keep_prob:1.0}\n",
    "    )\n",
    "    print(\"Validation accurancy : {}, {}\".format(validation_accuracy, loss))"
   ]
  },
  {
   "cell_type": "markdown",
   "metadata": {
    "deletable": true,
    "editable": true
   },
   "source": [
    "### Hyperparameters\n",
    "Tune the following parameters:\n",
    "* Set `epochs` to the number of iterations until the network stops learning or start overfitting\n",
    "* Set `batch_size` to the highest number that your machine has memory for.  Most people set them to common sizes of memory:\n",
    " * 64\n",
    " * 128\n",
    " * 256\n",
    " * ...\n",
    "* Set `keep_probability` to the probability of keeping a node using dropout"
   ]
  },
  {
   "cell_type": "code",
   "execution_count": 10,
   "metadata": {
    "collapsed": true,
    "deletable": true,
    "editable": true
   },
   "outputs": [],
   "source": [
    "# TODO: Tune Parameters\n",
    "epochs = 100\n",
    "batch_size = 256\n",
    "keep_probability = 0.5"
   ]
  },
  {
   "cell_type": "markdown",
   "metadata": {
    "deletable": true,
    "editable": true
   },
   "source": [
    "### Train on a Single CIFAR-10 Batch\n",
    "Instead of training the neural network on all the CIFAR-10 batches of data, let's use a single batch. This should save time while you iterate on the model to get a better accuracy.  Once the final validation accuracy is 50% or greater, run the model on all the data in the next section."
   ]
  },
  {
   "cell_type": "code",
   "execution_count": 11,
   "metadata": {
    "collapsed": false,
    "deletable": true,
    "editable": true
   },
   "outputs": [
    {
     "name": "stdout",
     "output_type": "stream",
     "text": [
      "Checking the Training on a Single Batch...\n",
      "Epoch  1, CIFAR-10 Batch 1:  Validation accurancy : 0.10499998927116394, 2.3000059127807617\n",
      "Epoch  2, CIFAR-10 Batch 1:  Validation accurancy : 0.22819997370243073, 2.2441320419311523\n",
      "Epoch  3, CIFAR-10 Batch 1:  Validation accurancy : 0.22360000014305115, 2.2168922424316406\n",
      "Epoch  4, CIFAR-10 Batch 1:  Validation accurancy : 0.23339997231960297, 2.1578245162963867\n",
      "Epoch  5, CIFAR-10 Batch 1:  Validation accurancy : 0.2441999912261963, 2.1565775871276855\n",
      "Epoch  6, CIFAR-10 Batch 1:  Validation accurancy : 0.2556000053882599, 2.154764413833618\n",
      "Epoch  7, CIFAR-10 Batch 1:  Validation accurancy : 0.2443999946117401, 2.166161060333252\n",
      "Epoch  8, CIFAR-10 Batch 1:  Validation accurancy : 0.2590000033378601, 2.1769421100616455\n",
      "Epoch  9, CIFAR-10 Batch 1:  Validation accurancy : 0.2637999951839447, 2.1759347915649414\n",
      "Epoch 10, CIFAR-10 Batch 1:  Validation accurancy : 0.26579999923706055, 2.1647582054138184\n",
      "Epoch 11, CIFAR-10 Batch 1:  Validation accurancy : 0.2727999687194824, 2.167367935180664\n",
      "Epoch 12, CIFAR-10 Batch 1:  Validation accurancy : 0.28139999508857727, 2.16083025932312\n",
      "Epoch 13, CIFAR-10 Batch 1:  Validation accurancy : 0.2773999869823456, 2.1214373111724854\n",
      "Epoch 14, CIFAR-10 Batch 1:  Validation accurancy : 0.30139997601509094, 2.0308139324188232\n",
      "Epoch 15, CIFAR-10 Batch 1:  Validation accurancy : 0.31039997935295105, 2.0017411708831787\n",
      "Epoch 16, CIFAR-10 Batch 1:  Validation accurancy : 0.3205999732017517, 1.9521965980529785\n",
      "Epoch 17, CIFAR-10 Batch 1:  Validation accurancy : 0.32260000705718994, 1.934929370880127\n",
      "Epoch 18, CIFAR-10 Batch 1:  Validation accurancy : 0.3253999948501587, 1.913874864578247\n",
      "Epoch 19, CIFAR-10 Batch 1:  Validation accurancy : 0.3333999812602997, 1.9043669700622559\n",
      "Epoch 20, CIFAR-10 Batch 1:  Validation accurancy : 0.3317999839782715, 1.8585057258605957\n",
      "Epoch 21, CIFAR-10 Batch 1:  Validation accurancy : 0.3449999988079071, 1.8688170909881592\n",
      "Epoch 22, CIFAR-10 Batch 1:  Validation accurancy : 0.34199994802474976, 1.8272284269332886\n",
      "Epoch 23, CIFAR-10 Batch 1:  Validation accurancy : 0.3471999764442444, 1.825378179550171\n",
      "Epoch 24, CIFAR-10 Batch 1:  Validation accurancy : 0.34519994258880615, 1.8142242431640625\n",
      "Epoch 25, CIFAR-10 Batch 1:  Validation accurancy : 0.36079996824264526, 1.847108006477356\n",
      "Epoch 26, CIFAR-10 Batch 1:  Validation accurancy : 0.37539997696876526, 1.7628788948059082\n",
      "Epoch 27, CIFAR-10 Batch 1:  Validation accurancy : 0.3585999608039856, 1.754767656326294\n",
      "Epoch 28, CIFAR-10 Batch 1:  Validation accurancy : 0.3717999756336212, 1.772817611694336\n",
      "Epoch 29, CIFAR-10 Batch 1:  Validation accurancy : 0.37459999322891235, 1.749219298362732\n",
      "Epoch 30, CIFAR-10 Batch 1:  Validation accurancy : 0.3781999945640564, 1.7175368070602417\n",
      "Epoch 31, CIFAR-10 Batch 1:  Validation accurancy : 0.3799999952316284, 1.7044366598129272\n",
      "Epoch 32, CIFAR-10 Batch 1:  Validation accurancy : 0.3898000121116638, 1.6902387142181396\n",
      "Epoch 33, CIFAR-10 Batch 1:  Validation accurancy : 0.3829999566078186, 1.6453077793121338\n",
      "Epoch 34, CIFAR-10 Batch 1:  Validation accurancy : 0.39980000257492065, 1.6681034564971924\n",
      "Epoch 35, CIFAR-10 Batch 1:  Validation accurancy : 0.3885999917984009, 1.6552391052246094\n",
      "Epoch 36, CIFAR-10 Batch 1:  Validation accurancy : 0.3806000053882599, 1.6559624671936035\n",
      "Epoch 37, CIFAR-10 Batch 1:  Validation accurancy : 0.3944000005722046, 1.593377947807312\n",
      "Epoch 38, CIFAR-10 Batch 1:  Validation accurancy : 0.3935999572277069, 1.574096441268921\n",
      "Epoch 39, CIFAR-10 Batch 1:  Validation accurancy : 0.40599995851516724, 1.5585033893585205\n",
      "Epoch 40, CIFAR-10 Batch 1:  Validation accurancy : 0.4071999788284302, 1.5349901914596558\n",
      "Epoch 41, CIFAR-10 Batch 1:  Validation accurancy : 0.417199969291687, 1.5120412111282349\n",
      "Epoch 42, CIFAR-10 Batch 1:  Validation accurancy : 0.4115999639034271, 1.5071382522583008\n",
      "Epoch 43, CIFAR-10 Batch 1:  Validation accurancy : 0.42239999771118164, 1.485812783241272\n",
      "Epoch 44, CIFAR-10 Batch 1:  Validation accurancy : 0.41279998421669006, 1.4615261554718018\n",
      "Epoch 45, CIFAR-10 Batch 1:  Validation accurancy : 0.4127999544143677, 1.4295812845230103\n",
      "Epoch 46, CIFAR-10 Batch 1:  Validation accurancy : 0.4275999367237091, 1.4241833686828613\n",
      "Epoch 47, CIFAR-10 Batch 1:  Validation accurancy : 0.41659995913505554, 1.4127154350280762\n",
      "Epoch 48, CIFAR-10 Batch 1:  Validation accurancy : 0.4129999876022339, 1.4017043113708496\n",
      "Epoch 49, CIFAR-10 Batch 1:  Validation accurancy : 0.43119996786117554, 1.3625608682632446\n",
      "Epoch 50, CIFAR-10 Batch 1:  Validation accurancy : 0.4245999753475189, 1.3848471641540527\n",
      "Epoch 51, CIFAR-10 Batch 1:  Validation accurancy : 0.4105999767780304, 1.380662441253662\n",
      "Epoch 52, CIFAR-10 Batch 1:  Validation accurancy : 0.39399999380111694, 1.4383323192596436\n",
      "Epoch 53, CIFAR-10 Batch 1:  Validation accurancy : 0.4399999678134918, 1.3292709589004517\n",
      "Epoch 54, CIFAR-10 Batch 1:  Validation accurancy : 0.4373999834060669, 1.310150146484375\n",
      "Epoch 55, CIFAR-10 Batch 1:  Validation accurancy : 0.41499996185302734, 1.3394635915756226\n",
      "Epoch 56, CIFAR-10 Batch 1:  Validation accurancy : 0.4083999693393707, 1.3386757373809814\n",
      "Epoch 57, CIFAR-10 Batch 1:  Validation accurancy : 0.42899996042251587, 1.2500636577606201\n",
      "Epoch 58, CIFAR-10 Batch 1:  Validation accurancy : 0.4437999725341797, 1.229068398475647\n",
      "Epoch 59, CIFAR-10 Batch 1:  Validation accurancy : 0.43919995427131653, 1.266767978668213\n",
      "Epoch 60, CIFAR-10 Batch 1:  Validation accurancy : 0.4511999487876892, 1.1963598728179932\n",
      "Epoch 61, CIFAR-10 Batch 1:  Validation accurancy : 0.44859999418258667, 1.1922218799591064\n",
      "Epoch 62, CIFAR-10 Batch 1:  Validation accurancy : 0.4521999657154083, 1.1655107736587524\n",
      "Epoch 63, CIFAR-10 Batch 1:  Validation accurancy : 0.4411999583244324, 1.177764654159546\n",
      "Epoch 64, CIFAR-10 Batch 1:  Validation accurancy : 0.4461999535560608, 1.1858714818954468\n",
      "Epoch 65, CIFAR-10 Batch 1:  Validation accurancy : 0.43839994072914124, 1.1853080987930298\n",
      "Epoch 66, CIFAR-10 Batch 1:  Validation accurancy : 0.4291999638080597, 1.207472562789917\n",
      "Epoch 67, CIFAR-10 Batch 1:  Validation accurancy : 0.44899997115135193, 1.1605337858200073\n",
      "Epoch 68, CIFAR-10 Batch 1:  Validation accurancy : 0.4511999487876892, 1.0968296527862549\n",
      "Epoch 69, CIFAR-10 Batch 1:  Validation accurancy : 0.4501999616622925, 1.0847508907318115\n",
      "Epoch 70, CIFAR-10 Batch 1:  Validation accurancy : 0.45899999141693115, 1.0831217765808105\n",
      "Epoch 71, CIFAR-10 Batch 1:  Validation accurancy : 0.4443999230861664, 1.065494179725647\n",
      "Epoch 72, CIFAR-10 Batch 1:  Validation accurancy : 0.4551999568939209, 1.040176272392273\n",
      "Epoch 73, CIFAR-10 Batch 1:  Validation accurancy : 0.4607999920845032, 1.0132827758789062\n",
      "Epoch 74, CIFAR-10 Batch 1:  Validation accurancy : 0.4633999764919281, 0.9962999820709229\n",
      "Epoch 75, CIFAR-10 Batch 1:  Validation accurancy : 0.4535999596118927, 0.9920977354049683\n",
      "Epoch 76, CIFAR-10 Batch 1:  Validation accurancy : 0.4575999975204468, 1.0155807733535767\n",
      "Epoch 77, CIFAR-10 Batch 1:  Validation accurancy : 0.44899997115135193, 1.053495168685913\n",
      "Epoch 78, CIFAR-10 Batch 1:  Validation accurancy : 0.45319998264312744, 0.9951937794685364\n",
      "Epoch 79, CIFAR-10 Batch 1:  Validation accurancy : 0.45239999890327454, 0.9749447107315063\n",
      "Epoch 80, CIFAR-10 Batch 1:  Validation accurancy : 0.4551999568939209, 0.9650044441223145\n",
      "Epoch 81, CIFAR-10 Batch 1:  Validation accurancy : 0.45739996433258057, 0.9609978199005127\n",
      "Epoch 82, CIFAR-10 Batch 1:  Validation accurancy : 0.4635999798774719, 0.9265606999397278\n",
      "Epoch 83, CIFAR-10 Batch 1:  Validation accurancy : 0.44679996371269226, 0.9712415933609009\n",
      "Epoch 84, CIFAR-10 Batch 1:  Validation accurancy : 0.4291999936103821, 1.0019111633300781\n",
      "Epoch 85, CIFAR-10 Batch 1:  Validation accurancy : 0.44739997386932373, 0.9379826784133911\n",
      "Epoch 86, CIFAR-10 Batch 1:  Validation accurancy : 0.45579993724823, 0.9181494116783142\n",
      "Epoch 87, CIFAR-10 Batch 1:  Validation accurancy : 0.4495999813079834, 0.9649626016616821\n",
      "Epoch 88, CIFAR-10 Batch 1:  Validation accurancy : 0.47179996967315674, 0.8931621313095093\n",
      "Epoch 89, CIFAR-10 Batch 1:  Validation accurancy : 0.4745999872684479, 0.8689814209938049\n",
      "Epoch 90, CIFAR-10 Batch 1:  Validation accurancy : 0.4811999797821045, 0.8675938248634338\n",
      "Epoch 91, CIFAR-10 Batch 1:  Validation accurancy : 0.47499996423721313, 0.8494524955749512\n",
      "Epoch 92, CIFAR-10 Batch 1:  Validation accurancy : 0.4569999575614929, 0.9232807159423828\n",
      "Epoch 93, CIFAR-10 Batch 1:  Validation accurancy : 0.4599999487400055, 0.8517807722091675\n",
      "Epoch 94, CIFAR-10 Batch 1:  Validation accurancy : 0.4585999548435211, 0.9295721054077148\n",
      "Epoch 95, CIFAR-10 Batch 1:  Validation accurancy : 0.47039994597435, 0.9407972097396851\n",
      "Epoch 96, CIFAR-10 Batch 1:  Validation accurancy : 0.4705999493598938, 0.9234780669212341\n",
      "Epoch 97, CIFAR-10 Batch 1:  Validation accurancy : 0.4675999581813812, 0.8381494879722595\n",
      "Epoch 98, CIFAR-10 Batch 1:  Validation accurancy : 0.47419995069503784, 0.8104509711265564\n",
      "Epoch 99, CIFAR-10 Batch 1:  Validation accurancy : 0.4913999140262604, 0.7801639437675476\n",
      "Epoch 100, CIFAR-10 Batch 1:  Validation accurancy : 0.47839993238449097, 0.7682722806930542\n"
     ]
    }
   ],
   "source": [
    "\"\"\"\n",
    "DON'T MODIFY ANYTHING IN THIS CELL\n",
    "\"\"\"\n",
    "print('Checking the Training on a Single Batch...')\n",
    "with tf.Session() as sess:\n",
    "    # Initializing the variables\n",
    "    sess.run(tf.global_variables_initializer())\n",
    "    \n",
    "    # Training cycle\n",
    "    for epoch in range(epochs):\n",
    "        batch_i = 1\n",
    "        for batch_features, batch_labels in helper.load_preprocess_training_batch(batch_i, batch_size):\n",
    "            train_neural_network(sess, optimizer, keep_probability, batch_features, batch_labels)\n",
    "        print('Epoch {:>2}, CIFAR-10 Batch {}:  '.format(epoch + 1, batch_i), end='')\n",
    "        print_stats(sess, batch_features, batch_labels, cost, accuracy)"
   ]
  },
  {
   "cell_type": "markdown",
   "metadata": {
    "deletable": true,
    "editable": true
   },
   "source": [
    "### Fully Train the Model\n",
    "Now that you got a good accuracy with a single CIFAR-10 batch, try it with all five batches."
   ]
  },
  {
   "cell_type": "code",
   "execution_count": 12,
   "metadata": {
    "collapsed": false,
    "deletable": true,
    "editable": true
   },
   "outputs": [
    {
     "name": "stdout",
     "output_type": "stream",
     "text": [
      "Training...\n",
      "Epoch  1, CIFAR-10 Batch 1:  Validation accurancy : 0.10299999266862869, 2.296989917755127\n",
      "Epoch  1, CIFAR-10 Batch 2:  Validation accurancy : 0.18779999017715454, 2.134166717529297\n",
      "Epoch  1, CIFAR-10 Batch 3:  Validation accurancy : 0.17919999361038208, 1.8656772375106812\n",
      "Epoch  1, CIFAR-10 Batch 4:  Validation accurancy : 0.21400000154972076, 1.9452115297317505\n",
      "Epoch  1, CIFAR-10 Batch 5:  Validation accurancy : 0.20919999480247498, 1.9283218383789062\n",
      "Epoch  2, CIFAR-10 Batch 1:  Validation accurancy : 0.24399998784065247, 2.0895862579345703\n",
      "Epoch  2, CIFAR-10 Batch 2:  Validation accurancy : 0.24899998307228088, 2.0577924251556396\n",
      "Epoch  2, CIFAR-10 Batch 3:  Validation accurancy : 0.24559998512268066, 1.796722173690796\n",
      "Epoch  2, CIFAR-10 Batch 4:  Validation accurancy : 0.25540000200271606, 1.8533132076263428\n",
      "Epoch  2, CIFAR-10 Batch 5:  Validation accurancy : 0.26479998230934143, 1.8432514667510986\n",
      "Epoch  3, CIFAR-10 Batch 1:  Validation accurancy : 0.303600013256073, 2.0361928939819336\n",
      "Epoch  3, CIFAR-10 Batch 2:  Validation accurancy : 0.29099997878074646, 1.9666111469268799\n",
      "Epoch  3, CIFAR-10 Batch 3:  Validation accurancy : 0.2865999937057495, 1.6618516445159912\n",
      "Epoch  3, CIFAR-10 Batch 4:  Validation accurancy : 0.2821999788284302, 1.7903473377227783\n",
      "Epoch  3, CIFAR-10 Batch 5:  Validation accurancy : 0.2947999835014343, 1.7272003889083862\n",
      "Epoch  4, CIFAR-10 Batch 1:  Validation accurancy : 0.323199987411499, 1.9647974967956543\n",
      "Epoch  4, CIFAR-10 Batch 2:  Validation accurancy : 0.3187999725341797, 1.8971192836761475\n",
      "Epoch  4, CIFAR-10 Batch 3:  Validation accurancy : 0.29840001463890076, 1.6241658926010132\n",
      "Epoch  4, CIFAR-10 Batch 4:  Validation accurancy : 0.31279999017715454, 1.7367357015609741\n",
      "Epoch  4, CIFAR-10 Batch 5:  Validation accurancy : 0.3219999670982361, 1.6971911191940308\n",
      "Epoch  5, CIFAR-10 Batch 1:  Validation accurancy : 0.3203999996185303, 1.957664966583252\n",
      "Epoch  5, CIFAR-10 Batch 2:  Validation accurancy : 0.3248000144958496, 1.8959252834320068\n",
      "Epoch  5, CIFAR-10 Batch 3:  Validation accurancy : 0.32659998536109924, 1.5534143447875977\n",
      "Epoch  5, CIFAR-10 Batch 4:  Validation accurancy : 0.34599995613098145, 1.7231438159942627\n",
      "Epoch  5, CIFAR-10 Batch 5:  Validation accurancy : 0.3341999650001526, 1.6439322233200073\n",
      "Epoch  6, CIFAR-10 Batch 1:  Validation accurancy : 0.32359999418258667, 1.8957278728485107\n",
      "Epoch  6, CIFAR-10 Batch 2:  Validation accurancy : 0.323199987411499, 1.863431692123413\n",
      "Epoch  6, CIFAR-10 Batch 3:  Validation accurancy : 0.32019999623298645, 1.5302574634552002\n",
      "Epoch  6, CIFAR-10 Batch 4:  Validation accurancy : 0.33779996633529663, 1.6716970205307007\n",
      "Epoch  6, CIFAR-10 Batch 5:  Validation accurancy : 0.34320002794265747, 1.5769908428192139\n",
      "Epoch  7, CIFAR-10 Batch 1:  Validation accurancy : 0.34579998254776, 1.8897534608840942\n",
      "Epoch  7, CIFAR-10 Batch 2:  Validation accurancy : 0.33739998936653137, 1.829978585243225\n",
      "Epoch  7, CIFAR-10 Batch 3:  Validation accurancy : 0.3563999831676483, 1.5171693563461304\n",
      "Epoch  7, CIFAR-10 Batch 4:  Validation accurancy : 0.34359997510910034, 1.6649937629699707\n",
      "Epoch  7, CIFAR-10 Batch 5:  Validation accurancy : 0.35040000081062317, 1.571424961090088\n",
      "Epoch  8, CIFAR-10 Batch 1:  Validation accurancy : 0.3545999526977539, 1.8864412307739258\n",
      "Epoch  8, CIFAR-10 Batch 2:  Validation accurancy : 0.3569999933242798, 1.8400962352752686\n",
      "Epoch  8, CIFAR-10 Batch 3:  Validation accurancy : 0.353799968957901, 1.4675204753875732\n",
      "Epoch  8, CIFAR-10 Batch 4:  Validation accurancy : 0.3598000109195709, 1.6435866355895996\n",
      "Epoch  8, CIFAR-10 Batch 5:  Validation accurancy : 0.3515999913215637, 1.5534539222717285\n",
      "Epoch  9, CIFAR-10 Batch 1:  Validation accurancy : 0.3677999973297119, 1.8085131645202637\n",
      "Epoch  9, CIFAR-10 Batch 2:  Validation accurancy : 0.3547999858856201, 1.7823445796966553\n",
      "Epoch  9, CIFAR-10 Batch 3:  Validation accurancy : 0.36719998717308044, 1.4437642097473145\n",
      "Epoch  9, CIFAR-10 Batch 4:  Validation accurancy : 0.3561999797821045, 1.629016399383545\n",
      "Epoch  9, CIFAR-10 Batch 5:  Validation accurancy : 0.3699999451637268, 1.5571702718734741\n",
      "Epoch 10, CIFAR-10 Batch 1:  Validation accurancy : 0.3839999735355377, 1.7742741107940674\n",
      "Epoch 10, CIFAR-10 Batch 2:  Validation accurancy : 0.3481999635696411, 1.7538678646087646\n",
      "Epoch 10, CIFAR-10 Batch 3:  Validation accurancy : 0.375, 1.444494366645813\n",
      "Epoch 10, CIFAR-10 Batch 4:  Validation accurancy : 0.36559998989105225, 1.6241627931594849\n",
      "Epoch 10, CIFAR-10 Batch 5:  Validation accurancy : 0.37379997968673706, 1.5320703983306885\n",
      "Epoch 11, CIFAR-10 Batch 1:  Validation accurancy : 0.38819998502731323, 1.7179056406021118\n",
      "Epoch 11, CIFAR-10 Batch 2:  Validation accurancy : 0.38279998302459717, 1.7225394248962402\n",
      "Epoch 11, CIFAR-10 Batch 3:  Validation accurancy : 0.3827999532222748, 1.4239490032196045\n",
      "Epoch 11, CIFAR-10 Batch 4:  Validation accurancy : 0.36299997568130493, 1.608651041984558\n",
      "Epoch 11, CIFAR-10 Batch 5:  Validation accurancy : 0.3819999694824219, 1.5161726474761963\n",
      "Epoch 12, CIFAR-10 Batch 1:  Validation accurancy : 0.38359999656677246, 1.683902382850647\n",
      "Epoch 12, CIFAR-10 Batch 2:  Validation accurancy : 0.3627999722957611, 1.685580849647522\n",
      "Epoch 12, CIFAR-10 Batch 3:  Validation accurancy : 0.3912000060081482, 1.3919001817703247\n",
      "Epoch 12, CIFAR-10 Batch 4:  Validation accurancy : 0.3973999619483948, 1.5905492305755615\n",
      "Epoch 12, CIFAR-10 Batch 5:  Validation accurancy : 0.39479994773864746, 1.505584478378296\n",
      "Epoch 13, CIFAR-10 Batch 1:  Validation accurancy : 0.39659997820854187, 1.6771504878997803\n",
      "Epoch 13, CIFAR-10 Batch 2:  Validation accurancy : 0.38679996132850647, 1.666229248046875\n",
      "Epoch 13, CIFAR-10 Batch 3:  Validation accurancy : 0.39539995789527893, 1.3734698295593262\n",
      "Epoch 13, CIFAR-10 Batch 4:  Validation accurancy : 0.3861999809741974, 1.5813432931900024\n",
      "Epoch 13, CIFAR-10 Batch 5:  Validation accurancy : 0.402599960565567, 1.470623254776001\n",
      "Epoch 14, CIFAR-10 Batch 1:  Validation accurancy : 0.4139999747276306, 1.5936753749847412\n",
      "Epoch 14, CIFAR-10 Batch 2:  Validation accurancy : 0.4065999388694763, 1.543882966041565\n",
      "Epoch 14, CIFAR-10 Batch 3:  Validation accurancy : 0.4169999957084656, 1.3361250162124634\n",
      "Epoch 14, CIFAR-10 Batch 4:  Validation accurancy : 0.40859997272491455, 1.5560799837112427\n",
      "Epoch 14, CIFAR-10 Batch 5:  Validation accurancy : 0.415399968624115, 1.4539523124694824\n",
      "Epoch 15, CIFAR-10 Batch 1:  Validation accurancy : 0.4187999367713928, 1.5486139059066772\n",
      "Epoch 15, CIFAR-10 Batch 2:  Validation accurancy : 0.40459999442100525, 1.5224847793579102\n",
      "Epoch 15, CIFAR-10 Batch 3:  Validation accurancy : 0.41439998149871826, 1.2924525737762451\n",
      "Epoch 15, CIFAR-10 Batch 4:  Validation accurancy : 0.41760000586509705, 1.5224504470825195\n",
      "Epoch 15, CIFAR-10 Batch 5:  Validation accurancy : 0.4261999726295471, 1.4054415225982666\n",
      "Epoch 16, CIFAR-10 Batch 1:  Validation accurancy : 0.4131999611854553, 1.580932378768921\n",
      "Epoch 16, CIFAR-10 Batch 2:  Validation accurancy : 0.4179999530315399, 1.5113871097564697\n",
      "Epoch 16, CIFAR-10 Batch 3:  Validation accurancy : 0.433199942111969, 1.234808325767517\n",
      "Epoch 16, CIFAR-10 Batch 4:  Validation accurancy : 0.41679996252059937, 1.522822380065918\n",
      "Epoch 16, CIFAR-10 Batch 5:  Validation accurancy : 0.4339999556541443, 1.382227897644043\n",
      "Epoch 17, CIFAR-10 Batch 1:  Validation accurancy : 0.4259999692440033, 1.4052280187606812\n",
      "Epoch 17, CIFAR-10 Batch 2:  Validation accurancy : 0.438400000333786, 1.4423385858535767\n",
      "Epoch 17, CIFAR-10 Batch 3:  Validation accurancy : 0.4413999617099762, 1.2201542854309082\n",
      "Epoch 17, CIFAR-10 Batch 4:  Validation accurancy : 0.4115999639034271, 1.4867699146270752\n",
      "Epoch 17, CIFAR-10 Batch 5:  Validation accurancy : 0.43720000982284546, 1.3717944622039795\n",
      "Epoch 18, CIFAR-10 Batch 1:  Validation accurancy : 0.447799950838089, 1.403202772140503\n",
      "Epoch 18, CIFAR-10 Batch 2:  Validation accurancy : 0.44419997930526733, 1.3770906925201416\n",
      "Epoch 18, CIFAR-10 Batch 3:  Validation accurancy : 0.438199907541275, 1.223842978477478\n",
      "Epoch 18, CIFAR-10 Batch 4:  Validation accurancy : 0.43140000104904175, 1.4743831157684326\n",
      "Epoch 18, CIFAR-10 Batch 5:  Validation accurancy : 0.43560001254081726, 1.382270336151123\n",
      "Epoch 19, CIFAR-10 Batch 1:  Validation accurancy : 0.4519999921321869, 1.3357594013214111\n",
      "Epoch 19, CIFAR-10 Batch 2:  Validation accurancy : 0.44899997115135193, 1.3766775131225586\n",
      "Epoch 19, CIFAR-10 Batch 3:  Validation accurancy : 0.45879995822906494, 1.166776418685913\n",
      "Epoch 19, CIFAR-10 Batch 4:  Validation accurancy : 0.4577999711036682, 1.4221398830413818\n",
      "Epoch 19, CIFAR-10 Batch 5:  Validation accurancy : 0.4551999568939209, 1.3572955131530762\n",
      "Epoch 20, CIFAR-10 Batch 1:  Validation accurancy : 0.46959996223449707, 1.282092571258545\n",
      "Epoch 20, CIFAR-10 Batch 2:  Validation accurancy : 0.4583999812602997, 1.3011670112609863\n",
      "Epoch 20, CIFAR-10 Batch 3:  Validation accurancy : 0.4667999744415283, 1.1496117115020752\n",
      "Epoch 20, CIFAR-10 Batch 4:  Validation accurancy : 0.44919997453689575, 1.3912954330444336\n",
      "Epoch 20, CIFAR-10 Batch 5:  Validation accurancy : 0.4761999845504761, 1.2775864601135254\n",
      "Epoch 21, CIFAR-10 Batch 1:  Validation accurancy : 0.46939995884895325, 1.3117389678955078\n",
      "Epoch 21, CIFAR-10 Batch 2:  Validation accurancy : 0.47359994053840637, 1.2644892930984497\n",
      "Epoch 21, CIFAR-10 Batch 3:  Validation accurancy : 0.476999968290329, 1.132028579711914\n",
      "Epoch 21, CIFAR-10 Batch 4:  Validation accurancy : 0.47419995069503784, 1.3629209995269775\n",
      "Epoch 21, CIFAR-10 Batch 5:  Validation accurancy : 0.45719993114471436, 1.3007068634033203\n",
      "Epoch 22, CIFAR-10 Batch 1:  Validation accurancy : 0.4817999601364136, 1.3045040369033813\n",
      "Epoch 22, CIFAR-10 Batch 2:  Validation accurancy : 0.47819995880126953, 1.2310670614242554\n",
      "Epoch 22, CIFAR-10 Batch 3:  Validation accurancy : 0.476999968290329, 1.1406644582748413\n",
      "Epoch 22, CIFAR-10 Batch 4:  Validation accurancy : 0.4835999608039856, 1.3334720134735107\n",
      "Epoch 22, CIFAR-10 Batch 5:  Validation accurancy : 0.49059993028640747, 1.2442715167999268\n",
      "Epoch 23, CIFAR-10 Batch 1:  Validation accurancy : 0.4849999248981476, 1.191713571548462\n",
      "Epoch 23, CIFAR-10 Batch 2:  Validation accurancy : 0.48879995942115784, 1.23090398311615\n",
      "Epoch 23, CIFAR-10 Batch 3:  Validation accurancy : 0.4749999940395355, 1.1217777729034424\n",
      "Epoch 23, CIFAR-10 Batch 4:  Validation accurancy : 0.49299997091293335, 1.3157669305801392\n",
      "Epoch 23, CIFAR-10 Batch 5:  Validation accurancy : 0.4877999424934387, 1.2238258123397827\n",
      "Epoch 24, CIFAR-10 Batch 1:  Validation accurancy : 0.4813999533653259, 1.2150015830993652\n",
      "Epoch 24, CIFAR-10 Batch 2:  Validation accurancy : 0.4987999200820923, 1.2098134756088257\n",
      "Epoch 24, CIFAR-10 Batch 3:  Validation accurancy : 0.49939998984336853, 1.0247902870178223\n",
      "Epoch 24, CIFAR-10 Batch 4:  Validation accurancy : 0.4987999200820923, 1.2487808465957642\n",
      "Epoch 24, CIFAR-10 Batch 5:  Validation accurancy : 0.5095999836921692, 1.1650748252868652\n",
      "Epoch 25, CIFAR-10 Batch 1:  Validation accurancy : 0.5025999546051025, 1.1446856260299683\n",
      "Epoch 25, CIFAR-10 Batch 2:  Validation accurancy : 0.5105999708175659, 1.1830872297286987\n",
      "Epoch 25, CIFAR-10 Batch 3:  Validation accurancy : 0.5069999694824219, 1.0352126359939575\n",
      "Epoch 25, CIFAR-10 Batch 4:  Validation accurancy : 0.5015999674797058, 1.2370460033416748\n",
      "Epoch 25, CIFAR-10 Batch 5:  Validation accurancy : 0.5099999904632568, 1.1498737335205078\n",
      "Epoch 26, CIFAR-10 Batch 1:  Validation accurancy : 0.5083999633789062, 1.1338483095169067\n",
      "Epoch 26, CIFAR-10 Batch 2:  Validation accurancy : 0.511199951171875, 1.1303244829177856\n",
      "Epoch 26, CIFAR-10 Batch 3:  Validation accurancy : 0.5203999280929565, 0.9901569485664368\n",
      "Epoch 26, CIFAR-10 Batch 4:  Validation accurancy : 0.5029999613761902, 1.1981582641601562\n",
      "Epoch 26, CIFAR-10 Batch 5:  Validation accurancy : 0.5013999938964844, 1.1730763912200928\n",
      "Epoch 27, CIFAR-10 Batch 1:  Validation accurancy : 0.509399950504303, 1.1274614334106445\n",
      "Epoch 27, CIFAR-10 Batch 2:  Validation accurancy : 0.5173999071121216, 1.1497935056686401\n",
      "Epoch 27, CIFAR-10 Batch 3:  Validation accurancy : 0.5183998942375183, 0.9719202518463135\n",
      "Epoch 27, CIFAR-10 Batch 4:  Validation accurancy : 0.5069999694824219, 1.172563076019287\n",
      "Epoch 27, CIFAR-10 Batch 5:  Validation accurancy : 0.5133999586105347, 1.1288983821868896\n",
      "Epoch 28, CIFAR-10 Batch 1:  Validation accurancy : 0.5179999470710754, 1.0834059715270996\n",
      "Epoch 28, CIFAR-10 Batch 2:  Validation accurancy : 0.5229999423027039, 1.1060810089111328\n",
      "Epoch 28, CIFAR-10 Batch 3:  Validation accurancy : 0.5267999172210693, 0.957618236541748\n",
      "Epoch 28, CIFAR-10 Batch 4:  Validation accurancy : 0.5225999355316162, 1.1148295402526855\n",
      "Epoch 28, CIFAR-10 Batch 5:  Validation accurancy : 0.5167999267578125, 1.0743582248687744\n",
      "Epoch 29, CIFAR-10 Batch 1:  Validation accurancy : 0.5043999552726746, 1.1048675775527954\n",
      "Epoch 29, CIFAR-10 Batch 2:  Validation accurancy : 0.5287999510765076, 1.0095999240875244\n",
      "Epoch 29, CIFAR-10 Batch 3:  Validation accurancy : 0.5269999504089355, 0.9737080335617065\n",
      "Epoch 29, CIFAR-10 Batch 4:  Validation accurancy : 0.5277999639511108, 1.1095249652862549\n",
      "Epoch 29, CIFAR-10 Batch 5:  Validation accurancy : 0.5293999910354614, 1.0218496322631836\n",
      "Epoch 30, CIFAR-10 Batch 1:  Validation accurancy : 0.5201999545097351, 1.0405550003051758\n",
      "Epoch 30, CIFAR-10 Batch 2:  Validation accurancy : 0.5263999700546265, 1.0389604568481445\n",
      "Epoch 30, CIFAR-10 Batch 3:  Validation accurancy : 0.5283999443054199, 0.9095925688743591\n",
      "Epoch 30, CIFAR-10 Batch 4:  Validation accurancy : 0.5337998867034912, 1.0675019025802612\n",
      "Epoch 30, CIFAR-10 Batch 5:  Validation accurancy : 0.5221999287605286, 1.049129843711853\n",
      "Epoch 31, CIFAR-10 Batch 1:  Validation accurancy : 0.5105999112129211, 1.038745641708374\n",
      "Epoch 31, CIFAR-10 Batch 2:  Validation accurancy : 0.5305999517440796, 0.9470707178115845\n",
      "Epoch 31, CIFAR-10 Batch 3:  Validation accurancy : 0.533799946308136, 0.8722786903381348\n",
      "Epoch 31, CIFAR-10 Batch 4:  Validation accurancy : 0.5433999300003052, 1.042280912399292\n",
      "Epoch 31, CIFAR-10 Batch 5:  Validation accurancy : 0.5269999504089355, 1.0102131366729736\n",
      "Epoch 32, CIFAR-10 Batch 1:  Validation accurancy : 0.5315999984741211, 0.9710149765014648\n",
      "Epoch 32, CIFAR-10 Batch 2:  Validation accurancy : 0.5439999103546143, 0.9066338539123535\n",
      "Epoch 32, CIFAR-10 Batch 3:  Validation accurancy : 0.5373998880386353, 0.8893327713012695\n",
      "Epoch 32, CIFAR-10 Batch 4:  Validation accurancy : 0.5365999937057495, 1.0541856288909912\n",
      "Epoch 32, CIFAR-10 Batch 5:  Validation accurancy : 0.5379999279975891, 0.9420197010040283\n",
      "Epoch 33, CIFAR-10 Batch 1:  Validation accurancy : 0.5285999178886414, 0.9548868536949158\n",
      "Epoch 33, CIFAR-10 Batch 2:  Validation accurancy : 0.5451999306678772, 0.8925023078918457\n",
      "Epoch 33, CIFAR-10 Batch 3:  Validation accurancy : 0.5519999265670776, 0.8562679886817932\n",
      "Epoch 33, CIFAR-10 Batch 4:  Validation accurancy : 0.5459999442100525, 0.9913458824157715\n",
      "Epoch 33, CIFAR-10 Batch 5:  Validation accurancy : 0.544999897480011, 0.9120169878005981\n",
      "Epoch 34, CIFAR-10 Batch 1:  Validation accurancy : 0.5433999300003052, 0.942241907119751\n",
      "Epoch 34, CIFAR-10 Batch 2:  Validation accurancy : 0.5495999455451965, 0.8710229396820068\n",
      "Epoch 34, CIFAR-10 Batch 3:  Validation accurancy : 0.5621999502182007, 0.7868470549583435\n",
      "Epoch 34, CIFAR-10 Batch 4:  Validation accurancy : 0.5535999536514282, 0.9907101392745972\n",
      "Epoch 34, CIFAR-10 Batch 5:  Validation accurancy : 0.5417999625205994, 0.9110733270645142\n",
      "Epoch 35, CIFAR-10 Batch 1:  Validation accurancy : 0.5435999631881714, 0.9229592680931091\n",
      "Epoch 35, CIFAR-10 Batch 2:  Validation accurancy : 0.5597999095916748, 0.8545117974281311\n",
      "Epoch 35, CIFAR-10 Batch 3:  Validation accurancy : 0.5613999366760254, 0.7868608236312866\n",
      "Epoch 35, CIFAR-10 Batch 4:  Validation accurancy : 0.56659996509552, 0.9500690698623657\n",
      "Epoch 35, CIFAR-10 Batch 5:  Validation accurancy : 0.5557999610900879, 0.8494134545326233\n",
      "Epoch 36, CIFAR-10 Batch 1:  Validation accurancy : 0.5423998832702637, 0.8597668409347534\n",
      "Epoch 36, CIFAR-10 Batch 2:  Validation accurancy : 0.5723999738693237, 0.8382765054702759\n",
      "Epoch 36, CIFAR-10 Batch 3:  Validation accurancy : 0.5685998797416687, 0.7705606818199158\n",
      "Epoch 36, CIFAR-10 Batch 4:  Validation accurancy : 0.5639998912811279, 0.9566235542297363\n",
      "Epoch 36, CIFAR-10 Batch 5:  Validation accurancy : 0.5641999840736389, 0.8553218841552734\n",
      "Epoch 37, CIFAR-10 Batch 1:  Validation accurancy : 0.555199921131134, 0.8713451623916626\n",
      "Epoch 37, CIFAR-10 Batch 2:  Validation accurancy : 0.5717999339103699, 0.8182536959648132\n",
      "Epoch 37, CIFAR-10 Batch 3:  Validation accurancy : 0.571199893951416, 0.7799204587936401\n",
      "Epoch 37, CIFAR-10 Batch 4:  Validation accurancy : 0.5741999745368958, 0.9290565252304077\n",
      "Epoch 37, CIFAR-10 Batch 5:  Validation accurancy : 0.5617998838424683, 0.8089852333068848\n",
      "Epoch 38, CIFAR-10 Batch 1:  Validation accurancy : 0.5649999380111694, 0.8362075090408325\n",
      "Epoch 38, CIFAR-10 Batch 2:  Validation accurancy : 0.5737999677658081, 0.7899638414382935\n",
      "Epoch 38, CIFAR-10 Batch 3:  Validation accurancy : 0.5679999589920044, 0.7469882369041443\n",
      "Epoch 38, CIFAR-10 Batch 4:  Validation accurancy : 0.5671999454498291, 0.8817931413650513\n",
      "Epoch 38, CIFAR-10 Batch 5:  Validation accurancy : 0.5675999522209167, 0.8135877251625061\n",
      "Epoch 39, CIFAR-10 Batch 1:  Validation accurancy : 0.5629999041557312, 0.7831883430480957\n",
      "Epoch 39, CIFAR-10 Batch 2:  Validation accurancy : 0.5675999522209167, 0.7576049566268921\n",
      "Epoch 39, CIFAR-10 Batch 3:  Validation accurancy : 0.5823999047279358, 0.7078500986099243\n",
      "Epoch 39, CIFAR-10 Batch 4:  Validation accurancy : 0.5753998756408691, 0.8438922166824341\n",
      "Epoch 39, CIFAR-10 Batch 5:  Validation accurancy : 0.5693999528884888, 0.7789293527603149\n",
      "Epoch 40, CIFAR-10 Batch 1:  Validation accurancy : 0.5715999007225037, 0.8013821244239807\n",
      "Epoch 40, CIFAR-10 Batch 2:  Validation accurancy : 0.5837999582290649, 0.7725796699523926\n",
      "Epoch 40, CIFAR-10 Batch 3:  Validation accurancy : 0.5726000070571899, 0.7304623126983643\n",
      "Epoch 40, CIFAR-10 Batch 4:  Validation accurancy : 0.5725999474525452, 0.8210948705673218\n",
      "Epoch 40, CIFAR-10 Batch 5:  Validation accurancy : 0.5725999474525452, 0.7629547119140625\n",
      "Epoch 41, CIFAR-10 Batch 1:  Validation accurancy : 0.5685999393463135, 0.8398781418800354\n",
      "Epoch 41, CIFAR-10 Batch 2:  Validation accurancy : 0.5719999074935913, 0.758766233921051\n",
      "Epoch 41, CIFAR-10 Batch 3:  Validation accurancy : 0.5545998811721802, 0.665573239326477\n",
      "Epoch 41, CIFAR-10 Batch 4:  Validation accurancy : 0.5833998918533325, 0.793224036693573\n",
      "Epoch 41, CIFAR-10 Batch 5:  Validation accurancy : 0.5755999088287354, 0.7167437076568604\n",
      "Epoch 42, CIFAR-10 Batch 1:  Validation accurancy : 0.5897999405860901, 0.7486939430236816\n",
      "Epoch 42, CIFAR-10 Batch 2:  Validation accurancy : 0.5913999080657959, 0.7439087629318237\n",
      "Epoch 42, CIFAR-10 Batch 3:  Validation accurancy : 0.5653998851776123, 0.6386474370956421\n",
      "Epoch 42, CIFAR-10 Batch 4:  Validation accurancy : 0.5981999039649963, 0.7482526898384094\n",
      "Epoch 42, CIFAR-10 Batch 5:  Validation accurancy : 0.58079993724823, 0.6875218152999878\n",
      "Epoch 43, CIFAR-10 Batch 1:  Validation accurancy : 0.5947998762130737, 0.7350570559501648\n",
      "Epoch 43, CIFAR-10 Batch 2:  Validation accurancy : 0.5937999486923218, 0.7313923239707947\n",
      "Epoch 43, CIFAR-10 Batch 3:  Validation accurancy : 0.5837998986244202, 0.6146278977394104\n",
      "Epoch 43, CIFAR-10 Batch 4:  Validation accurancy : 0.5915999412536621, 0.7465452551841736\n",
      "Epoch 43, CIFAR-10 Batch 5:  Validation accurancy : 0.5847999453544617, 0.6580234169960022\n",
      "Epoch 44, CIFAR-10 Batch 1:  Validation accurancy : 0.583599865436554, 0.6810224652290344\n",
      "Epoch 44, CIFAR-10 Batch 2:  Validation accurancy : 0.5975999236106873, 0.6859791278839111\n",
      "Epoch 44, CIFAR-10 Batch 3:  Validation accurancy : 0.5829999446868896, 0.637018620967865\n",
      "Epoch 44, CIFAR-10 Batch 4:  Validation accurancy : 0.5923999547958374, 0.7748503088951111\n",
      "Epoch 44, CIFAR-10 Batch 5:  Validation accurancy : 0.5899999141693115, 0.6149401664733887\n",
      "Epoch 45, CIFAR-10 Batch 1:  Validation accurancy : 0.598599910736084, 0.6643240451812744\n",
      "Epoch 45, CIFAR-10 Batch 2:  Validation accurancy : 0.5977998971939087, 0.6627777814865112\n",
      "Epoch 45, CIFAR-10 Batch 3:  Validation accurancy : 0.5879999399185181, 0.5931801199913025\n",
      "Epoch 45, CIFAR-10 Batch 4:  Validation accurancy : 0.5953999161720276, 0.7782909870147705\n",
      "Epoch 45, CIFAR-10 Batch 5:  Validation accurancy : 0.5877999067306519, 0.6387137770652771\n",
      "Epoch 46, CIFAR-10 Batch 1:  Validation accurancy : 0.5969998836517334, 0.6758636236190796\n",
      "Epoch 46, CIFAR-10 Batch 2:  Validation accurancy : 0.5977998971939087, 0.6514001488685608\n",
      "Epoch 46, CIFAR-10 Batch 3:  Validation accurancy : 0.579599916934967, 0.6070047616958618\n",
      "Epoch 46, CIFAR-10 Batch 4:  Validation accurancy : 0.6023998856544495, 0.7477995157241821\n",
      "Epoch 46, CIFAR-10 Batch 5:  Validation accurancy : 0.5943999290466309, 0.6175523996353149\n",
      "Epoch 47, CIFAR-10 Batch 1:  Validation accurancy : 0.6033998727798462, 0.6285227537155151\n",
      "Epoch 47, CIFAR-10 Batch 2:  Validation accurancy : 0.612799882888794, 0.6333903670310974\n",
      "Epoch 47, CIFAR-10 Batch 3:  Validation accurancy : 0.6011999249458313, 0.5667910575866699\n",
      "Epoch 47, CIFAR-10 Batch 4:  Validation accurancy : 0.6033998727798462, 0.7631861567497253\n",
      "Epoch 47, CIFAR-10 Batch 5:  Validation accurancy : 0.5977998971939087, 0.606497049331665\n",
      "Epoch 48, CIFAR-10 Batch 1:  Validation accurancy : 0.6095998883247375, 0.6596204042434692\n",
      "Epoch 48, CIFAR-10 Batch 2:  Validation accurancy : 0.6001998782157898, 0.6300591230392456\n",
      "Epoch 48, CIFAR-10 Batch 3:  Validation accurancy : 0.5851998925209045, 0.5533170700073242\n",
      "Epoch 48, CIFAR-10 Batch 4:  Validation accurancy : 0.6107999086380005, 0.7320556640625\n",
      "Epoch 48, CIFAR-10 Batch 5:  Validation accurancy : 0.6093999147415161, 0.5902132987976074\n",
      "Epoch 49, CIFAR-10 Batch 1:  Validation accurancy : 0.6125998497009277, 0.6554980278015137\n",
      "Epoch 49, CIFAR-10 Batch 2:  Validation accurancy : 0.6045999526977539, 0.6489220857620239\n",
      "Epoch 49, CIFAR-10 Batch 3:  Validation accurancy : 0.6025999188423157, 0.5165663957595825\n",
      "Epoch 49, CIFAR-10 Batch 4:  Validation accurancy : 0.6125999093055725, 0.7108925580978394\n",
      "Epoch 49, CIFAR-10 Batch 5:  Validation accurancy : 0.6117998361587524, 0.5596274733543396\n",
      "Epoch 50, CIFAR-10 Batch 1:  Validation accurancy : 0.6195998191833496, 0.5977531671524048\n",
      "Epoch 50, CIFAR-10 Batch 2:  Validation accurancy : 0.6029999256134033, 0.6101256012916565\n",
      "Epoch 50, CIFAR-10 Batch 3:  Validation accurancy : 0.6061999797821045, 0.5383262634277344\n",
      "Epoch 50, CIFAR-10 Batch 4:  Validation accurancy : 0.6135998964309692, 0.6439288258552551\n",
      "Epoch 50, CIFAR-10 Batch 5:  Validation accurancy : 0.6161999106407166, 0.5321608781814575\n",
      "Epoch 51, CIFAR-10 Batch 1:  Validation accurancy : 0.6243999004364014, 0.6163591146469116\n",
      "Epoch 51, CIFAR-10 Batch 2:  Validation accurancy : 0.6029999256134033, 0.5960278511047363\n",
      "Epoch 51, CIFAR-10 Batch 3:  Validation accurancy : 0.6001998782157898, 0.5918298959732056\n",
      "Epoch 51, CIFAR-10 Batch 4:  Validation accurancy : 0.6057999134063721, 0.6407264471054077\n",
      "Epoch 51, CIFAR-10 Batch 5:  Validation accurancy : 0.6159998774528503, 0.5312460064888\n",
      "Epoch 52, CIFAR-10 Batch 1:  Validation accurancy : 0.6335998773574829, 0.5917472243309021\n",
      "Epoch 52, CIFAR-10 Batch 2:  Validation accurancy : 0.6089998483657837, 0.5871025323867798\n",
      "Epoch 52, CIFAR-10 Batch 3:  Validation accurancy : 0.6105998754501343, 0.5168834924697876\n",
      "Epoch 52, CIFAR-10 Batch 4:  Validation accurancy : 0.6091998815536499, 0.6336150765419006\n",
      "Epoch 52, CIFAR-10 Batch 5:  Validation accurancy : 0.6239999532699585, 0.5123084783554077\n",
      "Epoch 53, CIFAR-10 Batch 1:  Validation accurancy : 0.6301999092102051, 0.6075504422187805\n",
      "Epoch 53, CIFAR-10 Batch 2:  Validation accurancy : 0.5989999175071716, 0.5548068881034851\n",
      "Epoch 53, CIFAR-10 Batch 3:  Validation accurancy : 0.6159998774528503, 0.529792308807373\n",
      "Epoch 53, CIFAR-10 Batch 4:  Validation accurancy : 0.6101999282836914, 0.6034331917762756\n",
      "Epoch 53, CIFAR-10 Batch 5:  Validation accurancy : 0.6133999228477478, 0.514285147190094\n",
      "Epoch 54, CIFAR-10 Batch 1:  Validation accurancy : 0.627799928188324, 0.6117373108863831\n",
      "Epoch 54, CIFAR-10 Batch 2:  Validation accurancy : 0.5901999473571777, 0.577471911907196\n",
      "Epoch 54, CIFAR-10 Batch 3:  Validation accurancy : 0.6095999479293823, 0.5990304946899414\n",
      "Epoch 54, CIFAR-10 Batch 4:  Validation accurancy : 0.6047999262809753, 0.6040723323822021\n",
      "Epoch 54, CIFAR-10 Batch 5:  Validation accurancy : 0.6251999139785767, 0.5241060853004456\n",
      "Epoch 55, CIFAR-10 Batch 1:  Validation accurancy : 0.6383999586105347, 0.5676976442337036\n",
      "Epoch 55, CIFAR-10 Batch 2:  Validation accurancy : 0.5941998958587646, 0.5545703172683716\n",
      "Epoch 55, CIFAR-10 Batch 3:  Validation accurancy : 0.6219999194145203, 0.5632649064064026\n",
      "Epoch 55, CIFAR-10 Batch 4:  Validation accurancy : 0.6065998673439026, 0.6221662163734436\n",
      "Epoch 55, CIFAR-10 Batch 5:  Validation accurancy : 0.6267998814582825, 0.512116551399231\n",
      "Epoch 56, CIFAR-10 Batch 1:  Validation accurancy : 0.6363998651504517, 0.5758551359176636\n",
      "Epoch 56, CIFAR-10 Batch 2:  Validation accurancy : 0.5881999135017395, 0.5562429428100586\n",
      "Epoch 56, CIFAR-10 Batch 3:  Validation accurancy : 0.6223999261856079, 0.5590187311172485\n",
      "Epoch 56, CIFAR-10 Batch 4:  Validation accurancy : 0.6153998970985413, 0.5902979373931885\n",
      "Epoch 56, CIFAR-10 Batch 5:  Validation accurancy : 0.6205999255180359, 0.5203257203102112\n",
      "Epoch 57, CIFAR-10 Batch 1:  Validation accurancy : 0.6245999336242676, 0.5736591219902039\n",
      "Epoch 57, CIFAR-10 Batch 2:  Validation accurancy : 0.5971999168395996, 0.5264960527420044\n",
      "Epoch 57, CIFAR-10 Batch 3:  Validation accurancy : 0.6287999153137207, 0.5109565854072571\n",
      "Epoch 57, CIFAR-10 Batch 4:  Validation accurancy : 0.6213999390602112, 0.5968601703643799\n",
      "Epoch 57, CIFAR-10 Batch 5:  Validation accurancy : 0.616399884223938, 0.4908294975757599\n",
      "Epoch 58, CIFAR-10 Batch 1:  Validation accurancy : 0.6289999485015869, 0.5504406094551086\n",
      "Epoch 58, CIFAR-10 Batch 2:  Validation accurancy : 0.6051998734474182, 0.49048203229904175\n",
      "Epoch 58, CIFAR-10 Batch 3:  Validation accurancy : 0.6235999464988708, 0.47535809874534607\n",
      "Epoch 58, CIFAR-10 Batch 4:  Validation accurancy : 0.625999927520752, 0.561353862285614\n",
      "Epoch 58, CIFAR-10 Batch 5:  Validation accurancy : 0.6111999750137329, 0.5057966709136963\n",
      "Epoch 59, CIFAR-10 Batch 1:  Validation accurancy : 0.6373999118804932, 0.5443285703659058\n",
      "Epoch 59, CIFAR-10 Batch 2:  Validation accurancy : 0.6123999357223511, 0.4891047179698944\n",
      "Epoch 59, CIFAR-10 Batch 3:  Validation accurancy : 0.6259998679161072, 0.4590711295604706\n",
      "Epoch 59, CIFAR-10 Batch 4:  Validation accurancy : 0.6129999160766602, 0.5409306287765503\n",
      "Epoch 59, CIFAR-10 Batch 5:  Validation accurancy : 0.6279998421669006, 0.4527927041053772\n",
      "Epoch 60, CIFAR-10 Batch 1:  Validation accurancy : 0.6269999146461487, 0.5578446984291077\n",
      "Epoch 60, CIFAR-10 Batch 2:  Validation accurancy : 0.608799934387207, 0.4743371307849884\n",
      "Epoch 60, CIFAR-10 Batch 3:  Validation accurancy : 0.6233999133110046, 0.496018648147583\n",
      "Epoch 60, CIFAR-10 Batch 4:  Validation accurancy : 0.6237998604774475, 0.5870522260665894\n",
      "Epoch 60, CIFAR-10 Batch 5:  Validation accurancy : 0.6193999648094177, 0.4779733419418335\n",
      "Epoch 61, CIFAR-10 Batch 1:  Validation accurancy : 0.6199999451637268, 0.605475664138794\n",
      "Epoch 61, CIFAR-10 Batch 2:  Validation accurancy : 0.6113999485969543, 0.44089341163635254\n",
      "Epoch 61, CIFAR-10 Batch 3:  Validation accurancy : 0.6381999254226685, 0.4538381099700928\n",
      "Epoch 61, CIFAR-10 Batch 4:  Validation accurancy : 0.6333999037742615, 0.5244153141975403\n",
      "Epoch 61, CIFAR-10 Batch 5:  Validation accurancy : 0.6257999539375305, 0.4314839541912079\n",
      "Epoch 62, CIFAR-10 Batch 1:  Validation accurancy : 0.6323999166488647, 0.5355231761932373\n",
      "Epoch 62, CIFAR-10 Batch 2:  Validation accurancy : 0.6179999113082886, 0.48115622997283936\n",
      "Epoch 62, CIFAR-10 Batch 3:  Validation accurancy : 0.6351998448371887, 0.442615807056427\n",
      "Epoch 62, CIFAR-10 Batch 4:  Validation accurancy : 0.6233998537063599, 0.5103148818016052\n",
      "Epoch 62, CIFAR-10 Batch 5:  Validation accurancy : 0.6111999154090881, 0.4597904086112976\n",
      "Epoch 63, CIFAR-10 Batch 1:  Validation accurancy : 0.6321999430656433, 0.5112085342407227\n",
      "Epoch 63, CIFAR-10 Batch 2:  Validation accurancy : 0.6085999011993408, 0.45190054178237915\n",
      "Epoch 63, CIFAR-10 Batch 3:  Validation accurancy : 0.6327999234199524, 0.43492525815963745\n",
      "Epoch 63, CIFAR-10 Batch 4:  Validation accurancy : 0.6257998943328857, 0.5139697790145874\n",
      "Epoch 63, CIFAR-10 Batch 5:  Validation accurancy : 0.6333999037742615, 0.4113732576370239\n",
      "Epoch 64, CIFAR-10 Batch 1:  Validation accurancy : 0.6333999037742615, 0.49608883261680603\n",
      "Epoch 64, CIFAR-10 Batch 2:  Validation accurancy : 0.6091998815536499, 0.4809585213661194\n",
      "Epoch 64, CIFAR-10 Batch 3:  Validation accurancy : 0.6321999430656433, 0.44754311442375183\n",
      "Epoch 64, CIFAR-10 Batch 4:  Validation accurancy : 0.6283998489379883, 0.5264328718185425\n",
      "Epoch 64, CIFAR-10 Batch 5:  Validation accurancy : 0.6321998834609985, 0.4261746108531952\n",
      "Epoch 65, CIFAR-10 Batch 1:  Validation accurancy : 0.6401998996734619, 0.48845428228378296\n",
      "Epoch 65, CIFAR-10 Batch 2:  Validation accurancy : 0.597399890422821, 0.45956340432167053\n",
      "Epoch 65, CIFAR-10 Batch 3:  Validation accurancy : 0.6309999227523804, 0.4559630751609802\n",
      "Epoch 65, CIFAR-10 Batch 4:  Validation accurancy : 0.619399905204773, 0.5215797424316406\n",
      "Epoch 65, CIFAR-10 Batch 5:  Validation accurancy : 0.6297999024391174, 0.3925345540046692\n",
      "Epoch 66, CIFAR-10 Batch 1:  Validation accurancy : 0.6299998760223389, 0.5174555778503418\n",
      "Epoch 66, CIFAR-10 Batch 2:  Validation accurancy : 0.6337999105453491, 0.44521212577819824\n",
      "Epoch 66, CIFAR-10 Batch 3:  Validation accurancy : 0.6349999308586121, 0.4205915331840515\n",
      "Epoch 66, CIFAR-10 Batch 4:  Validation accurancy : 0.6243999004364014, 0.5110902786254883\n",
      "Epoch 66, CIFAR-10 Batch 5:  Validation accurancy : 0.6355999112129211, 0.40142565965652466\n",
      "Epoch 67, CIFAR-10 Batch 1:  Validation accurancy : 0.6363999247550964, 0.45329371094703674\n",
      "Epoch 67, CIFAR-10 Batch 2:  Validation accurancy : 0.6135998964309692, 0.4400664269924164\n",
      "Epoch 67, CIFAR-10 Batch 3:  Validation accurancy : 0.642599880695343, 0.4281189441680908\n",
      "Epoch 67, CIFAR-10 Batch 4:  Validation accurancy : 0.6327999830245972, 0.4967074394226074\n",
      "Epoch 67, CIFAR-10 Batch 5:  Validation accurancy : 0.6315999031066895, 0.3925149738788605\n",
      "Epoch 68, CIFAR-10 Batch 1:  Validation accurancy : 0.6387998461723328, 0.4770774245262146\n",
      "Epoch 68, CIFAR-10 Batch 2:  Validation accurancy : 0.6349999308586121, 0.42988523840904236\n",
      "Epoch 68, CIFAR-10 Batch 3:  Validation accurancy : 0.6315999031066895, 0.46277377009391785\n",
      "Epoch 68, CIFAR-10 Batch 4:  Validation accurancy : 0.6289998888969421, 0.4813325107097626\n",
      "Epoch 68, CIFAR-10 Batch 5:  Validation accurancy : 0.6375998854637146, 0.38766399025917053\n",
      "Epoch 69, CIFAR-10 Batch 1:  Validation accurancy : 0.6283999085426331, 0.5598410367965698\n",
      "Epoch 69, CIFAR-10 Batch 2:  Validation accurancy : 0.6459999084472656, 0.4026543200016022\n",
      "Epoch 69, CIFAR-10 Batch 3:  Validation accurancy : 0.6311998963356018, 0.433843731880188\n",
      "Epoch 69, CIFAR-10 Batch 4:  Validation accurancy : 0.6363999247550964, 0.4915187656879425\n",
      "Epoch 69, CIFAR-10 Batch 5:  Validation accurancy : 0.6331998705863953, 0.4049621820449829\n",
      "Epoch 70, CIFAR-10 Batch 1:  Validation accurancy : 0.6369999051094055, 0.5399711728096008\n",
      "Epoch 70, CIFAR-10 Batch 2:  Validation accurancy : 0.6291999220848083, 0.41154566407203674\n",
      "Epoch 70, CIFAR-10 Batch 3:  Validation accurancy : 0.6263999342918396, 0.40977346897125244\n",
      "Epoch 70, CIFAR-10 Batch 4:  Validation accurancy : 0.6405999064445496, 0.4563452899456024\n",
      "Epoch 70, CIFAR-10 Batch 5:  Validation accurancy : 0.6427999138832092, 0.3755341172218323\n",
      "Epoch 71, CIFAR-10 Batch 1:  Validation accurancy : 0.6383999586105347, 0.543753981590271\n",
      "Epoch 71, CIFAR-10 Batch 2:  Validation accurancy : 0.6399998664855957, 0.4146447479724884\n",
      "Epoch 71, CIFAR-10 Batch 3:  Validation accurancy : 0.6351999044418335, 0.37799036502838135\n",
      "Epoch 71, CIFAR-10 Batch 4:  Validation accurancy : 0.6417998671531677, 0.4370706081390381\n",
      "Epoch 71, CIFAR-10 Batch 5:  Validation accurancy : 0.6407999396324158, 0.3812134861946106\n",
      "Epoch 72, CIFAR-10 Batch 1:  Validation accurancy : 0.6251999139785767, 0.4665954113006592\n",
      "Epoch 72, CIFAR-10 Batch 2:  Validation accurancy : 0.6385999321937561, 0.3755306601524353\n",
      "Epoch 72, CIFAR-10 Batch 3:  Validation accurancy : 0.6313998699188232, 0.37892842292785645\n",
      "Epoch 72, CIFAR-10 Batch 4:  Validation accurancy : 0.6347999572753906, 0.4327191114425659\n",
      "Epoch 72, CIFAR-10 Batch 5:  Validation accurancy : 0.635999858379364, 0.38526472449302673\n",
      "Epoch 73, CIFAR-10 Batch 1:  Validation accurancy : 0.6395999193191528, 0.5065920948982239\n",
      "Epoch 73, CIFAR-10 Batch 2:  Validation accurancy : 0.6355999112129211, 0.39294612407684326\n",
      "Epoch 73, CIFAR-10 Batch 3:  Validation accurancy : 0.6303998827934265, 0.3798173666000366\n",
      "Epoch 73, CIFAR-10 Batch 4:  Validation accurancy : 0.6387999057769775, 0.44457823038101196\n",
      "Epoch 73, CIFAR-10 Batch 5:  Validation accurancy : 0.6405998468399048, 0.3813709020614624\n",
      "Epoch 74, CIFAR-10 Batch 1:  Validation accurancy : 0.637799859046936, 0.46541517972946167\n",
      "Epoch 74, CIFAR-10 Batch 2:  Validation accurancy : 0.64739990234375, 0.34085461497306824\n",
      "Epoch 74, CIFAR-10 Batch 3:  Validation accurancy : 0.6209998726844788, 0.4021438956260681\n",
      "Epoch 74, CIFAR-10 Batch 4:  Validation accurancy : 0.64739990234375, 0.4226960241794586\n",
      "Epoch 74, CIFAR-10 Batch 5:  Validation accurancy : 0.622999906539917, 0.39966118335723877\n",
      "Epoch 75, CIFAR-10 Batch 1:  Validation accurancy : 0.6273999810218811, 0.4964500367641449\n",
      "Epoch 75, CIFAR-10 Batch 2:  Validation accurancy : 0.6469998955726624, 0.35763347148895264\n",
      "Epoch 75, CIFAR-10 Batch 3:  Validation accurancy : 0.6285998821258545, 0.3764803409576416\n",
      "Epoch 75, CIFAR-10 Batch 4:  Validation accurancy : 0.6441999077796936, 0.45069149136543274\n",
      "Epoch 75, CIFAR-10 Batch 5:  Validation accurancy : 0.6375999450683594, 0.3644631803035736\n",
      "Epoch 76, CIFAR-10 Batch 1:  Validation accurancy : 0.6235998868942261, 0.4466683268547058\n",
      "Epoch 76, CIFAR-10 Batch 2:  Validation accurancy : 0.6481999158859253, 0.3840247094631195\n",
      "Epoch 76, CIFAR-10 Batch 3:  Validation accurancy : 0.6133999228477478, 0.37711888551712036\n",
      "Epoch 76, CIFAR-10 Batch 4:  Validation accurancy : 0.6353998780250549, 0.4605027437210083\n",
      "Epoch 76, CIFAR-10 Batch 5:  Validation accurancy : 0.6457999348640442, 0.3925116956233978\n",
      "Epoch 77, CIFAR-10 Batch 1:  Validation accurancy : 0.6297998428344727, 0.45099708437919617\n",
      "Epoch 77, CIFAR-10 Batch 2:  Validation accurancy : 0.6319999098777771, 0.37589073181152344\n",
      "Epoch 77, CIFAR-10 Batch 3:  Validation accurancy : 0.6339998841285706, 0.3459354341030121\n",
      "Epoch 77, CIFAR-10 Batch 4:  Validation accurancy : 0.6377999186515808, 0.42075663805007935\n",
      "Epoch 77, CIFAR-10 Batch 5:  Validation accurancy : 0.6353999376296997, 0.39990538358688354\n",
      "Epoch 78, CIFAR-10 Batch 1:  Validation accurancy : 0.6347998380661011, 0.43718427419662476\n",
      "Epoch 78, CIFAR-10 Batch 2:  Validation accurancy : 0.6433998942375183, 0.3474470376968384\n",
      "Epoch 78, CIFAR-10 Batch 3:  Validation accurancy : 0.6435998678207397, 0.35899829864501953\n",
      "Epoch 78, CIFAR-10 Batch 4:  Validation accurancy : 0.6479999423027039, 0.4014134407043457\n",
      "Epoch 78, CIFAR-10 Batch 5:  Validation accurancy : 0.6413999199867249, 0.38736045360565186\n",
      "Epoch 79, CIFAR-10 Batch 1:  Validation accurancy : 0.6139999032020569, 0.43730515241622925\n",
      "Epoch 79, CIFAR-10 Batch 2:  Validation accurancy : 0.6425999402999878, 0.36017903685569763\n",
      "Epoch 79, CIFAR-10 Batch 3:  Validation accurancy : 0.6447998285293579, 0.3485223352909088\n",
      "Epoch 79, CIFAR-10 Batch 4:  Validation accurancy : 0.6241998672485352, 0.42642834782600403\n",
      "Epoch 79, CIFAR-10 Batch 5:  Validation accurancy : 0.6425999402999878, 0.3699135184288025\n",
      "Epoch 80, CIFAR-10 Batch 1:  Validation accurancy : 0.6147999167442322, 0.4363034665584564\n",
      "Epoch 80, CIFAR-10 Batch 2:  Validation accurancy : 0.650999903678894, 0.3640572726726532\n",
      "Epoch 80, CIFAR-10 Batch 3:  Validation accurancy : 0.6391998529434204, 0.34024274349212646\n",
      "Epoch 80, CIFAR-10 Batch 4:  Validation accurancy : 0.6351999044418335, 0.41168391704559326\n",
      "Epoch 80, CIFAR-10 Batch 5:  Validation accurancy : 0.6365998983383179, 0.34572750329971313\n",
      "Epoch 81, CIFAR-10 Batch 1:  Validation accurancy : 0.613599956035614, 0.44029730558395386\n",
      "Epoch 81, CIFAR-10 Batch 2:  Validation accurancy : 0.648399829864502, 0.31352025270462036\n",
      "Epoch 81, CIFAR-10 Batch 3:  Validation accurancy : 0.6425999402999878, 0.33915847539901733\n",
      "Epoch 81, CIFAR-10 Batch 4:  Validation accurancy : 0.6263998746871948, 0.4215984344482422\n",
      "Epoch 81, CIFAR-10 Batch 5:  Validation accurancy : 0.6353998780250549, 0.3316592872142792\n",
      "Epoch 82, CIFAR-10 Batch 1:  Validation accurancy : 0.6323999166488647, 0.4103085398674011\n",
      "Epoch 82, CIFAR-10 Batch 2:  Validation accurancy : 0.6459999084472656, 0.3059648275375366\n",
      "Epoch 82, CIFAR-10 Batch 3:  Validation accurancy : 0.6373999118804932, 0.34772658348083496\n",
      "Epoch 82, CIFAR-10 Batch 4:  Validation accurancy : 0.6357998847961426, 0.4130716919898987\n",
      "Epoch 82, CIFAR-10 Batch 5:  Validation accurancy : 0.6379998922348022, 0.31987395882606506\n",
      "Epoch 83, CIFAR-10 Batch 1:  Validation accurancy : 0.6193999648094177, 0.405551552772522\n",
      "Epoch 83, CIFAR-10 Batch 2:  Validation accurancy : 0.6463998556137085, 0.33901339769363403\n",
      "Epoch 83, CIFAR-10 Batch 3:  Validation accurancy : 0.6343998908996582, 0.34536316990852356\n",
      "Epoch 83, CIFAR-10 Batch 4:  Validation accurancy : 0.638999879360199, 0.40235865116119385\n",
      "Epoch 83, CIFAR-10 Batch 5:  Validation accurancy : 0.6367998719215393, 0.32669180631637573\n",
      "Epoch 84, CIFAR-10 Batch 1:  Validation accurancy : 0.5953999161720276, 0.4308736324310303\n",
      "Epoch 84, CIFAR-10 Batch 2:  Validation accurancy : 0.6455998420715332, 0.31441032886505127\n",
      "Epoch 84, CIFAR-10 Batch 3:  Validation accurancy : 0.6351998448371887, 0.3392984867095947\n",
      "Epoch 84, CIFAR-10 Batch 4:  Validation accurancy : 0.6389999389648438, 0.38718992471694946\n",
      "Epoch 84, CIFAR-10 Batch 5:  Validation accurancy : 0.6363998651504517, 0.3344692587852478\n",
      "Epoch 85, CIFAR-10 Batch 1:  Validation accurancy : 0.6319999694824219, 0.3860536813735962\n",
      "Epoch 85, CIFAR-10 Batch 2:  Validation accurancy : 0.6427998542785645, 0.28770047426223755\n",
      "Epoch 85, CIFAR-10 Batch 3:  Validation accurancy : 0.6393998861312866, 0.3372347950935364\n",
      "Epoch 85, CIFAR-10 Batch 4:  Validation accurancy : 0.6449999213218689, 0.3938865661621094\n",
      "Epoch 85, CIFAR-10 Batch 5:  Validation accurancy : 0.6355999112129211, 0.31189998984336853\n",
      "Epoch 86, CIFAR-10 Batch 1:  Validation accurancy : 0.6271999478340149, 0.3992544710636139\n",
      "Epoch 86, CIFAR-10 Batch 2:  Validation accurancy : 0.6381998658180237, 0.31708264350891113\n",
      "Epoch 86, CIFAR-10 Batch 3:  Validation accurancy : 0.6365998983383179, 0.31571200489997864\n",
      "Epoch 86, CIFAR-10 Batch 4:  Validation accurancy : 0.6329998970031738, 0.37874728441238403\n",
      "Epoch 86, CIFAR-10 Batch 5:  Validation accurancy : 0.6305999159812927, 0.31355932354927063\n",
      "Epoch 87, CIFAR-10 Batch 1:  Validation accurancy : 0.619999885559082, 0.39137163758277893\n",
      "Epoch 87, CIFAR-10 Batch 2:  Validation accurancy : 0.6387999057769775, 0.29825329780578613\n",
      "Epoch 87, CIFAR-10 Batch 3:  Validation accurancy : 0.6303998827934265, 0.32348132133483887\n",
      "Epoch 87, CIFAR-10 Batch 4:  Validation accurancy : 0.6439998745918274, 0.387830913066864\n",
      "Epoch 87, CIFAR-10 Batch 5:  Validation accurancy : 0.6411998867988586, 0.31528517603874207\n",
      "Epoch 88, CIFAR-10 Batch 1:  Validation accurancy : 0.6351998448371887, 0.36925697326660156\n",
      "Epoch 88, CIFAR-10 Batch 2:  Validation accurancy : 0.6489999294281006, 0.2811846137046814\n",
      "Epoch 88, CIFAR-10 Batch 3:  Validation accurancy : 0.6253998875617981, 0.30824950337409973\n",
      "Epoch 88, CIFAR-10 Batch 4:  Validation accurancy : 0.6403998732566833, 0.3628029227256775\n",
      "Epoch 88, CIFAR-10 Batch 5:  Validation accurancy : 0.6335998773574829, 0.33551567792892456\n",
      "Epoch 89, CIFAR-10 Batch 1:  Validation accurancy : 0.6307999491691589, 0.4043603241443634\n",
      "Epoch 89, CIFAR-10 Batch 2:  Validation accurancy : 0.6321998834609985, 0.30562740564346313\n",
      "Epoch 89, CIFAR-10 Batch 3:  Validation accurancy : 0.6225998997688293, 0.3370906114578247\n",
      "Epoch 89, CIFAR-10 Batch 4:  Validation accurancy : 0.6393998861312866, 0.35405534505844116\n",
      "Epoch 89, CIFAR-10 Batch 5:  Validation accurancy : 0.6387999057769775, 0.3125409483909607\n",
      "Epoch 90, CIFAR-10 Batch 1:  Validation accurancy : 0.6293998956680298, 0.4047863483428955\n",
      "Epoch 90, CIFAR-10 Batch 2:  Validation accurancy : 0.6319998502731323, 0.30970314145088196\n",
      "Epoch 90, CIFAR-10 Batch 3:  Validation accurancy : 0.6373999118804932, 0.3673399090766907\n",
      "Epoch 90, CIFAR-10 Batch 4:  Validation accurancy : 0.6399999260902405, 0.3514741063117981\n",
      "Epoch 90, CIFAR-10 Batch 5:  Validation accurancy : 0.6353998780250549, 0.3038182258605957\n",
      "Epoch 91, CIFAR-10 Batch 1:  Validation accurancy : 0.643799901008606, 0.4152999222278595\n",
      "Epoch 91, CIFAR-10 Batch 2:  Validation accurancy : 0.6415998935699463, 0.3175409436225891\n",
      "Epoch 91, CIFAR-10 Batch 3:  Validation accurancy : 0.6415998935699463, 0.31058627367019653\n",
      "Epoch 91, CIFAR-10 Batch 4:  Validation accurancy : 0.6387999057769775, 0.3711739480495453\n",
      "Epoch 91, CIFAR-10 Batch 5:  Validation accurancy : 0.6321998834609985, 0.2925399839878082\n",
      "Epoch 92, CIFAR-10 Batch 1:  Validation accurancy : 0.6349998712539673, 0.38623327016830444\n",
      "Epoch 92, CIFAR-10 Batch 2:  Validation accurancy : 0.6385999321937561, 0.306351900100708\n",
      "Epoch 92, CIFAR-10 Batch 3:  Validation accurancy : 0.6347998976707458, 0.29169169068336487\n",
      "Epoch 92, CIFAR-10 Batch 4:  Validation accurancy : 0.6383998394012451, 0.34377917647361755\n",
      "Epoch 92, CIFAR-10 Batch 5:  Validation accurancy : 0.6349998712539673, 0.28145602345466614\n",
      "Epoch 93, CIFAR-10 Batch 1:  Validation accurancy : 0.622999906539917, 0.4010069966316223\n",
      "Epoch 93, CIFAR-10 Batch 2:  Validation accurancy : 0.6453998684883118, 0.29015669226646423\n",
      "Epoch 93, CIFAR-10 Batch 3:  Validation accurancy : 0.6423999071121216, 0.2675974369049072\n",
      "Epoch 93, CIFAR-10 Batch 4:  Validation accurancy : 0.6403998732566833, 0.3472476601600647\n",
      "Epoch 93, CIFAR-10 Batch 5:  Validation accurancy : 0.6345998048782349, 0.28549924492836\n",
      "Epoch 94, CIFAR-10 Batch 1:  Validation accurancy : 0.6149998903274536, 0.3715551197528839\n",
      "Epoch 94, CIFAR-10 Batch 2:  Validation accurancy : 0.643799901008606, 0.29825299978256226\n",
      "Epoch 94, CIFAR-10 Batch 3:  Validation accurancy : 0.6381999254226685, 0.2887735664844513\n",
      "Epoch 94, CIFAR-10 Batch 4:  Validation accurancy : 0.6355999112129211, 0.31858527660369873\n",
      "Epoch 94, CIFAR-10 Batch 5:  Validation accurancy : 0.640799880027771, 0.2995941936969757\n",
      "Epoch 95, CIFAR-10 Batch 1:  Validation accurancy : 0.6289998292922974, 0.34840521216392517\n",
      "Epoch 95, CIFAR-10 Batch 2:  Validation accurancy : 0.6421998739242554, 0.2814118266105652\n",
      "Epoch 95, CIFAR-10 Batch 3:  Validation accurancy : 0.6421998739242554, 0.29356974363327026\n",
      "Epoch 95, CIFAR-10 Batch 4:  Validation accurancy : 0.635799765586853, 0.3358538746833801\n",
      "Epoch 95, CIFAR-10 Batch 5:  Validation accurancy : 0.6375998854637146, 0.2639088034629822\n",
      "Epoch 96, CIFAR-10 Batch 1:  Validation accurancy : 0.6143999099731445, 0.37256553769111633\n",
      "Epoch 96, CIFAR-10 Batch 2:  Validation accurancy : 0.6289999485015869, 0.3113611340522766\n",
      "Epoch 96, CIFAR-10 Batch 3:  Validation accurancy : 0.6439998745918274, 0.25620120763778687\n",
      "Epoch 96, CIFAR-10 Batch 4:  Validation accurancy : 0.6429998874664307, 0.3329916000366211\n",
      "Epoch 96, CIFAR-10 Batch 5:  Validation accurancy : 0.6365998983383179, 0.25445908308029175\n",
      "Epoch 97, CIFAR-10 Batch 1:  Validation accurancy : 0.634199857711792, 0.34084799885749817\n",
      "Epoch 97, CIFAR-10 Batch 2:  Validation accurancy : 0.6335999369621277, 0.29149699211120605\n",
      "Epoch 97, CIFAR-10 Batch 3:  Validation accurancy : 0.6445998549461365, 0.26638519763946533\n",
      "Epoch 97, CIFAR-10 Batch 4:  Validation accurancy : 0.638999879360199, 0.3837844729423523\n",
      "Epoch 97, CIFAR-10 Batch 5:  Validation accurancy : 0.6439999341964722, 0.2874281704425812\n",
      "Epoch 98, CIFAR-10 Batch 1:  Validation accurancy : 0.6341999173164368, 0.3254399001598358\n",
      "Epoch 98, CIFAR-10 Batch 2:  Validation accurancy : 0.6305999159812927, 0.32152771949768066\n",
      "Epoch 98, CIFAR-10 Batch 3:  Validation accurancy : 0.6463999152183533, 0.2850819230079651\n",
      "Epoch 98, CIFAR-10 Batch 4:  Validation accurancy : 0.6281998157501221, 0.33446842432022095\n",
      "Epoch 98, CIFAR-10 Batch 5:  Validation accurancy : 0.6435998678207397, 0.2578960359096527\n",
      "Epoch 99, CIFAR-10 Batch 1:  Validation accurancy : 0.6343998908996582, 0.32085761427879333\n",
      "Epoch 99, CIFAR-10 Batch 2:  Validation accurancy : 0.6329998970031738, 0.26733964681625366\n",
      "Epoch 99, CIFAR-10 Batch 3:  Validation accurancy : 0.6469998359680176, 0.25231271982192993\n",
      "Epoch 99, CIFAR-10 Batch 4:  Validation accurancy : 0.6387999057769775, 0.35891786217689514\n",
      "Epoch 99, CIFAR-10 Batch 5:  Validation accurancy : 0.6411998271942139, 0.2538505494594574\n",
      "Epoch 100, CIFAR-10 Batch 1:  Validation accurancy : 0.6039999127388, 0.42977064847946167\n",
      "Epoch 100, CIFAR-10 Batch 2:  Validation accurancy : 0.6393998861312866, 0.2733386754989624\n",
      "Epoch 100, CIFAR-10 Batch 3:  Validation accurancy : 0.6431998610496521, 0.25064611434936523\n",
      "Epoch 100, CIFAR-10 Batch 4:  Validation accurancy : 0.6273998618125916, 0.32905644178390503\n",
      "Epoch 100, CIFAR-10 Batch 5:  Validation accurancy : 0.6417998671531677, 0.2601674795150757\n"
     ]
    }
   ],
   "source": [
    "\"\"\"\n",
    "DON'T MODIFY ANYTHING IN THIS CELL\n",
    "\"\"\"\n",
    "save_model_path = './image_classification'\n",
    "\n",
    "print('Training...')\n",
    "with tf.Session() as sess:\n",
    "    # Initializing the variables\n",
    "    sess.run(tf.global_variables_initializer())\n",
    "    \n",
    "    # Training cycle\n",
    "    for epoch in range(epochs):\n",
    "        # Loop over all batches\n",
    "        n_batches = 5\n",
    "        for batch_i in range(1, n_batches + 1):\n",
    "            for batch_features, batch_labels in helper.load_preprocess_training_batch(batch_i, batch_size):\n",
    "                train_neural_network(sess, optimizer, keep_probability, batch_features, batch_labels)\n",
    "            print('Epoch {:>2}, CIFAR-10 Batch {}:  '.format(epoch + 1, batch_i), end='')\n",
    "            print_stats(sess, batch_features, batch_labels, cost, accuracy)\n",
    "            \n",
    "    # Save Model\n",
    "    saver = tf.train.Saver()\n",
    "    save_path = saver.save(sess, save_model_path)"
   ]
  },
  {
   "cell_type": "markdown",
   "metadata": {
    "deletable": true,
    "editable": true
   },
   "source": [
    "# Checkpoint\n",
    "The model has been saved to disk.\n",
    "## Test Model\n",
    "Test your model against the test dataset.  This will be your final accuracy. You should have an accuracy greater than 50%. If you don't, keep tweaking the model architecture and parameters."
   ]
  },
  {
   "cell_type": "code",
   "execution_count": 13,
   "metadata": {
    "collapsed": false,
    "deletable": true,
    "editable": true
   },
   "outputs": [
    {
     "name": "stdout",
     "output_type": "stream",
     "text": [
      "Testing Accuracy: 0.63427734375\n",
      "\n"
     ]
    },
    {
     "data": {
      "image/png": "[encoded data removed]",
      "text/plain": [
       "<matplotlib.figure.Figure at 0x7f7d3b3c2080>"
      ]
     },
     "metadata": {
      "image/png": {
       "height": 319,
       "width": 355
      }
     },
     "output_type": "display_data"
    }
   ],
   "source": [
    "\"\"\"\n",
    "DON'T MODIFY ANYTHING IN THIS CELL\n",
    "\"\"\"\n",
    "%matplotlib inline\n",
    "%config InlineBackend.figure_format = 'retina'\n",
    "\n",
    "import tensorflow as tf\n",
    "import pickle\n",
    "import helper\n",
    "import random\n",
    "\n",
    "# Set batch size if not already set\n",
    "try:\n",
    "    if batch_size:\n",
    "        pass\n",
    "except NameError:\n",
    "    batch_size = 64\n",
    "\n",
    "save_model_path = './image_classification'\n",
    "n_samples = 4\n",
    "top_n_predictions = 3\n",
    "\n",
    "def test_model():\n",
    "    \"\"\"\n",
    "    Test the saved model against the test dataset\n",
    "    \"\"\"\n",
    "\n",
    "    test_features, test_labels = pickle.load(open('preprocess_training.p', mode='rb'))\n",
    "    loaded_graph = tf.Graph()\n",
    "\n",
    "    with tf.Session(graph=loaded_graph) as sess:\n",
    "        # Load model\n",
    "        loader = tf.train.import_meta_graph(save_model_path + '.meta')\n",
    "        loader.restore(sess, save_model_path)\n",
    "\n",
    "        # Get Tensors from loaded model\n",
    "        loaded_x = loaded_graph.get_tensor_by_name('x:0')\n",
    "        loaded_y = loaded_graph.get_tensor_by_name('y:0')\n",
    "        loaded_keep_prob = loaded_graph.get_tensor_by_name('keep_prob:0')\n",
    "        loaded_logits = loaded_graph.get_tensor_by_name('logits:0')\n",
    "        loaded_acc = loaded_graph.get_tensor_by_name('accuracy:0')\n",
    "        \n",
    "        # Get accuracy in batches for memory limitations\n",
    "        test_batch_acc_total = 0\n",
    "        test_batch_count = 0\n",
    "        \n",
    "        for train_feature_batch, train_label_batch in helper.batch_features_labels(test_features, test_labels, batch_size):\n",
    "            test_batch_acc_total += sess.run(\n",
    "                loaded_acc,\n",
    "                feed_dict={loaded_x: train_feature_batch, loaded_y: train_label_batch, loaded_keep_prob: 1.0})\n",
    "            test_batch_count += 1\n",
    "\n",
    "        print('Testing Accuracy: {}\\n'.format(test_batch_acc_total/test_batch_count))\n",
    "\n",
    "        # Print Random Samples\n",
    "        random_test_features, random_test_labels = tuple(zip(*random.sample(list(zip(test_features, test_labels)), n_samples)))\n",
    "        random_test_predictions = sess.run(\n",
    "            tf.nn.top_k(tf.nn.softmax(loaded_logits), top_n_predictions),\n",
    "            feed_dict={loaded_x: random_test_features, loaded_y: random_test_labels, loaded_keep_prob: 1.0})\n",
    "        helper.display_image_predictions(random_test_features, random_test_labels, random_test_predictions)\n",
    "\n",
    "\n",
    "test_model()"
   ]
  },
  {
   "cell_type": "markdown",
   "metadata": {
    "deletable": true,
    "editable": true
   },
   "source": [
    "## Why 50-70% Accuracy?\n",
    "You might be wondering why you can't get an accuracy any higher. First things first, 50% isn't bad for a simple CNN.  Pure guessing would get you 10% accuracy. However, you might notice people are getting scores [well above 70%](http://rodrigob.github.io/are_we_there_yet/build/classification_datasets_results.html#43494641522d3130).  That's because we haven't taught you all there is to know about neural networks. We still need to cover a few more techniques.\n",
    "## Submitting This Project\n",
    "When submitting this project, make sure to run all the cells before saving the notebook.  Save the notebook file as \"dlnd_image_classification.ipynb\" and save it as a HTML file under \"File\" -> \"Download as\".  Include the \"helper.py\" and \"problem_unittests.py\" files in your submission."
   ]
  }
 ],
 "metadata": {
  "kernelspec": {
   "display_name": "Python 3",
   "language": "python",
   "name": "python3"
  },
  "language_info": {
   "codemirror_mode": {
    "name": "ipython",
    "version": 3
   },
   "file_extension": ".py",
   "mimetype": "text/x-python",
   "name": "python",
   "nbconvert_exporter": "python",
   "pygments_lexer": "ipython3",
   "version": "3.5.2"
  },
  "widgets": {
   "state": {},
   "version": "1.1.2"
  }
 },
 "nbformat": 4,
 "nbformat_minor": 0
}
